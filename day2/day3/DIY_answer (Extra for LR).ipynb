{
 "cells": [
  {
   "cell_type": "code",
   "execution_count": 1,
   "metadata": {},
   "outputs": [],
   "source": [
    "import numpy as np\n",
    "import pandas as pd\n",
    "from IPython.core.interactiveshell import InteractiveShell\n",
    "InteractiveShell.ast_node_interactivity = \"all\""
   ]
  },
  {
   "cell_type": "code",
   "execution_count": 2,
   "metadata": {},
   "outputs": [],
   "source": [
    "df = pd.read_csv('Bank.csv') # 분석할 데이터 불러오기"
   ]
  },
  {
   "cell_type": "code",
   "execution_count": 3,
   "metadata": {
    "scrolled": true
   },
   "outputs": [],
   "source": [
    "X = df.iloc[:, :-1] # 독립변수 matrix"
   ]
  },
  {
   "cell_type": "code",
   "execution_count": 4,
   "metadata": {},
   "outputs": [],
   "source": [
    "y = df.iloc[:, -1] # 종속변수 matrix"
   ]
  },
  {
   "cell_type": "code",
   "execution_count": 14,
   "metadata": {},
   "outputs": [],
   "source": [
    "y = y.replace('no', 0) # 종속변수의 no를 0으로 변환\n",
    "y = y.replace('yes', 1) # 종속변수의 yes를 1로 변환"
   ]
  },
  {
   "cell_type": "code",
   "execution_count": 52,
   "metadata": {
    "scrolled": true
   },
   "outputs": [],
   "source": [
    "# 독립변수가 연속형인 데이터\n",
    "X_num = df.iloc[:, [0, 5, 9, 11, 12, 13, 14]]\n",
    "# 독립변수가 이산형인 데이터\n",
    "X_cat = df.iloc[:, [1, 2, 3, 4, 6, 7, 8, 10, 15]]"
   ]
  },
  {
   "cell_type": "code",
   "execution_count": 5,
   "metadata": {},
   "outputs": [
    {
     "data": {
      "text/plain": [
       "(19, 87, 41.11130939103279)"
      ]
     },
     "execution_count": 5,
     "metadata": {},
     "output_type": "execute_result"
    },
    {
     "data": {
      "text/plain": [
       "(-3313, 71188, 1421.987731429846)"
      ]
     },
     "execution_count": 5,
     "metadata": {},
     "output_type": "execute_result"
    },
    {
     "data": {
      "text/plain": [
       "(1, 31, 15.91590452821771)"
      ]
     },
     "execution_count": 5,
     "metadata": {},
     "output_type": "execute_result"
    }
   ],
   "source": [
    "# 1번째 독립변수의 최소값, 최대값, 평균값 확인\n",
    "\"\"\"\"\"\"np.min(X.iloc[:, 0]), np.max(X.iloc[:, 0]), np.mean(X.iloc[:, 0])\n",
    "# 6번째 독립변수의 최소값, 최대값, 평균값 확인\n",
    "\"\"\"\"\"\"np.min(X.iloc[:, 5]), np.max(X.iloc[:, 5]), np.mean(X.iloc[:, 5])\n",
    "# 10번째 독립변수의 최소값, 최대값, 평균값 확인\n",
    "\"\"\"\"\"\"np.min(X.iloc[:, 9]), np.max(X.iloc[:, 9]), np.mean(X.iloc[:, 9])"
   ]
  },
  {
   "cell_type": "code",
   "execution_count": 7,
   "metadata": {},
   "outputs": [],
   "source": [
    "# 1번째 독립변수를 35세 미만은 under35\n",
    "# 35세 이상 50세 미만은 under50\n",
    "# 50세 이상은 upper50으로 이산화 시키기\n",
    "under35_idx = np.where(X.iloc[:, 0] < 35)[0]\n",
    "under50_idx = np.where((35 <= X.iloc[:, 0]) & (X.iloc[:, 0] < 50))[0]\n",
    "upper50_idx = np.where(50 <= X.iloc[:, 0])[0]\n",
    "\n",
    "X.iloc[under35_idx, 0] = 'under35'\n",
    "X.iloc[under50_idx, 0] = 'under50'\n",
    "X.iloc[upper50_idx, 0] = 'upper50'"
   ]
  },
  {
   "cell_type": "code",
   "execution_count": 8,
   "metadata": {},
   "outputs": [
    {
     "data": {
      "text/plain": [
       "(1468, 2006, 1009)"
      ]
     },
     "execution_count": 8,
     "metadata": {},
     "output_type": "execute_result"
    }
   ],
   "source": [
    "# 이산화 완료된 1번째 변수의 value 별 개수 확인\n",
    "sum(X.iloc[:, 0] == 'under35'), sum(X.iloc[:, 0] == 'under50'), sum(X.iloc[:, 0] == 'upper50')"
   ]
  },
  {
   "cell_type": "code",
   "execution_count": 9,
   "metadata": {},
   "outputs": [],
   "source": [
    "# 6번째 독립변수를 0원 미만은 negative\n",
    "# 0원 이상 5000원 미만은 normal\n",
    "# 5000원 이상은 wealthy로 이산화 시키기\n",
    "\"\"\"\"\"\"negative_idx = np.where(X.iloc[:, 5] < 0)[0]\n",
    "normal_idx = np.where((0 <= X.iloc[:, 5]) & (X.iloc[:, 5] < 5000))[0]\n",
    "wealthy_idx = np.where(5000 <= X.iloc[:, 5])[0]\n",
    "\n",
    "X.iloc[negative_idx, 5] = 'negative'\n",
    "X.iloc[normal_idx, 5] = 'normal'\n",
    "X.iloc[wealthy_idx, 5] = 'wealthy'"
   ]
  },
  {
   "cell_type": "code",
   "execution_count": 10,
   "metadata": {},
   "outputs": [
    {
     "data": {
      "text/plain": [
       "(366, 3811, 306)"
      ]
     },
     "execution_count": 10,
     "metadata": {},
     "output_type": "execute_result"
    }
   ],
   "source": [
    "# 이산화 완료된 6번째 변수의 value 별 개수 확인\n",
    "sum(X.iloc[:, 5] == 'negative'), sum(X.iloc[:, 5] == 'normal'), sum(X.iloc[:, 5] == 'wealthy')"
   ]
  },
  {
   "cell_type": "code",
   "execution_count": 11,
   "metadata": {},
   "outputs": [],
   "source": [
    "# 10번째 독립변수를 15일 이하는 first_half\n",
    "# 15일 초과는 latter_half로 이산화 시키기\n",
    "\"\"\"\"\"\"first_idx = np.where(X.iloc[:, 9] <= 15)[0]\n",
    "latter_idx = np.where(15 < X.iloc[:, 9])[0]\n",
    "\n",
    "X.iloc[first_idx, 9] = 'first_half'\n",
    "X.iloc[latter_idx, 9] = 'latter_half'"
   ]
  },
  {
   "cell_type": "code",
   "execution_count": 12,
   "metadata": {},
   "outputs": [
    {
     "data": {
      "text/plain": [
       "(2154, 2329)"
      ]
     },
     "execution_count": 12,
     "metadata": {},
     "output_type": "execute_result"
    }
   ],
   "source": [
    "# 이산화 완료된 10번째 변수의 value 별 개수 확인\n",
    "\"\"\"\"\"\"sum(X.iloc[:, 9] == 'first_half'), sum(X.iloc[:, 9] == 'latter_half')"
   ]
  },
  {
   "cell_type": "code",
   "execution_count": 13,
   "metadata": {},
   "outputs": [],
   "source": [
    "# 독립변수가 연속형인 데이터\n",
    "\"\"\"\"\"\"X_num = X.iloc[:, [11, 12, 13, 14]]\n",
    "# 독립변수가 이산형인 데이터\n",
    "\"\"\"\"\"\"X_cat = X.iloc[:, [0, 1, 2, 3, 4, 5, 6, 7, 8, 9, 10, 15]]"
   ]
  },
  {
   "cell_type": "code",
   "execution_count": 15,
   "metadata": {},
   "outputs": [],
   "source": [
    "tmp_df = X_cat # 이산형 데이터는 임시로 다른 곳에 저장\n",
    "final_X = X_num # 연속형 데이터는 dummy 변수가 필요 없으므로 분석할 데이터에 저장\n",
    "\n",
    "# 이산형 데이터를 하나씩 dummy 변수로 변환하는 작업 수행\n",
    "for i in X_cat.columns:\n",
    "    cat_list = pd.get_dummies(tmp_df[i], drop_first = True, prefix = i)\n",
    "    final_X = final_X.join(cat_list) # dummy 변수로 만든 이산형 데이터를 분석용 데이터에 합치기"
   ]
  },
  {
   "cell_type": "code",
   "execution_count": 16,
   "metadata": {},
   "outputs": [],
   "source": [
    "# Logistic regression 함수 import\n",
    "from sklearn.linear_model import LogisticRegression\n",
    "# k-fold cross-validation 함수 import\n",
    "from sklearn.model_selection import KFold\n",
    "\n",
    "logit_reg = LogisticRegression() # Logistic regression 함수 명명"
   ]
  },
  {
   "cell_type": "code",
   "execution_count": 17,
   "metadata": {},
   "outputs": [],
   "source": [
    "# scaling 함수 import\n",
    "from sklearn.preprocessing import StandardScaler"
   ]
  },
  {
   "cell_type": "code",
   "execution_count": 18,
   "metadata": {},
   "outputs": [
    {
     "name": "stderr",
     "output_type": "stream",
     "text": [
      "/home/pirl/anaconda3/lib/python3.7/site-packages/sklearn/preprocessing/data.py:625: DataConversionWarning: Data with input dtype int64 were all converted to float64 by StandardScaler.\n",
      "  return self.partial_fit(X, y)\n",
      "/home/pirl/anaconda3/lib/python3.7/site-packages/ipykernel_launcher.py:23: DataConversionWarning: Data with input dtype int64 were all converted to float64 by StandardScaler.\n",
      "/home/pirl/anaconda3/lib/python3.7/site-packages/sklearn/linear_model/logistic.py:433: FutureWarning: Default solver will be changed to 'lbfgs' in 0.22. Specify a solver to silence this warning.\n",
      "  FutureWarning)\n",
      "/home/pirl/anaconda3/lib/python3.7/site-packages/ipykernel_launcher.py:30: DataConversionWarning: Data with input dtype int64 were all converted to float64 by StandardScaler.\n",
      "/home/pirl/anaconda3/lib/python3.7/site-packages/sklearn/preprocessing/data.py:625: DataConversionWarning: Data with input dtype int64 were all converted to float64 by StandardScaler.\n",
      "  return self.partial_fit(X, y)\n",
      "/home/pirl/anaconda3/lib/python3.7/site-packages/ipykernel_launcher.py:23: DataConversionWarning: Data with input dtype int64 were all converted to float64 by StandardScaler.\n",
      "/home/pirl/anaconda3/lib/python3.7/site-packages/sklearn/linear_model/logistic.py:433: FutureWarning: Default solver will be changed to 'lbfgs' in 0.22. Specify a solver to silence this warning.\n",
      "  FutureWarning)\n",
      "/home/pirl/anaconda3/lib/python3.7/site-packages/ipykernel_launcher.py:30: DataConversionWarning: Data with input dtype int64 were all converted to float64 by StandardScaler.\n",
      "/home/pirl/anaconda3/lib/python3.7/site-packages/sklearn/preprocessing/data.py:625: DataConversionWarning: Data with input dtype int64 were all converted to float64 by StandardScaler.\n",
      "  return self.partial_fit(X, y)\n",
      "/home/pirl/anaconda3/lib/python3.7/site-packages/ipykernel_launcher.py:23: DataConversionWarning: Data with input dtype int64 were all converted to float64 by StandardScaler.\n",
      "/home/pirl/anaconda3/lib/python3.7/site-packages/sklearn/linear_model/logistic.py:433: FutureWarning: Default solver will be changed to 'lbfgs' in 0.22. Specify a solver to silence this warning.\n",
      "  FutureWarning)\n",
      "/home/pirl/anaconda3/lib/python3.7/site-packages/ipykernel_launcher.py:30: DataConversionWarning: Data with input dtype int64 were all converted to float64 by StandardScaler.\n",
      "/home/pirl/anaconda3/lib/python3.7/site-packages/sklearn/preprocessing/data.py:625: DataConversionWarning: Data with input dtype int64 were all converted to float64 by StandardScaler.\n",
      "  return self.partial_fit(X, y)\n",
      "/home/pirl/anaconda3/lib/python3.7/site-packages/ipykernel_launcher.py:23: DataConversionWarning: Data with input dtype int64 were all converted to float64 by StandardScaler.\n",
      "/home/pirl/anaconda3/lib/python3.7/site-packages/sklearn/linear_model/logistic.py:433: FutureWarning: Default solver will be changed to 'lbfgs' in 0.22. Specify a solver to silence this warning.\n",
      "  FutureWarning)\n",
      "/home/pirl/anaconda3/lib/python3.7/site-packages/ipykernel_launcher.py:30: DataConversionWarning: Data with input dtype int64 were all converted to float64 by StandardScaler.\n",
      "/home/pirl/anaconda3/lib/python3.7/site-packages/sklearn/preprocessing/data.py:625: DataConversionWarning: Data with input dtype int64 were all converted to float64 by StandardScaler.\n",
      "  return self.partial_fit(X, y)\n",
      "/home/pirl/anaconda3/lib/python3.7/site-packages/ipykernel_launcher.py:23: DataConversionWarning: Data with input dtype int64 were all converted to float64 by StandardScaler.\n",
      "/home/pirl/anaconda3/lib/python3.7/site-packages/sklearn/linear_model/logistic.py:433: FutureWarning: Default solver will be changed to 'lbfgs' in 0.22. Specify a solver to silence this warning.\n",
      "  FutureWarning)\n",
      "/home/pirl/anaconda3/lib/python3.7/site-packages/ipykernel_launcher.py:30: DataConversionWarning: Data with input dtype int64 were all converted to float64 by StandardScaler.\n",
      "/home/pirl/anaconda3/lib/python3.7/site-packages/sklearn/preprocessing/data.py:625: DataConversionWarning: Data with input dtype int64 were all converted to float64 by StandardScaler.\n",
      "  return self.partial_fit(X, y)\n",
      "/home/pirl/anaconda3/lib/python3.7/site-packages/ipykernel_launcher.py:23: DataConversionWarning: Data with input dtype int64 were all converted to float64 by StandardScaler.\n",
      "/home/pirl/anaconda3/lib/python3.7/site-packages/sklearn/linear_model/logistic.py:433: FutureWarning: Default solver will be changed to 'lbfgs' in 0.22. Specify a solver to silence this warning.\n",
      "  FutureWarning)\n",
      "/home/pirl/anaconda3/lib/python3.7/site-packages/ipykernel_launcher.py:30: DataConversionWarning: Data with input dtype int64 were all converted to float64 by StandardScaler.\n",
      "/home/pirl/anaconda3/lib/python3.7/site-packages/sklearn/preprocessing/data.py:625: DataConversionWarning: Data with input dtype int64 were all converted to float64 by StandardScaler.\n",
      "  return self.partial_fit(X, y)\n",
      "/home/pirl/anaconda3/lib/python3.7/site-packages/ipykernel_launcher.py:23: DataConversionWarning: Data with input dtype int64 were all converted to float64 by StandardScaler.\n",
      "/home/pirl/anaconda3/lib/python3.7/site-packages/sklearn/linear_model/logistic.py:433: FutureWarning: Default solver will be changed to 'lbfgs' in 0.22. Specify a solver to silence this warning.\n",
      "  FutureWarning)\n",
      "/home/pirl/anaconda3/lib/python3.7/site-packages/ipykernel_launcher.py:30: DataConversionWarning: Data with input dtype int64 were all converted to float64 by StandardScaler.\n",
      "/home/pirl/anaconda3/lib/python3.7/site-packages/sklearn/preprocessing/data.py:625: DataConversionWarning: Data with input dtype int64 were all converted to float64 by StandardScaler.\n",
      "  return self.partial_fit(X, y)\n",
      "/home/pirl/anaconda3/lib/python3.7/site-packages/ipykernel_launcher.py:23: DataConversionWarning: Data with input dtype int64 were all converted to float64 by StandardScaler.\n",
      "/home/pirl/anaconda3/lib/python3.7/site-packages/sklearn/linear_model/logistic.py:433: FutureWarning: Default solver will be changed to 'lbfgs' in 0.22. Specify a solver to silence this warning.\n",
      "  FutureWarning)\n",
      "/home/pirl/anaconda3/lib/python3.7/site-packages/ipykernel_launcher.py:30: DataConversionWarning: Data with input dtype int64 were all converted to float64 by StandardScaler.\n",
      "/home/pirl/anaconda3/lib/python3.7/site-packages/sklearn/preprocessing/data.py:625: DataConversionWarning: Data with input dtype int64 were all converted to float64 by StandardScaler.\n",
      "  return self.partial_fit(X, y)\n",
      "/home/pirl/anaconda3/lib/python3.7/site-packages/ipykernel_launcher.py:23: DataConversionWarning: Data with input dtype int64 were all converted to float64 by StandardScaler.\n",
      "/home/pirl/anaconda3/lib/python3.7/site-packages/sklearn/linear_model/logistic.py:433: FutureWarning: Default solver will be changed to 'lbfgs' in 0.22. Specify a solver to silence this warning.\n",
      "  FutureWarning)\n",
      "/home/pirl/anaconda3/lib/python3.7/site-packages/ipykernel_launcher.py:30: DataConversionWarning: Data with input dtype int64 were all converted to float64 by StandardScaler.\n",
      "/home/pirl/anaconda3/lib/python3.7/site-packages/sklearn/preprocessing/data.py:625: DataConversionWarning: Data with input dtype int64 were all converted to float64 by StandardScaler.\n",
      "  return self.partial_fit(X, y)\n",
      "/home/pirl/anaconda3/lib/python3.7/site-packages/ipykernel_launcher.py:23: DataConversionWarning: Data with input dtype int64 were all converted to float64 by StandardScaler.\n",
      "/home/pirl/anaconda3/lib/python3.7/site-packages/sklearn/linear_model/logistic.py:433: FutureWarning: Default solver will be changed to 'lbfgs' in 0.22. Specify a solver to silence this warning.\n",
      "  FutureWarning)\n",
      "/home/pirl/anaconda3/lib/python3.7/site-packages/ipykernel_launcher.py:30: DataConversionWarning: Data with input dtype int64 were all converted to float64 by StandardScaler.\n",
      "/home/pirl/anaconda3/lib/python3.7/site-packages/sklearn/preprocessing/data.py:625: DataConversionWarning: Data with input dtype int64 were all converted to float64 by StandardScaler.\n",
      "  return self.partial_fit(X, y)\n",
      "/home/pirl/anaconda3/lib/python3.7/site-packages/ipykernel_launcher.py:23: DataConversionWarning: Data with input dtype int64 were all converted to float64 by StandardScaler.\n",
      "/home/pirl/anaconda3/lib/python3.7/site-packages/sklearn/linear_model/logistic.py:433: FutureWarning: Default solver will be changed to 'lbfgs' in 0.22. Specify a solver to silence this warning.\n",
      "  FutureWarning)\n",
      "/home/pirl/anaconda3/lib/python3.7/site-packages/ipykernel_launcher.py:30: DataConversionWarning: Data with input dtype int64 were all converted to float64 by StandardScaler.\n",
      "/home/pirl/anaconda3/lib/python3.7/site-packages/sklearn/preprocessing/data.py:625: DataConversionWarning: Data with input dtype int64 were all converted to float64 by StandardScaler.\n",
      "  return self.partial_fit(X, y)\n",
      "/home/pirl/anaconda3/lib/python3.7/site-packages/ipykernel_launcher.py:23: DataConversionWarning: Data with input dtype int64 were all converted to float64 by StandardScaler.\n",
      "/home/pirl/anaconda3/lib/python3.7/site-packages/sklearn/linear_model/logistic.py:433: FutureWarning: Default solver will be changed to 'lbfgs' in 0.22. Specify a solver to silence this warning.\n",
      "  FutureWarning)\n",
      "/home/pirl/anaconda3/lib/python3.7/site-packages/ipykernel_launcher.py:30: DataConversionWarning: Data with input dtype int64 were all converted to float64 by StandardScaler.\n",
      "/home/pirl/anaconda3/lib/python3.7/site-packages/sklearn/preprocessing/data.py:625: DataConversionWarning: Data with input dtype int64 were all converted to float64 by StandardScaler.\n",
      "  return self.partial_fit(X, y)\n",
      "/home/pirl/anaconda3/lib/python3.7/site-packages/ipykernel_launcher.py:23: DataConversionWarning: Data with input dtype int64 were all converted to float64 by StandardScaler.\n",
      "/home/pirl/anaconda3/lib/python3.7/site-packages/sklearn/linear_model/logistic.py:433: FutureWarning: Default solver will be changed to 'lbfgs' in 0.22. Specify a solver to silence this warning.\n",
      "  FutureWarning)\n",
      "/home/pirl/anaconda3/lib/python3.7/site-packages/ipykernel_launcher.py:30: DataConversionWarning: Data with input dtype int64 were all converted to float64 by StandardScaler.\n",
      "/home/pirl/anaconda3/lib/python3.7/site-packages/sklearn/preprocessing/data.py:625: DataConversionWarning: Data with input dtype int64 were all converted to float64 by StandardScaler.\n",
      "  return self.partial_fit(X, y)\n",
      "/home/pirl/anaconda3/lib/python3.7/site-packages/ipykernel_launcher.py:23: DataConversionWarning: Data with input dtype int64 were all converted to float64 by StandardScaler.\n",
      "/home/pirl/anaconda3/lib/python3.7/site-packages/sklearn/linear_model/logistic.py:433: FutureWarning: Default solver will be changed to 'lbfgs' in 0.22. Specify a solver to silence this warning.\n",
      "  FutureWarning)\n",
      "/home/pirl/anaconda3/lib/python3.7/site-packages/ipykernel_launcher.py:30: DataConversionWarning: Data with input dtype int64 were all converted to float64 by StandardScaler.\n",
      "/home/pirl/anaconda3/lib/python3.7/site-packages/sklearn/preprocessing/data.py:625: DataConversionWarning: Data with input dtype int64 were all converted to float64 by StandardScaler.\n",
      "  return self.partial_fit(X, y)\n",
      "/home/pirl/anaconda3/lib/python3.7/site-packages/ipykernel_launcher.py:23: DataConversionWarning: Data with input dtype int64 were all converted to float64 by StandardScaler.\n",
      "/home/pirl/anaconda3/lib/python3.7/site-packages/sklearn/linear_model/logistic.py:433: FutureWarning: Default solver will be changed to 'lbfgs' in 0.22. Specify a solver to silence this warning.\n",
      "  FutureWarning)\n",
      "/home/pirl/anaconda3/lib/python3.7/site-packages/ipykernel_launcher.py:30: DataConversionWarning: Data with input dtype int64 were all converted to float64 by StandardScaler.\n",
      "/home/pirl/anaconda3/lib/python3.7/site-packages/sklearn/preprocessing/data.py:625: DataConversionWarning: Data with input dtype int64 were all converted to float64 by StandardScaler.\n",
      "  return self.partial_fit(X, y)\n",
      "/home/pirl/anaconda3/lib/python3.7/site-packages/ipykernel_launcher.py:23: DataConversionWarning: Data with input dtype int64 were all converted to float64 by StandardScaler.\n",
      "/home/pirl/anaconda3/lib/python3.7/site-packages/sklearn/linear_model/logistic.py:433: FutureWarning: Default solver will be changed to 'lbfgs' in 0.22. Specify a solver to silence this warning.\n",
      "  FutureWarning)\n",
      "/home/pirl/anaconda3/lib/python3.7/site-packages/ipykernel_launcher.py:30: DataConversionWarning: Data with input dtype int64 were all converted to float64 by StandardScaler.\n",
      "/home/pirl/anaconda3/lib/python3.7/site-packages/sklearn/preprocessing/data.py:625: DataConversionWarning: Data with input dtype int64 were all converted to float64 by StandardScaler.\n",
      "  return self.partial_fit(X, y)\n",
      "/home/pirl/anaconda3/lib/python3.7/site-packages/ipykernel_launcher.py:23: DataConversionWarning: Data with input dtype int64 were all converted to float64 by StandardScaler.\n",
      "/home/pirl/anaconda3/lib/python3.7/site-packages/sklearn/linear_model/logistic.py:433: FutureWarning: Default solver will be changed to 'lbfgs' in 0.22. Specify a solver to silence this warning.\n",
      "  FutureWarning)\n"
     ]
    },
    {
     "name": "stderr",
     "output_type": "stream",
     "text": [
      "/home/pirl/anaconda3/lib/python3.7/site-packages/ipykernel_launcher.py:30: DataConversionWarning: Data with input dtype int64 were all converted to float64 by StandardScaler.\n",
      "/home/pirl/anaconda3/lib/python3.7/site-packages/sklearn/preprocessing/data.py:625: DataConversionWarning: Data with input dtype int64 were all converted to float64 by StandardScaler.\n",
      "  return self.partial_fit(X, y)\n",
      "/home/pirl/anaconda3/lib/python3.7/site-packages/ipykernel_launcher.py:23: DataConversionWarning: Data with input dtype int64 were all converted to float64 by StandardScaler.\n",
      "/home/pirl/anaconda3/lib/python3.7/site-packages/sklearn/linear_model/logistic.py:433: FutureWarning: Default solver will be changed to 'lbfgs' in 0.22. Specify a solver to silence this warning.\n",
      "  FutureWarning)\n",
      "/home/pirl/anaconda3/lib/python3.7/site-packages/ipykernel_launcher.py:30: DataConversionWarning: Data with input dtype int64 were all converted to float64 by StandardScaler.\n",
      "/home/pirl/anaconda3/lib/python3.7/site-packages/sklearn/preprocessing/data.py:625: DataConversionWarning: Data with input dtype int64 were all converted to float64 by StandardScaler.\n",
      "  return self.partial_fit(X, y)\n",
      "/home/pirl/anaconda3/lib/python3.7/site-packages/ipykernel_launcher.py:23: DataConversionWarning: Data with input dtype int64 were all converted to float64 by StandardScaler.\n",
      "/home/pirl/anaconda3/lib/python3.7/site-packages/sklearn/linear_model/logistic.py:433: FutureWarning: Default solver will be changed to 'lbfgs' in 0.22. Specify a solver to silence this warning.\n",
      "  FutureWarning)\n",
      "/home/pirl/anaconda3/lib/python3.7/site-packages/ipykernel_launcher.py:30: DataConversionWarning: Data with input dtype int64 were all converted to float64 by StandardScaler.\n",
      "/home/pirl/anaconda3/lib/python3.7/site-packages/sklearn/preprocessing/data.py:625: DataConversionWarning: Data with input dtype int64 were all converted to float64 by StandardScaler.\n",
      "  return self.partial_fit(X, y)\n",
      "/home/pirl/anaconda3/lib/python3.7/site-packages/ipykernel_launcher.py:23: DataConversionWarning: Data with input dtype int64 were all converted to float64 by StandardScaler.\n",
      "/home/pirl/anaconda3/lib/python3.7/site-packages/sklearn/linear_model/logistic.py:433: FutureWarning: Default solver will be changed to 'lbfgs' in 0.22. Specify a solver to silence this warning.\n",
      "  FutureWarning)\n",
      "/home/pirl/anaconda3/lib/python3.7/site-packages/ipykernel_launcher.py:30: DataConversionWarning: Data with input dtype int64 were all converted to float64 by StandardScaler.\n",
      "/home/pirl/anaconda3/lib/python3.7/site-packages/sklearn/preprocessing/data.py:625: DataConversionWarning: Data with input dtype int64 were all converted to float64 by StandardScaler.\n",
      "  return self.partial_fit(X, y)\n",
      "/home/pirl/anaconda3/lib/python3.7/site-packages/ipykernel_launcher.py:23: DataConversionWarning: Data with input dtype int64 were all converted to float64 by StandardScaler.\n",
      "/home/pirl/anaconda3/lib/python3.7/site-packages/sklearn/linear_model/logistic.py:433: FutureWarning: Default solver will be changed to 'lbfgs' in 0.22. Specify a solver to silence this warning.\n",
      "  FutureWarning)\n",
      "/home/pirl/anaconda3/lib/python3.7/site-packages/ipykernel_launcher.py:30: DataConversionWarning: Data with input dtype int64 were all converted to float64 by StandardScaler.\n",
      "/home/pirl/anaconda3/lib/python3.7/site-packages/sklearn/preprocessing/data.py:625: DataConversionWarning: Data with input dtype int64 were all converted to float64 by StandardScaler.\n",
      "  return self.partial_fit(X, y)\n",
      "/home/pirl/anaconda3/lib/python3.7/site-packages/ipykernel_launcher.py:23: DataConversionWarning: Data with input dtype int64 were all converted to float64 by StandardScaler.\n",
      "/home/pirl/anaconda3/lib/python3.7/site-packages/sklearn/linear_model/logistic.py:433: FutureWarning: Default solver will be changed to 'lbfgs' in 0.22. Specify a solver to silence this warning.\n",
      "  FutureWarning)\n",
      "/home/pirl/anaconda3/lib/python3.7/site-packages/ipykernel_launcher.py:30: DataConversionWarning: Data with input dtype int64 were all converted to float64 by StandardScaler.\n",
      "/home/pirl/anaconda3/lib/python3.7/site-packages/sklearn/preprocessing/data.py:625: DataConversionWarning: Data with input dtype int64 were all converted to float64 by StandardScaler.\n",
      "  return self.partial_fit(X, y)\n",
      "/home/pirl/anaconda3/lib/python3.7/site-packages/ipykernel_launcher.py:23: DataConversionWarning: Data with input dtype int64 were all converted to float64 by StandardScaler.\n",
      "/home/pirl/anaconda3/lib/python3.7/site-packages/sklearn/linear_model/logistic.py:433: FutureWarning: Default solver will be changed to 'lbfgs' in 0.22. Specify a solver to silence this warning.\n",
      "  FutureWarning)\n",
      "/home/pirl/anaconda3/lib/python3.7/site-packages/ipykernel_launcher.py:30: DataConversionWarning: Data with input dtype int64 were all converted to float64 by StandardScaler.\n",
      "/home/pirl/anaconda3/lib/python3.7/site-packages/sklearn/preprocessing/data.py:625: DataConversionWarning: Data with input dtype int64 were all converted to float64 by StandardScaler.\n",
      "  return self.partial_fit(X, y)\n",
      "/home/pirl/anaconda3/lib/python3.7/site-packages/ipykernel_launcher.py:23: DataConversionWarning: Data with input dtype int64 were all converted to float64 by StandardScaler.\n",
      "/home/pirl/anaconda3/lib/python3.7/site-packages/sklearn/linear_model/logistic.py:433: FutureWarning: Default solver will be changed to 'lbfgs' in 0.22. Specify a solver to silence this warning.\n",
      "  FutureWarning)\n",
      "/home/pirl/anaconda3/lib/python3.7/site-packages/ipykernel_launcher.py:30: DataConversionWarning: Data with input dtype int64 were all converted to float64 by StandardScaler.\n",
      "/home/pirl/anaconda3/lib/python3.7/site-packages/sklearn/preprocessing/data.py:625: DataConversionWarning: Data with input dtype int64 were all converted to float64 by StandardScaler.\n",
      "  return self.partial_fit(X, y)\n",
      "/home/pirl/anaconda3/lib/python3.7/site-packages/ipykernel_launcher.py:23: DataConversionWarning: Data with input dtype int64 were all converted to float64 by StandardScaler.\n",
      "/home/pirl/anaconda3/lib/python3.7/site-packages/sklearn/linear_model/logistic.py:433: FutureWarning: Default solver will be changed to 'lbfgs' in 0.22. Specify a solver to silence this warning.\n",
      "  FutureWarning)\n",
      "/home/pirl/anaconda3/lib/python3.7/site-packages/ipykernel_launcher.py:30: DataConversionWarning: Data with input dtype int64 were all converted to float64 by StandardScaler.\n",
      "/home/pirl/anaconda3/lib/python3.7/site-packages/sklearn/preprocessing/data.py:625: DataConversionWarning: Data with input dtype int64 were all converted to float64 by StandardScaler.\n",
      "  return self.partial_fit(X, y)\n",
      "/home/pirl/anaconda3/lib/python3.7/site-packages/ipykernel_launcher.py:23: DataConversionWarning: Data with input dtype int64 were all converted to float64 by StandardScaler.\n",
      "/home/pirl/anaconda3/lib/python3.7/site-packages/sklearn/linear_model/logistic.py:433: FutureWarning: Default solver will be changed to 'lbfgs' in 0.22. Specify a solver to silence this warning.\n",
      "  FutureWarning)\n",
      "/home/pirl/anaconda3/lib/python3.7/site-packages/ipykernel_launcher.py:30: DataConversionWarning: Data with input dtype int64 were all converted to float64 by StandardScaler.\n",
      "/home/pirl/anaconda3/lib/python3.7/site-packages/sklearn/preprocessing/data.py:625: DataConversionWarning: Data with input dtype int64 were all converted to float64 by StandardScaler.\n",
      "  return self.partial_fit(X, y)\n",
      "/home/pirl/anaconda3/lib/python3.7/site-packages/ipykernel_launcher.py:23: DataConversionWarning: Data with input dtype int64 were all converted to float64 by StandardScaler.\n",
      "/home/pirl/anaconda3/lib/python3.7/site-packages/sklearn/linear_model/logistic.py:433: FutureWarning: Default solver will be changed to 'lbfgs' in 0.22. Specify a solver to silence this warning.\n",
      "  FutureWarning)\n",
      "/home/pirl/anaconda3/lib/python3.7/site-packages/ipykernel_launcher.py:30: DataConversionWarning: Data with input dtype int64 were all converted to float64 by StandardScaler.\n",
      "/home/pirl/anaconda3/lib/python3.7/site-packages/sklearn/preprocessing/data.py:625: DataConversionWarning: Data with input dtype int64 were all converted to float64 by StandardScaler.\n",
      "  return self.partial_fit(X, y)\n",
      "/home/pirl/anaconda3/lib/python3.7/site-packages/ipykernel_launcher.py:23: DataConversionWarning: Data with input dtype int64 were all converted to float64 by StandardScaler.\n",
      "/home/pirl/anaconda3/lib/python3.7/site-packages/sklearn/linear_model/logistic.py:433: FutureWarning: Default solver will be changed to 'lbfgs' in 0.22. Specify a solver to silence this warning.\n",
      "  FutureWarning)\n",
      "/home/pirl/anaconda3/lib/python3.7/site-packages/ipykernel_launcher.py:30: DataConversionWarning: Data with input dtype int64 were all converted to float64 by StandardScaler.\n",
      "/home/pirl/anaconda3/lib/python3.7/site-packages/sklearn/preprocessing/data.py:625: DataConversionWarning: Data with input dtype int64 were all converted to float64 by StandardScaler.\n",
      "  return self.partial_fit(X, y)\n",
      "/home/pirl/anaconda3/lib/python3.7/site-packages/ipykernel_launcher.py:23: DataConversionWarning: Data with input dtype int64 were all converted to float64 by StandardScaler.\n",
      "/home/pirl/anaconda3/lib/python3.7/site-packages/sklearn/linear_model/logistic.py:433: FutureWarning: Default solver will be changed to 'lbfgs' in 0.22. Specify a solver to silence this warning.\n",
      "  FutureWarning)\n",
      "/home/pirl/anaconda3/lib/python3.7/site-packages/ipykernel_launcher.py:30: DataConversionWarning: Data with input dtype int64 were all converted to float64 by StandardScaler.\n",
      "/home/pirl/anaconda3/lib/python3.7/site-packages/sklearn/preprocessing/data.py:625: DataConversionWarning: Data with input dtype int64 were all converted to float64 by StandardScaler.\n",
      "  return self.partial_fit(X, y)\n",
      "/home/pirl/anaconda3/lib/python3.7/site-packages/ipykernel_launcher.py:23: DataConversionWarning: Data with input dtype int64 were all converted to float64 by StandardScaler.\n",
      "/home/pirl/anaconda3/lib/python3.7/site-packages/sklearn/linear_model/logistic.py:433: FutureWarning: Default solver will be changed to 'lbfgs' in 0.22. Specify a solver to silence this warning.\n",
      "  FutureWarning)\n",
      "/home/pirl/anaconda3/lib/python3.7/site-packages/ipykernel_launcher.py:30: DataConversionWarning: Data with input dtype int64 were all converted to float64 by StandardScaler.\n",
      "/home/pirl/anaconda3/lib/python3.7/site-packages/sklearn/preprocessing/data.py:625: DataConversionWarning: Data with input dtype int64 were all converted to float64 by StandardScaler.\n",
      "  return self.partial_fit(X, y)\n",
      "/home/pirl/anaconda3/lib/python3.7/site-packages/ipykernel_launcher.py:23: DataConversionWarning: Data with input dtype int64 were all converted to float64 by StandardScaler.\n",
      "/home/pirl/anaconda3/lib/python3.7/site-packages/sklearn/linear_model/logistic.py:433: FutureWarning: Default solver will be changed to 'lbfgs' in 0.22. Specify a solver to silence this warning.\n",
      "  FutureWarning)\n",
      "/home/pirl/anaconda3/lib/python3.7/site-packages/ipykernel_launcher.py:30: DataConversionWarning: Data with input dtype int64 were all converted to float64 by StandardScaler.\n",
      "/home/pirl/anaconda3/lib/python3.7/site-packages/sklearn/preprocessing/data.py:625: DataConversionWarning: Data with input dtype int64 were all converted to float64 by StandardScaler.\n",
      "  return self.partial_fit(X, y)\n",
      "/home/pirl/anaconda3/lib/python3.7/site-packages/ipykernel_launcher.py:23: DataConversionWarning: Data with input dtype int64 were all converted to float64 by StandardScaler.\n",
      "/home/pirl/anaconda3/lib/python3.7/site-packages/sklearn/linear_model/logistic.py:433: FutureWarning: Default solver will be changed to 'lbfgs' in 0.22. Specify a solver to silence this warning.\n",
      "  FutureWarning)\n",
      "/home/pirl/anaconda3/lib/python3.7/site-packages/ipykernel_launcher.py:30: DataConversionWarning: Data with input dtype int64 were all converted to float64 by StandardScaler.\n",
      "/home/pirl/anaconda3/lib/python3.7/site-packages/sklearn/preprocessing/data.py:625: DataConversionWarning: Data with input dtype int64 were all converted to float64 by StandardScaler.\n",
      "  return self.partial_fit(X, y)\n",
      "/home/pirl/anaconda3/lib/python3.7/site-packages/ipykernel_launcher.py:23: DataConversionWarning: Data with input dtype int64 were all converted to float64 by StandardScaler.\n",
      "/home/pirl/anaconda3/lib/python3.7/site-packages/sklearn/linear_model/logistic.py:433: FutureWarning: Default solver will be changed to 'lbfgs' in 0.22. Specify a solver to silence this warning.\n",
      "  FutureWarning)\n",
      "/home/pirl/anaconda3/lib/python3.7/site-packages/ipykernel_launcher.py:30: DataConversionWarning: Data with input dtype int64 were all converted to float64 by StandardScaler.\n",
      "/home/pirl/anaconda3/lib/python3.7/site-packages/sklearn/preprocessing/data.py:625: DataConversionWarning: Data with input dtype int64 were all converted to float64 by StandardScaler.\n",
      "  return self.partial_fit(X, y)\n",
      "/home/pirl/anaconda3/lib/python3.7/site-packages/ipykernel_launcher.py:23: DataConversionWarning: Data with input dtype int64 were all converted to float64 by StandardScaler.\n",
      "/home/pirl/anaconda3/lib/python3.7/site-packages/sklearn/linear_model/logistic.py:433: FutureWarning: Default solver will be changed to 'lbfgs' in 0.22. Specify a solver to silence this warning.\n",
      "  FutureWarning)\n"
     ]
    },
    {
     "name": "stderr",
     "output_type": "stream",
     "text": [
      "/home/pirl/anaconda3/lib/python3.7/site-packages/ipykernel_launcher.py:30: DataConversionWarning: Data with input dtype int64 were all converted to float64 by StandardScaler.\n",
      "/home/pirl/anaconda3/lib/python3.7/site-packages/sklearn/preprocessing/data.py:625: DataConversionWarning: Data with input dtype int64 were all converted to float64 by StandardScaler.\n",
      "  return self.partial_fit(X, y)\n",
      "/home/pirl/anaconda3/lib/python3.7/site-packages/ipykernel_launcher.py:23: DataConversionWarning: Data with input dtype int64 were all converted to float64 by StandardScaler.\n",
      "/home/pirl/anaconda3/lib/python3.7/site-packages/sklearn/linear_model/logistic.py:433: FutureWarning: Default solver will be changed to 'lbfgs' in 0.22. Specify a solver to silence this warning.\n",
      "  FutureWarning)\n",
      "/home/pirl/anaconda3/lib/python3.7/site-packages/ipykernel_launcher.py:30: DataConversionWarning: Data with input dtype int64 were all converted to float64 by StandardScaler.\n",
      "/home/pirl/anaconda3/lib/python3.7/site-packages/sklearn/preprocessing/data.py:625: DataConversionWarning: Data with input dtype int64 were all converted to float64 by StandardScaler.\n",
      "  return self.partial_fit(X, y)\n",
      "/home/pirl/anaconda3/lib/python3.7/site-packages/ipykernel_launcher.py:23: DataConversionWarning: Data with input dtype int64 were all converted to float64 by StandardScaler.\n",
      "/home/pirl/anaconda3/lib/python3.7/site-packages/sklearn/linear_model/logistic.py:433: FutureWarning: Default solver will be changed to 'lbfgs' in 0.22. Specify a solver to silence this warning.\n",
      "  FutureWarning)\n",
      "/home/pirl/anaconda3/lib/python3.7/site-packages/ipykernel_launcher.py:30: DataConversionWarning: Data with input dtype int64 were all converted to float64 by StandardScaler.\n",
      "/home/pirl/anaconda3/lib/python3.7/site-packages/sklearn/preprocessing/data.py:625: DataConversionWarning: Data with input dtype int64 were all converted to float64 by StandardScaler.\n",
      "  return self.partial_fit(X, y)\n",
      "/home/pirl/anaconda3/lib/python3.7/site-packages/ipykernel_launcher.py:23: DataConversionWarning: Data with input dtype int64 were all converted to float64 by StandardScaler.\n",
      "/home/pirl/anaconda3/lib/python3.7/site-packages/sklearn/linear_model/logistic.py:433: FutureWarning: Default solver will be changed to 'lbfgs' in 0.22. Specify a solver to silence this warning.\n",
      "  FutureWarning)\n",
      "/home/pirl/anaconda3/lib/python3.7/site-packages/ipykernel_launcher.py:30: DataConversionWarning: Data with input dtype int64 were all converted to float64 by StandardScaler.\n",
      "/home/pirl/anaconda3/lib/python3.7/site-packages/sklearn/preprocessing/data.py:625: DataConversionWarning: Data with input dtype int64 were all converted to float64 by StandardScaler.\n",
      "  return self.partial_fit(X, y)\n",
      "/home/pirl/anaconda3/lib/python3.7/site-packages/ipykernel_launcher.py:23: DataConversionWarning: Data with input dtype int64 were all converted to float64 by StandardScaler.\n",
      "/home/pirl/anaconda3/lib/python3.7/site-packages/sklearn/linear_model/logistic.py:433: FutureWarning: Default solver will be changed to 'lbfgs' in 0.22. Specify a solver to silence this warning.\n",
      "  FutureWarning)\n",
      "/home/pirl/anaconda3/lib/python3.7/site-packages/ipykernel_launcher.py:30: DataConversionWarning: Data with input dtype int64 were all converted to float64 by StandardScaler.\n",
      "/home/pirl/anaconda3/lib/python3.7/site-packages/sklearn/preprocessing/data.py:625: DataConversionWarning: Data with input dtype int64 were all converted to float64 by StandardScaler.\n",
      "  return self.partial_fit(X, y)\n",
      "/home/pirl/anaconda3/lib/python3.7/site-packages/ipykernel_launcher.py:23: DataConversionWarning: Data with input dtype int64 were all converted to float64 by StandardScaler.\n",
      "/home/pirl/anaconda3/lib/python3.7/site-packages/sklearn/linear_model/logistic.py:433: FutureWarning: Default solver will be changed to 'lbfgs' in 0.22. Specify a solver to silence this warning.\n",
      "  FutureWarning)\n",
      "/home/pirl/anaconda3/lib/python3.7/site-packages/ipykernel_launcher.py:30: DataConversionWarning: Data with input dtype int64 were all converted to float64 by StandardScaler.\n",
      "/home/pirl/anaconda3/lib/python3.7/site-packages/sklearn/preprocessing/data.py:625: DataConversionWarning: Data with input dtype int64 were all converted to float64 by StandardScaler.\n",
      "  return self.partial_fit(X, y)\n",
      "/home/pirl/anaconda3/lib/python3.7/site-packages/ipykernel_launcher.py:23: DataConversionWarning: Data with input dtype int64 were all converted to float64 by StandardScaler.\n",
      "/home/pirl/anaconda3/lib/python3.7/site-packages/sklearn/linear_model/logistic.py:433: FutureWarning: Default solver will be changed to 'lbfgs' in 0.22. Specify a solver to silence this warning.\n",
      "  FutureWarning)\n",
      "/home/pirl/anaconda3/lib/python3.7/site-packages/ipykernel_launcher.py:30: DataConversionWarning: Data with input dtype int64 were all converted to float64 by StandardScaler.\n",
      "/home/pirl/anaconda3/lib/python3.7/site-packages/sklearn/preprocessing/data.py:625: DataConversionWarning: Data with input dtype int64 were all converted to float64 by StandardScaler.\n",
      "  return self.partial_fit(X, y)\n",
      "/home/pirl/anaconda3/lib/python3.7/site-packages/ipykernel_launcher.py:23: DataConversionWarning: Data with input dtype int64 were all converted to float64 by StandardScaler.\n",
      "/home/pirl/anaconda3/lib/python3.7/site-packages/sklearn/linear_model/logistic.py:433: FutureWarning: Default solver will be changed to 'lbfgs' in 0.22. Specify a solver to silence this warning.\n",
      "  FutureWarning)\n",
      "/home/pirl/anaconda3/lib/python3.7/site-packages/ipykernel_launcher.py:30: DataConversionWarning: Data with input dtype int64 were all converted to float64 by StandardScaler.\n",
      "/home/pirl/anaconda3/lib/python3.7/site-packages/sklearn/preprocessing/data.py:625: DataConversionWarning: Data with input dtype int64 were all converted to float64 by StandardScaler.\n",
      "  return self.partial_fit(X, y)\n",
      "/home/pirl/anaconda3/lib/python3.7/site-packages/ipykernel_launcher.py:23: DataConversionWarning: Data with input dtype int64 were all converted to float64 by StandardScaler.\n",
      "/home/pirl/anaconda3/lib/python3.7/site-packages/sklearn/linear_model/logistic.py:433: FutureWarning: Default solver will be changed to 'lbfgs' in 0.22. Specify a solver to silence this warning.\n",
      "  FutureWarning)\n",
      "/home/pirl/anaconda3/lib/python3.7/site-packages/ipykernel_launcher.py:30: DataConversionWarning: Data with input dtype int64 were all converted to float64 by StandardScaler.\n",
      "/home/pirl/anaconda3/lib/python3.7/site-packages/sklearn/preprocessing/data.py:625: DataConversionWarning: Data with input dtype int64 were all converted to float64 by StandardScaler.\n",
      "  return self.partial_fit(X, y)\n",
      "/home/pirl/anaconda3/lib/python3.7/site-packages/ipykernel_launcher.py:23: DataConversionWarning: Data with input dtype int64 were all converted to float64 by StandardScaler.\n",
      "/home/pirl/anaconda3/lib/python3.7/site-packages/sklearn/linear_model/logistic.py:433: FutureWarning: Default solver will be changed to 'lbfgs' in 0.22. Specify a solver to silence this warning.\n",
      "  FutureWarning)\n",
      "/home/pirl/anaconda3/lib/python3.7/site-packages/ipykernel_launcher.py:30: DataConversionWarning: Data with input dtype int64 were all converted to float64 by StandardScaler.\n",
      "/home/pirl/anaconda3/lib/python3.7/site-packages/sklearn/preprocessing/data.py:625: DataConversionWarning: Data with input dtype int64 were all converted to float64 by StandardScaler.\n",
      "  return self.partial_fit(X, y)\n",
      "/home/pirl/anaconda3/lib/python3.7/site-packages/ipykernel_launcher.py:23: DataConversionWarning: Data with input dtype int64 were all converted to float64 by StandardScaler.\n",
      "/home/pirl/anaconda3/lib/python3.7/site-packages/sklearn/linear_model/logistic.py:433: FutureWarning: Default solver will be changed to 'lbfgs' in 0.22. Specify a solver to silence this warning.\n",
      "  FutureWarning)\n",
      "/home/pirl/anaconda3/lib/python3.7/site-packages/ipykernel_launcher.py:30: DataConversionWarning: Data with input dtype int64 were all converted to float64 by StandardScaler.\n",
      "/home/pirl/anaconda3/lib/python3.7/site-packages/sklearn/preprocessing/data.py:625: DataConversionWarning: Data with input dtype int64 were all converted to float64 by StandardScaler.\n",
      "  return self.partial_fit(X, y)\n",
      "/home/pirl/anaconda3/lib/python3.7/site-packages/ipykernel_launcher.py:23: DataConversionWarning: Data with input dtype int64 were all converted to float64 by StandardScaler.\n",
      "/home/pirl/anaconda3/lib/python3.7/site-packages/sklearn/linear_model/logistic.py:433: FutureWarning: Default solver will be changed to 'lbfgs' in 0.22. Specify a solver to silence this warning.\n",
      "  FutureWarning)\n",
      "/home/pirl/anaconda3/lib/python3.7/site-packages/ipykernel_launcher.py:30: DataConversionWarning: Data with input dtype int64 were all converted to float64 by StandardScaler.\n",
      "/home/pirl/anaconda3/lib/python3.7/site-packages/sklearn/preprocessing/data.py:625: DataConversionWarning: Data with input dtype int64 were all converted to float64 by StandardScaler.\n",
      "  return self.partial_fit(X, y)\n",
      "/home/pirl/anaconda3/lib/python3.7/site-packages/ipykernel_launcher.py:23: DataConversionWarning: Data with input dtype int64 were all converted to float64 by StandardScaler.\n",
      "/home/pirl/anaconda3/lib/python3.7/site-packages/sklearn/linear_model/logistic.py:433: FutureWarning: Default solver will be changed to 'lbfgs' in 0.22. Specify a solver to silence this warning.\n",
      "  FutureWarning)\n",
      "/home/pirl/anaconda3/lib/python3.7/site-packages/ipykernel_launcher.py:30: DataConversionWarning: Data with input dtype int64 were all converted to float64 by StandardScaler.\n",
      "/home/pirl/anaconda3/lib/python3.7/site-packages/sklearn/preprocessing/data.py:625: DataConversionWarning: Data with input dtype int64 were all converted to float64 by StandardScaler.\n",
      "  return self.partial_fit(X, y)\n",
      "/home/pirl/anaconda3/lib/python3.7/site-packages/ipykernel_launcher.py:23: DataConversionWarning: Data with input dtype int64 were all converted to float64 by StandardScaler.\n",
      "/home/pirl/anaconda3/lib/python3.7/site-packages/sklearn/linear_model/logistic.py:433: FutureWarning: Default solver will be changed to 'lbfgs' in 0.22. Specify a solver to silence this warning.\n",
      "  FutureWarning)\n",
      "/home/pirl/anaconda3/lib/python3.7/site-packages/ipykernel_launcher.py:30: DataConversionWarning: Data with input dtype int64 were all converted to float64 by StandardScaler.\n",
      "/home/pirl/anaconda3/lib/python3.7/site-packages/sklearn/preprocessing/data.py:625: DataConversionWarning: Data with input dtype int64 were all converted to float64 by StandardScaler.\n",
      "  return self.partial_fit(X, y)\n",
      "/home/pirl/anaconda3/lib/python3.7/site-packages/ipykernel_launcher.py:23: DataConversionWarning: Data with input dtype int64 were all converted to float64 by StandardScaler.\n",
      "/home/pirl/anaconda3/lib/python3.7/site-packages/sklearn/linear_model/logistic.py:433: FutureWarning: Default solver will be changed to 'lbfgs' in 0.22. Specify a solver to silence this warning.\n",
      "  FutureWarning)\n",
      "/home/pirl/anaconda3/lib/python3.7/site-packages/ipykernel_launcher.py:30: DataConversionWarning: Data with input dtype int64 were all converted to float64 by StandardScaler.\n",
      "/home/pirl/anaconda3/lib/python3.7/site-packages/sklearn/preprocessing/data.py:625: DataConversionWarning: Data with input dtype int64 were all converted to float64 by StandardScaler.\n",
      "  return self.partial_fit(X, y)\n",
      "/home/pirl/anaconda3/lib/python3.7/site-packages/ipykernel_launcher.py:23: DataConversionWarning: Data with input dtype int64 were all converted to float64 by StandardScaler.\n",
      "/home/pirl/anaconda3/lib/python3.7/site-packages/sklearn/linear_model/logistic.py:433: FutureWarning: Default solver will be changed to 'lbfgs' in 0.22. Specify a solver to silence this warning.\n",
      "  FutureWarning)\n",
      "/home/pirl/anaconda3/lib/python3.7/site-packages/ipykernel_launcher.py:30: DataConversionWarning: Data with input dtype int64 were all converted to float64 by StandardScaler.\n",
      "/home/pirl/anaconda3/lib/python3.7/site-packages/sklearn/preprocessing/data.py:625: DataConversionWarning: Data with input dtype int64 were all converted to float64 by StandardScaler.\n",
      "  return self.partial_fit(X, y)\n",
      "/home/pirl/anaconda3/lib/python3.7/site-packages/ipykernel_launcher.py:23: DataConversionWarning: Data with input dtype int64 were all converted to float64 by StandardScaler.\n",
      "/home/pirl/anaconda3/lib/python3.7/site-packages/sklearn/linear_model/logistic.py:433: FutureWarning: Default solver will be changed to 'lbfgs' in 0.22. Specify a solver to silence this warning.\n",
      "  FutureWarning)\n",
      "/home/pirl/anaconda3/lib/python3.7/site-packages/ipykernel_launcher.py:30: DataConversionWarning: Data with input dtype int64 were all converted to float64 by StandardScaler.\n"
     ]
    }
   ],
   "source": [
    "n_iter = 10 # 전체 실험 반복 횟수\n",
    "\n",
    "iter_train_result = [] # training set의 전체 값 초기화\n",
    "iter_test_result = [] # test set의 전체 값 초기화\n",
    "\n",
    "for epoch in np.arange(n_iter):\n",
    "    \n",
    "    cv = KFold(n_splits = 5, shuffle = True) # 5-fold cv 함수 입력\n",
    "    \n",
    "    fold_train_result = 0 # training set의 5-fold R-squared 값 초기화\n",
    "    fold_test_result = 0 # test set의 5-fold R-squared 값 초기화\n",
    "    \n",
    "    for tr_idx, te_idx in cv.split(final_X):\n",
    "        \n",
    "        X_train = final_X.iloc[tr_idx] # cross-validation index를 통한 독립변수 training set\n",
    "        X_test = final_X.iloc[te_idx] # cross-validation index를 통한 독립변수 test set\n",
    "        y_train = y[tr_idx] # cross-validation index를 통한 종속변수 training set\n",
    "        y_test = y[te_idx] # cross-validation index를 통한 종속변수 test set\n",
    "                \n",
    "        scaler = StandardScaler() # scaler 함수 명명\n",
    "        scaler = scaler.fit(X_train.iloc[:, 0:np.shape(X_num)[1]]) # scaler 함수 fitting\n",
    "        # training set 내 연속형 데이터의 scaling\n",
    "        zs_X_train = scaler.transform(X_train.iloc[:, 0:np.shape(X_num)[1]])\n",
    "        # training set의 연속형과 이산형 데이터 합치기\n",
    "        zs_X_train = np.c_[zs_X_train, X_train.iloc[:, np.shape(X_num)[1]:].values]\n",
    "        \n",
    "        \"\"\"\"\"\"logit_reg = logit_reg.fit(zs_X_train, y_train) # Logistic regression 예측 모형 학습\n",
    "        \n",
    "        # test set 내 연속형 데이터의 scaling (training set의 정보 이용)\n",
    "        zs_X_test = scaler.transform(X_test.iloc[:, 0:np.shape(X_num)[1]])\n",
    "        # test set의 연속형과 이산형 데이터 합치기\n",
    "        zs_X_test = np.c_[zs_X_test, X_test.iloc[:, np.shape(X_num)[1]:].values]\n",
    "        \n",
    "        # 5-fold의 training set 학습 결과 저장\n",
    "        fold_train_result += logit_reg.score(zs_X_train, y_train)\n",
    "        # 5-fold의 test set 학습 결과 저장\n",
    "        fold_test_result += logit_reg.score(zs_X_test, y_test)\n",
    "    \n",
    "    # 5-fold의 training set 학습 결과의 평균\n",
    "    fold_train_result = fold_train_result / cv.get_n_splits(final_X)\n",
    "    # 5-fold의 test set 학습 결과의 평균\n",
    "    fold_test_result = fold_test_result / cv.get_n_splits(final_X)\n",
    "    \n",
    "    iter_train_result = iter_train_result + [fold_train_result] # training set의 전체 R-squared 값 저장\n",
    "    iter_test_result = iter_test_result + [fold_test_result] # test set의 전체 R-squared 값 저장"
   ]
  },
  {
   "cell_type": "code",
   "execution_count": 19,
   "metadata": {},
   "outputs": [
    {
     "data": {
      "text/plain": [
       "0.9025930814487652"
      ]
     },
     "execution_count": 19,
     "metadata": {},
     "output_type": "execute_result"
    },
    {
     "data": {
      "text/plain": [
       "0.0003456068027903152"
      ]
     },
     "execution_count": 19,
     "metadata": {},
     "output_type": "execute_result"
    }
   ],
   "source": [
    "# training set의 logistic regression 결과값 (평균값 & 표준편차)\n",
    "\"\"\"\"\"\"train_mean = np.mean(iter_train_result)\n",
    "train_mean\n",
    "\"\"\"\"\"\"train_std = np.std(iter_train_result)\n",
    "train_std"
   ]
  },
  {
   "cell_type": "code",
   "execution_count": 20,
   "metadata": {},
   "outputs": [
    {
     "data": {
      "text/plain": [
       "0.9002002707437489"
      ]
     },
     "execution_count": 20,
     "metadata": {},
     "output_type": "execute_result"
    },
    {
     "data": {
      "text/plain": [
       "0.001138671805609043"
      ]
     },
     "execution_count": 20,
     "metadata": {},
     "output_type": "execute_result"
    }
   ],
   "source": [
    "# test set의 logistic regression 결과값 (평균값 & 표준편차)\n",
    "\"\"\"\"\"\"test_mean = np.mean(iter_test_result)\n",
    "test_mean\n",
    "\"\"\"\"\"\"test_std = np.std(iter_test_result)\n",
    "test_std"
   ]
  },
  {
   "cell_type": "code",
   "execution_count": null,
   "metadata": {},
   "outputs": [],
   "source": []
  },
  {
   "cell_type": "code",
   "execution_count": 21,
   "metadata": {},
   "outputs": [],
   "source": [
    "# Logistic regression 함수 import\n",
    "from sklearn.linear_model import LogisticRegression\n",
    "logit_reg_cf = LogisticRegression() # Logistic regression 함수 명명"
   ]
  },
  {
   "cell_type": "code",
   "execution_count": 22,
   "metadata": {},
   "outputs": [
    {
     "name": "stderr",
     "output_type": "stream",
     "text": [
      "/home/pirl/anaconda3/lib/python3.7/site-packages/sklearn/preprocessing/data.py:625: DataConversionWarning: Data with input dtype int64 were all converted to float64 by StandardScaler.\n",
      "  return self.partial_fit(X, y)\n"
     ]
    }
   ],
   "source": [
    "from sklearn.preprocessing import StandardScaler\n",
    "scaler = StandardScaler() # scaler 함수 명명\n",
    "scaler = scaler.fit(final_X.iloc[:, 0:np.shape(X_num)[1]]) # scaler 함수 fitting"
   ]
  },
  {
   "cell_type": "code",
   "execution_count": 23,
   "metadata": {},
   "outputs": [
    {
     "name": "stderr",
     "output_type": "stream",
     "text": [
      "/home/pirl/anaconda3/lib/python3.7/site-packages/ipykernel_launcher.py:2: DataConversionWarning: Data with input dtype int64 were all converted to float64 by StandardScaler.\n",
      "  \n"
     ]
    }
   ],
   "source": [
    "# 전체데이터 내 연속형 데이터의 scaling\n",
    "zs_final_X = scaler.transform(final_X.iloc[:, 0:np.shape(X_num)[1]])\n",
    "# 전체데이터의 연속형과 이산형 데이터 합치기\n",
    "zs_final_X = np.c_[zs_final_X, final_X.iloc[:, np.shape(X_num)[1]:].values]"
   ]
  },
  {
   "cell_type": "code",
   "execution_count": 24,
   "metadata": {},
   "outputs": [
    {
     "name": "stderr",
     "output_type": "stream",
     "text": [
      "/home/pirl/anaconda3/lib/python3.7/site-packages/sklearn/linear_model/logistic.py:433: FutureWarning: Default solver will be changed to 'lbfgs' in 0.22. Specify a solver to silence this warning.\n",
      "  FutureWarning)\n"
     ]
    },
    {
     "data": {
      "text/plain": [
       "LogisticRegression(C=1.0, class_weight=None, dual=False, fit_intercept=True,\n",
       "          intercept_scaling=1, max_iter=100, multi_class='warn',\n",
       "          n_jobs=None, penalty='l2', random_state=None, solver='warn',\n",
       "          tol=0.0001, verbose=0, warm_start=False)"
      ]
     },
     "execution_count": 24,
     "metadata": {},
     "output_type": "execute_result"
    }
   ],
   "source": [
    "# 전체데이터를 통한 logistic regression 예측 모형 학습\n",
    "\"\"\"\"\"\"logit_reg_cf.fit(zs_final_X, y)"
   ]
  },
  {
   "cell_type": "code",
   "execution_count": 25,
   "metadata": {},
   "outputs": [],
   "source": [
    "# transform to original values\n",
    "std_coef = np.r_[scaler.var_ ** 0.5, np.ones(np.shape(final_X)[1] - np.shape(X_num)[1])]"
   ]
  },
  {
   "cell_type": "code",
   "execution_count": 26,
   "metadata": {},
   "outputs": [],
   "source": [
    "# 원래의 변수에 대한 회귀 계수들의 승수비 (odds ratio)\n",
    "\"\"\"\"\"\"odds_ratio = np.exp(logit_reg_cf.coef_ / std_coef)"
   ]
  },
  {
   "cell_type": "code",
   "execution_count": 27,
   "metadata": {},
   "outputs": [
    {
     "data": {
      "text/html": [
       "<div>\n",
       "<style scoped>\n",
       "    .dataframe tbody tr th:only-of-type {\n",
       "        vertical-align: middle;\n",
       "    }\n",
       "\n",
       "    .dataframe tbody tr th {\n",
       "        vertical-align: top;\n",
       "    }\n",
       "\n",
       "    .dataframe thead th {\n",
       "        text-align: right;\n",
       "    }\n",
       "</style>\n",
       "<table border=\"1\" class=\"dataframe\">\n",
       "  <thead>\n",
       "    <tr style=\"text-align: right;\">\n",
       "      <th></th>\n",
       "      <th>duration</th>\n",
       "      <th>campaign</th>\n",
       "      <th>pdays</th>\n",
       "      <th>previous</th>\n",
       "      <th>age_under50</th>\n",
       "      <th>age_upper50</th>\n",
       "      <th>job_blue-collar</th>\n",
       "      <th>job_retired</th>\n",
       "      <th>job_self-employed</th>\n",
       "      <th>job_services</th>\n",
       "      <th>...</th>\n",
       "      <th>balance_wealthy</th>\n",
       "      <th>housing_yes</th>\n",
       "      <th>loan_yes</th>\n",
       "      <th>contact_telephone</th>\n",
       "      <th>contact_unknown</th>\n",
       "      <th>day_latter_half</th>\n",
       "      <th>month_latter_half</th>\n",
       "      <th>poutcome_other</th>\n",
       "      <th>poutcome_success</th>\n",
       "      <th>poutcome_unknown</th>\n",
       "    </tr>\n",
       "  </thead>\n",
       "  <tbody>\n",
       "    <tr>\n",
       "      <th>0</th>\n",
       "      <td>1.004011</td>\n",
       "      <td>0.940539</td>\n",
       "      <td>0.999095</td>\n",
       "      <td>0.994475</td>\n",
       "      <td>0.926856</td>\n",
       "      <td>0.88117</td>\n",
       "      <td>0.656082</td>\n",
       "      <td>1.947277</td>\n",
       "      <td>0.780598</td>\n",
       "      <td>0.825015</td>\n",
       "      <td>...</td>\n",
       "      <td>0.787579</td>\n",
       "      <td>0.578756</td>\n",
       "      <td>0.482985</td>\n",
       "      <td>0.94105</td>\n",
       "      <td>0.304586</td>\n",
       "      <td>1.024534</td>\n",
       "      <td>0.763071</td>\n",
       "      <td>1.404451</td>\n",
       "      <td>9.642006</td>\n",
       "      <td>0.625558</td>\n",
       "    </tr>\n",
       "  </tbody>\n",
       "</table>\n",
       "<p>1 rows × 29 columns</p>\n",
       "</div>"
      ],
      "text/plain": [
       "   duration  campaign     pdays  previous  age_under50  age_upper50  \\\n",
       "0  1.004011  0.940539  0.999095  0.994475     0.926856      0.88117   \n",
       "\n",
       "   job_blue-collar  job_retired  job_self-employed  job_services  \\\n",
       "0         0.656082     1.947277           0.780598      0.825015   \n",
       "\n",
       "         ...         balance_wealthy  housing_yes  loan_yes  \\\n",
       "0        ...                0.787579     0.578756  0.482985   \n",
       "\n",
       "   contact_telephone  contact_unknown  day_latter_half  month_latter_half  \\\n",
       "0            0.94105         0.304586         1.024534           0.763071   \n",
       "\n",
       "   poutcome_other  poutcome_success  poutcome_unknown  \n",
       "0        1.404451          9.642006          0.625558  \n",
       "\n",
       "[1 rows x 29 columns]"
      ]
     },
     "execution_count": 27,
     "metadata": {},
     "output_type": "execute_result"
    }
   ],
   "source": [
    "# 승수비 결과를 pandas의 data frame으로 정리\n",
    "\"\"\"\"\"\"Final_Results = pd.DataFrame(odds_ratio, columns = final_X.columns)\n",
    "Final_Results"
   ]
  },
  {
   "cell_type": "code",
   "execution_count": null,
   "metadata": {},
   "outputs": [],
   "source": []
  }
 ],
 "metadata": {
  "kernelspec": {
   "display_name": "Python 3",
   "language": "python",
   "name": "python3"
  },
  "language_info": {
   "codemirror_mode": {
    "name": "ipython",
    "version": 3
   },
   "file_extension": ".py",
   "mimetype": "text/x-python",
   "name": "python",
   "nbconvert_exporter": "python",
   "pygments_lexer": "ipython3",
   "version": "3.7.1"
  }
 },
 "nbformat": 4,
 "nbformat_minor": 2
}
