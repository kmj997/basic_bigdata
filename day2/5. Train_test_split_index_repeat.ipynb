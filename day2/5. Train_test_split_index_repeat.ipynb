{
 "cells": [
  {
   "cell_type": "code",
   "execution_count": 1,
   "metadata": {},
   "outputs": [],
   "source": [
    "# 라이브러리 import\n",
    "import numpy as np\n",
    "import pandas as pd\n",
    "import statsmodels.api as sm"
   ]
  },
  {
   "cell_type": "code",
   "execution_count": 2,
   "metadata": {},
   "outputs": [],
   "source": [
    "# csv 데이터 파일 불러오기\n",
    "data = pd.read_csv('검진데이터.csv')\n",
    "data_np = data.to_numpy()"
   ]
  },
  {
   "cell_type": "code",
   "execution_count": 3,
   "metadata": {},
   "outputs": [],
   "source": [
    "# 독립변수와 종속변수 분리\n",
    "X= data_np[:,:-1]\n",
    "y = data_np[:,-1]"
   ]
  },
  {
   "cell_type": "code",
   "execution_count": 4,
   "metadata": {},
   "outputs": [
    {
     "data": {
      "text/plain": [
       "array([[ 58. ,   1. ,   1. ,   2. , 108. ,  75. , 107. ],\n",
       "       [ 38. ,   1. ,   2. ,   1. , 114. ,  73. , 155.7],\n",
       "       [ 21. ,   1. ,   2. ,   1. , 167. , 125. ,  98. ],\n",
       "       [ 38. ,   1. ,   2. ,   2. , 112. ,  64. , 125.4],\n",
       "       [ 62. ,   1. ,   2. ,   1. , 145. ,  89. ,  95.5],\n",
       "       [ 36. ,   1. ,   2. ,   2. ,  99. ,  59. ,  95.5],\n",
       "       [ 33. ,   2. ,   1. ,   1. , 118. ,  70. , 111.7],\n",
       "       [ 38. ,   1. ,   2. ,   2. , 117. ,  74. , 132.1],\n",
       "       [ 34. ,   2. ,   1. ,   1. , 122. ,  74. ,  97.1],\n",
       "       [ 38. ,   2. ,   1. ,   1. , 102. ,  58. , 116.5],\n",
       "       [ 37. ,   1. ,   2. ,   2. ,  99. ,  68. , 111.2],\n",
       "       [ 34. ,   2. ,   1. ,   1. , 111. ,  58. ,  97.7],\n",
       "       [ 34. ,   2. ,   1. ,   1. , 108. ,  61. , 111.2],\n",
       "       [ 44. ,   1. ,   2. ,   1. , 138. ,  84. , 115.5],\n",
       "       [ 70. ,   1. ,   1. ,   2. , 104. ,  63. , 102.1],\n",
       "       [ 58. ,   1. ,   2. ,   1. , 136. ,  80. , 112.2],\n",
       "       [ 40. ,   1. ,   3. ,   2. , 161. , 108. ,  87.9],\n",
       "       [ 60. ,   2. ,   1. ,   1. , 138. ,  80. , 125.3],\n",
       "       [ 39. ,   2. ,   1. ,   1. , 101. ,  62. , 106.9],\n",
       "       [ 40. ,   2. ,   1. ,   1. , 112. ,  59. , 101.1],\n",
       "       [ 48. ,   1. ,   2. ,   1. , 156. ,  93. , 124.9],\n",
       "       [ 29. ,   1. ,   3. ,   2. , 125. ,  71. ,  96.1],\n",
       "       [ 44. ,   1. ,   3. ,   2. , 106. ,  75. , 112.1],\n",
       "       [ 55. ,   1. ,   2. ,   1. , 114. ,  67. , 102.4],\n",
       "       [ 46. ,   1. ,   1. ,   1. , 149. ,  79. , 109.5],\n",
       "       [ 42. ,   1. ,   2. ,   1. , 112. ,  68. , 105.4],\n",
       "       [ 51. ,   2. ,   3. ,   2. , 140. , 100. , 112.6],\n",
       "       [ 46. ,   1. ,   1. ,   2. , 132. ,  80. ,  96.1],\n",
       "       [ 42. ,   1. ,   1. ,   1. , 134. ,  83. , 110.6],\n",
       "       [ 45. ,   1. ,   2. ,   1. , 106. ,  70. , 103.9],\n",
       "       [ 43. ,   1. ,   2. ,   1. , 119. ,  77. , 103.1]])"
      ]
     },
     "execution_count": 4,
     "metadata": {},
     "output_type": "execute_result"
    }
   ],
   "source": [
    "X"
   ]
  },
  {
   "cell_type": "code",
   "execution_count": 5,
   "metadata": {},
   "outputs": [
    {
     "data": {
      "text/plain": [
       "array([14., 44., 29., 51., 14., 20., 11., 32.,  6., 13., 28.,  9., 10.,\n",
       "       20.,  6., 16., 84., 19., 11., 13., 32., 29., 19., 20., 25., 26.,\n",
       "       29., 16.,  9., 21., 13.])"
      ]
     },
     "execution_count": 5,
     "metadata": {},
     "output_type": "execute_result"
    }
   ],
   "source": [
    "y"
   ]
  },
  {
   "cell_type": "code",
   "execution_count": 6,
   "metadata": {},
   "outputs": [],
   "source": [
    "# 상수항 추가\n",
    "X_aug = sm.add_constant(X, prepend=False)"
   ]
  },
  {
   "cell_type": "code",
   "execution_count": 9,
   "metadata": {},
   "outputs": [],
   "source": [
    "num_repeat = 10\n",
    "num_train = 20\n",
    "num_test = X.shape[0] - num_train"
   ]
  },
  {
   "cell_type": "code",
   "execution_count": 10,
   "metadata": {},
   "outputs": [
    {
     "data": {
      "text/plain": [
       "(31, 8)"
      ]
     },
     "execution_count": 10,
     "metadata": {},
     "output_type": "execute_result"
    }
   ],
   "source": [
    "X_aug.shape"
   ]
  },
  {
   "cell_type": "code",
   "execution_count": 11,
   "metadata": {
    "scrolled": true
   },
   "outputs": [
    {
     "name": "stdout",
     "output_type": "stream",
     "text": [
      "[[0 0 0 0 0 0 0 0 0 0 0 0 0 0 0 0 0 0 0 0]\n",
      " [0 0 0 0 0 0 0 0 0 0 0 0 0 0 0 0 0 0 0 0]\n",
      " [0 0 0 0 0 0 0 0 0 0 0 0 0 0 0 0 0 0 0 0]\n",
      " [0 0 0 0 0 0 0 0 0 0 0 0 0 0 0 0 0 0 0 0]\n",
      " [0 0 0 0 0 0 0 0 0 0 0 0 0 0 0 0 0 0 0 0]\n",
      " [0 0 0 0 0 0 0 0 0 0 0 0 0 0 0 0 0 0 0 0]\n",
      " [0 0 0 0 0 0 0 0 0 0 0 0 0 0 0 0 0 0 0 0]\n",
      " [0 0 0 0 0 0 0 0 0 0 0 0 0 0 0 0 0 0 0 0]\n",
      " [0 0 0 0 0 0 0 0 0 0 0 0 0 0 0 0 0 0 0 0]\n",
      " [0 0 0 0 0 0 0 0 0 0 0 0 0 0 0 0 0 0 0 0]]\n"
     ]
    }
   ],
   "source": [
    "train_idx_repeat = np.zeros([num_repeat, num_train], dtype=np.int)\n",
    "test_idx_repeat = np.zeros([num_repeat, num_test], dtype=np.int)\n",
    "print(train_idx_repeat)"
   ]
  },
  {
   "cell_type": "code",
   "execution_count": 12,
   "metadata": {},
   "outputs": [
    {
     "data": {
      "text/plain": [
       "array([[0, 0, 0, 0, 0, 0, 0, 0, 0, 0, 0],\n",
       "       [0, 0, 0, 0, 0, 0, 0, 0, 0, 0, 0],\n",
       "       [0, 0, 0, 0, 0, 0, 0, 0, 0, 0, 0],\n",
       "       [0, 0, 0, 0, 0, 0, 0, 0, 0, 0, 0],\n",
       "       [0, 0, 0, 0, 0, 0, 0, 0, 0, 0, 0],\n",
       "       [0, 0, 0, 0, 0, 0, 0, 0, 0, 0, 0],\n",
       "       [0, 0, 0, 0, 0, 0, 0, 0, 0, 0, 0],\n",
       "       [0, 0, 0, 0, 0, 0, 0, 0, 0, 0, 0],\n",
       "       [0, 0, 0, 0, 0, 0, 0, 0, 0, 0, 0],\n",
       "       [0, 0, 0, 0, 0, 0, 0, 0, 0, 0, 0]])"
      ]
     },
     "execution_count": 12,
     "metadata": {},
     "output_type": "execute_result"
    }
   ],
   "source": [
    "test_idx_repeat"
   ]
  },
  {
   "cell_type": "code",
   "execution_count": 13,
   "metadata": {},
   "outputs": [
    {
     "name": "stdout",
     "output_type": "stream",
     "text": [
      "0\n",
      "[11  3 27 23 17 30 14 12 13  9 20 26  2 18  0 21  4 22 29  7]\n",
      "[15 24 28 19  5 25  1  6 16 10  8]\n",
      "1\n",
      "[ 8 20 25 12 23 30 28  7  3 11  0 17  2 13  6 16 19 10 15 14]\n",
      "[18 22 26 29 21  4  1 24  5  9 27]\n",
      "2\n",
      "[26  3  1 25 16 27  7 28 11  5 24 21  6 23 15 12 30 20  2 19]\n",
      "[29 14 22  0 10 18  4 13 17  9  8]\n",
      "3\n",
      "[25  2 12  0 15 23 18 19 11 30 20 29  7 27  6 13  4  5  1 24]\n",
      "[22  3 16 28 21 17  9 26  8 10 14]\n",
      "4\n",
      "[26  9 30 24 10 16 19  5 17  8 15 27 20 28 21  4  6  7 22 29]\n",
      "[18 12  1 11 23 13  0 14  2 25  3]\n",
      "5\n",
      "[20 27  6 17 15 26  8 10  5 23  4  2 19 14 25 11 16 18 24 30]\n",
      "[22 28  9  1 29 13 12  3 21  0  7]\n",
      "6\n",
      "[17  1 22  8 30  5  3 13 25  6  4 27 16  9 19  7  2 26 12 18]\n",
      "[15 11 21 14  0 23 20 29 10 24 28]\n",
      "7\n",
      "[25 23 18 12 29  9 22 17 15 11 20 13  5 27 14  8 26  2  6 30]\n",
      "[ 7  3 21 19  0 16 28  4  1 10 24]\n",
      "8\n",
      "[ 9 20  0 23 11 22  1 25 24  5 13 19 16 12 21 10 15  7  6 30]\n",
      "[18 27  8 17  2 29 26  4 28 14  3]\n",
      "9\n",
      "[22 16 20  0 29 17  7 10 26 18 14  2 12  6  1 28 23 13 15 11]\n",
      "[ 5 24 19  9  4 21  8  3 25 27 30]\n"
     ]
    }
   ],
   "source": [
    "from sklearn.model_selection import train_test_split\n",
    "# generate train/test idx\n",
    "for rep in range(num_repeat):\n",
    "    idx = np.arange(X.shape[0])\n",
    "    train_idx_repeat[rep, :], test_idx_repeat[rep, :] = train_test_split(idx, train_size = num_train, test_size=num_test)\n",
    "    print(rep)\n",
    "    \n",
    "    print(train_idx_repeat[rep, :])\n",
    "    print(test_idx_repeat[rep, :])\n",
    "    "
   ]
  },
  {
   "cell_type": "code",
   "execution_count": 14,
   "metadata": {},
   "outputs": [
    {
     "name": "stdout",
     "output_type": "stream",
     "text": [
      "[[11  3 27 23 17 30 14 12 13  9 20 26  2 18  0 21  4 22 29  7]\n",
      " [ 8 20 25 12 23 30 28  7  3 11  0 17  2 13  6 16 19 10 15 14]\n",
      " [26  3  1 25 16 27  7 28 11  5 24 21  6 23 15 12 30 20  2 19]\n",
      " [25  2 12  0 15 23 18 19 11 30 20 29  7 27  6 13  4  5  1 24]\n",
      " [26  9 30 24 10 16 19  5 17  8 15 27 20 28 21  4  6  7 22 29]\n",
      " [20 27  6 17 15 26  8 10  5 23  4  2 19 14 25 11 16 18 24 30]\n",
      " [17  1 22  8 30  5  3 13 25  6  4 27 16  9 19  7  2 26 12 18]\n",
      " [25 23 18 12 29  9 22 17 15 11 20 13  5 27 14  8 26  2  6 30]\n",
      " [ 9 20  0 23 11 22  1 25 24  5 13 19 16 12 21 10 15  7  6 30]\n",
      " [22 16 20  0 29 17  7 10 26 18 14  2 12  6  1 28 23 13 15 11]]\n"
     ]
    }
   ],
   "source": [
    "print(train_idx_repeat)"
   ]
  },
  {
   "cell_type": "code",
   "execution_count": 15,
   "metadata": {},
   "outputs": [],
   "source": [
    "# Repeat evaluation \n",
    "from sklearn.metrics import mean_squared_error\n",
    "mse_train_repeat = np.zeros(num_repeat)\n",
    "mse_test_repeat = np.zeros(num_repeat)"
   ]
  },
  {
   "cell_type": "code",
   "execution_count": 16,
   "metadata": {},
   "outputs": [
    {
     "name": "stdout",
     "output_type": "stream",
     "text": [
      "[0. 0. 0. 0. 0. 0. 0. 0. 0. 0.]\n"
     ]
    }
   ],
   "source": [
    "print(mse_train_repeat)"
   ]
  },
  {
   "cell_type": "code",
   "execution_count": 17,
   "metadata": {},
   "outputs": [
    {
     "name": "stdout",
     "output_type": "stream",
     "text": [
      "[0. 0. 0. 0. 0. 0. 0. 0. 0. 0.]\n"
     ]
    }
   ],
   "source": [
    "print(mse_test_repeat)"
   ]
  },
  {
   "cell_type": "code",
   "execution_count": 18,
   "metadata": {},
   "outputs": [
    {
     "name": "stdout",
     "output_type": "stream",
     "text": [
      "[ 28.21455342  28.62668324 120.17372973  10.57058079  93.0222418\n",
      "  74.49885792  84.28594337  14.88825881  82.50889166 105.32289339]\n",
      "[322.98655913 668.14050092  72.76087354 542.42354068 272.55621609\n",
      " 250.85681622 637.72783772 381.90018117 502.81226916 130.00965862]\n"
     ]
    }
   ],
   "source": [
    "for rep in range(num_repeat):\n",
    "    train_idx, test_idx = train_idx_repeat[rep, :], test_idx_repeat[rep, :]\n",
    "    \n",
    "    train_X_aug, test_X_aug = X_aug[train_idx,:], X_aug[test_idx,:]\n",
    "    train_y, test_y = y[train_idx],y[test_idx]\n",
    "    \n",
    "    reg = sm.OLS(train_y,train_X_aug).fit()\n",
    "    \n",
    "    train_y_pred = reg.predict(train_X_aug)\n",
    "    mse_train_repeat[rep] = mean_squared_error(train_y, train_y_pred)\n",
    "    \n",
    "    test_y_pred = reg.predict(test_X_aug)\n",
    "    mse_test_repeat[rep] = mean_squared_error(test_y, test_y_pred)"
   ]
  },
  {
   "cell_type": "code",
   "execution_count": 20,
   "metadata": {},
   "outputs": [
    {
     "name": "stdout",
     "output_type": "stream",
     "text": [
      "[ 28.21455342  28.62668324 120.17372973  10.57058079  93.0222418\n",
      "  74.49885792  84.28594337  14.88825881  82.50889166 105.32289339]\n"
     ]
    }
   ],
   "source": [
    "print(mse_train_repeat)"
   ]
  },
  {
   "cell_type": "code",
   "execution_count": 19,
   "metadata": {},
   "outputs": [
    {
     "name": "stdout",
     "output_type": "stream",
     "text": [
      "[322.98655913 668.14050092  72.76087354 542.42354068 272.55621609\n",
      " 250.85681622 637.72783772 381.90018117 502.81226916 130.00965862]\n"
     ]
    }
   ],
   "source": [
    "print(mse_test_repeat)"
   ]
  },
  {
   "cell_type": "code",
   "execution_count": 21,
   "metadata": {},
   "outputs": [],
   "source": [
    "from sklearn.model_selection import KFold"
   ]
  },
  {
   "cell_type": "code",
   "execution_count": 28,
   "metadata": {},
   "outputs": [],
   "source": [
    "kf = KFold(10, shuffle=True)"
   ]
  },
  {
   "cell_type": "code",
   "execution_count": 33,
   "metadata": {},
   "outputs": [],
   "source": [
    "mse_train_repeat = []\n",
    "mse_test_repeat = []\n",
    "for train_idx, test_idx in kf.split(X_aug):\n",
    "    train_X_aug, test_X_aug = X_aug[train_idx,:], X_aug[test_idx,:]\n",
    "    train_y, test_y = y[train_idx],y[test_idx]\n",
    "    \n",
    "    reg = sm.OLS(train_y,train_X_aug).fit()\n",
    "    \n",
    "    train_y_pred = reg.predict(train_X_aug)\n",
    "    mse_train_repeat.append(mean_squared_error(train_y, train_y_pred))\n",
    "    \n",
    "    test_y_pred = reg.predict(test_X_aug)\n",
    "    mse_test_repeat.append(mean_squared_error(test_y, test_y_pred))"
   ]
  },
  {
   "cell_type": "code",
   "execution_count": 35,
   "metadata": {},
   "outputs": [
    {
     "data": {
      "text/plain": [
       "array([[  95.7543975 ,  118.52105389],\n",
       "       [  95.11862436,  247.52156245],\n",
       "       [  94.50760573,  139.70203926],\n",
       "       [ 103.09889387,   37.16893319],\n",
       "       [  28.14279718, 1124.10414595],\n",
       "       [ 103.66956023,   40.58598362],\n",
       "       [  91.04764203,  256.79139838],\n",
       "       [  97.74850191,  170.43419086],\n",
       "       [ 101.40416003,   57.82422211],\n",
       "       [ 101.30356421,  158.05502843]])"
      ]
     },
     "execution_count": 35,
     "metadata": {},
     "output_type": "execute_result"
    }
   ],
   "source": [
    "np.c_[mse_train_repeat, mse_test_repeat]"
   ]
  },
  {
   "cell_type": "code",
   "execution_count": 31,
   "metadata": {},
   "outputs": [
    {
     "data": {
      "text/plain": [
       "array([322.98655913, 668.14050092,  72.76087354, 542.42354068,\n",
       "       272.55621609, 250.85681622, 637.72783772, 381.90018117,\n",
       "       502.81226916,  90.92386683])"
      ]
     },
     "execution_count": 31,
     "metadata": {},
     "output_type": "execute_result"
    }
   ],
   "source": [
    "mse_test_repeat"
   ]
  },
  {
   "cell_type": "code",
   "execution_count": null,
   "metadata": {},
   "outputs": [],
   "source": []
  },
  {
   "cell_type": "code",
   "execution_count": null,
   "metadata": {},
   "outputs": [],
   "source": []
  },
  {
   "cell_type": "code",
   "execution_count": null,
   "metadata": {},
   "outputs": [],
   "source": []
  },
  {
   "cell_type": "code",
   "execution_count": null,
   "metadata": {},
   "outputs": [],
   "source": []
  },
  {
   "cell_type": "code",
   "execution_count": null,
   "metadata": {},
   "outputs": [],
   "source": []
  },
  {
   "cell_type": "code",
   "execution_count": null,
   "metadata": {},
   "outputs": [],
   "source": []
  }
 ],
 "metadata": {
  "kernelspec": {
   "display_name": "Python 3",
   "language": "python",
   "name": "python3"
  },
  "language_info": {
   "codemirror_mode": {
    "name": "ipython",
    "version": 3
   },
   "file_extension": ".py",
   "mimetype": "text/x-python",
   "name": "python",
   "nbconvert_exporter": "python",
   "pygments_lexer": "ipython3",
   "version": "3.7.2"
  }
 },
 "nbformat": 4,
 "nbformat_minor": 2
}
