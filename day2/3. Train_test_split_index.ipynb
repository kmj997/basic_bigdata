{
 "cells": [
  {
   "cell_type": "code",
   "execution_count": 1,
   "metadata": {},
   "outputs": [],
   "source": [
    "# 라이브러리 import\n",
    "import numpy as np\n",
    "import pandas as pd\n",
    "import statsmodels.api as sm"
   ]
  },
  {
   "cell_type": "code",
   "execution_count": 2,
   "metadata": {
    "scrolled": false
   },
   "outputs": [
    {
     "name": "stdout",
     "output_type": "stream",
     "text": [
      "[[ 58.    1.    1.    2.  108.   75.  107.   14. ]\n",
      " [ 38.    1.    2.    1.  114.   73.  155.7  44. ]\n",
      " [ 21.    1.    2.    1.  167.  125.   98.   29. ]\n",
      " [ 38.    1.    2.    2.  112.   64.  125.4  51. ]\n",
      " [ 62.    1.    2.    1.  145.   89.   95.5  14. ]\n",
      " [ 36.    1.    2.    2.   99.   59.   95.5  20. ]\n",
      " [ 33.    2.    1.    1.  118.   70.  111.7  11. ]\n",
      " [ 38.    1.    2.    2.  117.   74.  132.1  32. ]\n",
      " [ 34.    2.    1.    1.  122.   74.   97.1   6. ]\n",
      " [ 38.    2.    1.    1.  102.   58.  116.5  13. ]\n",
      " [ 37.    1.    2.    2.   99.   68.  111.2  28. ]\n",
      " [ 34.    2.    1.    1.  111.   58.   97.7   9. ]\n",
      " [ 34.    2.    1.    1.  108.   61.  111.2  10. ]\n",
      " [ 44.    1.    2.    1.  138.   84.  115.5  20. ]\n",
      " [ 70.    1.    1.    2.  104.   63.  102.1   6. ]\n",
      " [ 58.    1.    2.    1.  136.   80.  112.2  16. ]\n",
      " [ 40.    1.    3.    2.  161.  108.   87.9  84. ]\n",
      " [ 60.    2.    1.    1.  138.   80.  125.3  19. ]\n",
      " [ 39.    2.    1.    1.  101.   62.  106.9  11. ]\n",
      " [ 40.    2.    1.    1.  112.   59.  101.1  13. ]\n",
      " [ 48.    1.    2.    1.  156.   93.  124.9  32. ]\n",
      " [ 29.    1.    3.    2.  125.   71.   96.1  29. ]\n",
      " [ 44.    1.    3.    2.  106.   75.  112.1  19. ]\n",
      " [ 55.    1.    2.    1.  114.   67.  102.4  20. ]\n",
      " [ 46.    1.    1.    1.  149.   79.  109.5  25. ]\n",
      " [ 42.    1.    2.    1.  112.   68.  105.4  26. ]\n",
      " [ 51.    2.    3.    2.  140.  100.  112.6  29. ]\n",
      " [ 46.    1.    1.    2.  132.   80.   96.1  16. ]\n",
      " [ 42.    1.    1.    1.  134.   83.  110.6   9. ]\n",
      " [ 45.    1.    2.    1.  106.   70.  103.9  21. ]\n",
      " [ 43.    1.    2.    1.  119.   77.  103.1  13. ]]\n"
     ]
    }
   ],
   "source": [
    "# csv 데이터 파일 불러오기\n",
    "data = pd.read_csv('검진데이터.csv')\n",
    "data_np = data.to_numpy()\n",
    "print(data_np)"
   ]
  },
  {
   "cell_type": "code",
   "execution_count": 3,
   "metadata": {},
   "outputs": [],
   "source": [
    "# 독립변수와 종속변수 분리\n",
    "X = data_np[:,:-1]\n",
    "y = data_np[:,-1]"
   ]
  },
  {
   "cell_type": "code",
   "execution_count": 4,
   "metadata": {},
   "outputs": [
    {
     "name": "stdout",
     "output_type": "stream",
     "text": [
      "[[ 58.    1.    1.    2.  108.   75.  107.    1. ]\n",
      " [ 38.    1.    2.    1.  114.   73.  155.7   1. ]\n",
      " [ 21.    1.    2.    1.  167.  125.   98.    1. ]\n",
      " [ 38.    1.    2.    2.  112.   64.  125.4   1. ]\n",
      " [ 62.    1.    2.    1.  145.   89.   95.5   1. ]\n",
      " [ 36.    1.    2.    2.   99.   59.   95.5   1. ]\n",
      " [ 33.    2.    1.    1.  118.   70.  111.7   1. ]\n",
      " [ 38.    1.    2.    2.  117.   74.  132.1   1. ]\n",
      " [ 34.    2.    1.    1.  122.   74.   97.1   1. ]\n",
      " [ 38.    2.    1.    1.  102.   58.  116.5   1. ]\n",
      " [ 37.    1.    2.    2.   99.   68.  111.2   1. ]\n",
      " [ 34.    2.    1.    1.  111.   58.   97.7   1. ]\n",
      " [ 34.    2.    1.    1.  108.   61.  111.2   1. ]\n",
      " [ 44.    1.    2.    1.  138.   84.  115.5   1. ]\n",
      " [ 70.    1.    1.    2.  104.   63.  102.1   1. ]\n",
      " [ 58.    1.    2.    1.  136.   80.  112.2   1. ]\n",
      " [ 40.    1.    3.    2.  161.  108.   87.9   1. ]\n",
      " [ 60.    2.    1.    1.  138.   80.  125.3   1. ]\n",
      " [ 39.    2.    1.    1.  101.   62.  106.9   1. ]\n",
      " [ 40.    2.    1.    1.  112.   59.  101.1   1. ]\n",
      " [ 48.    1.    2.    1.  156.   93.  124.9   1. ]\n",
      " [ 29.    1.    3.    2.  125.   71.   96.1   1. ]\n",
      " [ 44.    1.    3.    2.  106.   75.  112.1   1. ]\n",
      " [ 55.    1.    2.    1.  114.   67.  102.4   1. ]\n",
      " [ 46.    1.    1.    1.  149.   79.  109.5   1. ]\n",
      " [ 42.    1.    2.    1.  112.   68.  105.4   1. ]\n",
      " [ 51.    2.    3.    2.  140.  100.  112.6   1. ]\n",
      " [ 46.    1.    1.    2.  132.   80.   96.1   1. ]\n",
      " [ 42.    1.    1.    1.  134.   83.  110.6   1. ]\n",
      " [ 45.    1.    2.    1.  106.   70.  103.9   1. ]\n",
      " [ 43.    1.    2.    1.  119.   77.  103.1   1. ]]\n"
     ]
    }
   ],
   "source": [
    "# 상수항 추가 (제일 끝 열)\n",
    "X_aug = sm.add_constant(X, prepend=False)\n",
    "print(X_aug)"
   ]
  },
  {
   "cell_type": "code",
   "execution_count": 5,
   "metadata": {},
   "outputs": [
    {
     "name": "stdout",
     "output_type": "stream",
     "text": [
      "[14. 44. 29. 51. 14. 20. 11. 32.  6. 13. 28.  9. 10. 20.  6. 16. 84. 19.\n",
      " 11. 13. 32. 29. 19. 20. 25. 26. 29. 16.  9. 21. 13.]\n"
     ]
    }
   ],
   "source": [
    "print(y)"
   ]
  },
  {
   "cell_type": "code",
   "execution_count": 5,
   "metadata": {},
   "outputs": [
    {
     "name": "stdout",
     "output_type": "stream",
     "text": [
      "(31, 8)\n"
     ]
    }
   ],
   "source": [
    "print(X_aug.shape)"
   ]
  },
  {
   "cell_type": "code",
   "execution_count": 6,
   "metadata": {},
   "outputs": [],
   "source": [
    "num_train = 20\n",
    "num_test = X_aug.shape[0] - num_train"
   ]
  },
  {
   "cell_type": "code",
   "execution_count": 8,
   "metadata": {},
   "outputs": [
    {
     "name": "stdout",
     "output_type": "stream",
     "text": [
      "[25  7  4 27 20  2 15  1 29 13 16 28 23 30 17 10 21 11  9  8]\n"
     ]
    }
   ],
   "source": [
    "from sklearn.model_selection import train_test_split\n",
    "# train & test split 1. save indices\n",
    "idx = np.arange(X.shape[0])\n",
    "\n",
    "train_idx, test_idx = train_test_split(idx, train_size = num_train, test_size=num_test)\n",
    "\n",
    "train_X_aug, test_X_aug = X_aug[train_idx,:], X_aug[test_idx,:]\n",
    "train_y, test_y = y[train_idx],y[test_idx]\n",
    "print(train_idx)"
   ]
  },
  {
   "cell_type": "code",
   "execution_count": 11,
   "metadata": {},
   "outputs": [
    {
     "name": "stdout",
     "output_type": "stream",
     "text": [
      "(20,)\n",
      "(11,)\n"
     ]
    }
   ],
   "source": [
    "print(train_idx.shape)\n",
    "print(test_idx.shape)"
   ]
  },
  {
   "cell_type": "code",
   "execution_count": 9,
   "metadata": {},
   "outputs": [],
   "source": [
    "train_X_aug = X_aug[train_idx, :]\n",
    "train_y = y[train_idx]\n",
    "test_X_aug = X_aug[test_idx, :]\n",
    "test_y = y[test_idx]"
   ]
  },
  {
   "cell_type": "code",
   "execution_count": 10,
   "metadata": {},
   "outputs": [
    {
     "name": "stdout",
     "output_type": "stream",
     "text": [
      "                            OLS Regression Results                            \n",
      "==============================================================================\n",
      "Dep. Variable:                      y   R-squared:                       0.722\n",
      "Model:                            OLS   Adj. R-squared:                  0.559\n",
      "Method:                 Least Squares   F-statistic:                     4.445\n",
      "Date:                Thu, 16 Jan 2020   Prob (F-statistic):             0.0118\n",
      "Time:                        15:39:48   Log-Likelihood:                -71.771\n",
      "No. Observations:                  20   AIC:                             159.5\n",
      "Df Residuals:                      12   BIC:                             167.5\n",
      "Df Model:                           7                                         \n",
      "Covariance Type:            nonrobust                                         \n",
      "==============================================================================\n",
      "                 coef    std err          t      P>|t|      [0.025      0.975]\n",
      "------------------------------------------------------------------------------\n",
      "x1             0.1680      0.323      0.520      0.613      -0.536       0.872\n",
      "x2            16.4508      9.774      1.683      0.118      -4.846      37.747\n",
      "x3            19.3214      6.044      3.197      0.008       6.153      32.490\n",
      "x4            14.0822      6.742      2.089      0.059      -0.606      28.771\n",
      "x5            -0.2460      0.417     -0.590      0.566      -1.155       0.663\n",
      "x6             0.7320      0.538      1.362      0.198      -0.439       1.903\n",
      "x7             0.3069      0.172      1.787      0.099      -0.067       0.681\n",
      "const       -115.3477     41.465     -2.782      0.017    -205.692     -25.004\n",
      "==============================================================================\n",
      "Omnibus:                        3.902   Durbin-Watson:                   1.882\n",
      "Prob(Omnibus):                  0.142   Jarque-Bera (JB):                2.195\n",
      "Skew:                           0.784   Prob(JB):                        0.334\n",
      "Kurtosis:                       3.421   Cond. No.                     3.19e+03\n",
      "==============================================================================\n",
      "\n",
      "Warnings:\n",
      "[1] Standard Errors assume that the covariance matrix of the errors is correctly specified.\n",
      "[2] The condition number is large, 3.19e+03. This might indicate that there are\n",
      "strong multicollinearity or other numerical problems.\n"
     ]
    }
   ],
   "source": [
    "mod = sm.OLS(train_y, train_X_aug).fit()\n",
    "print(mod.summary())"
   ]
  },
  {
   "cell_type": "code",
   "execution_count": 11,
   "metadata": {},
   "outputs": [],
   "source": [
    "train_y_pred = mod.predict(train_X_aug)\n",
    "test_y_pred = mod.predict(test_X_aug)"
   ]
  },
  {
   "cell_type": "code",
   "execution_count": 12,
   "metadata": {},
   "outputs": [
    {
     "name": "stdout",
     "output_type": "stream",
     "text": [
      "Train MSE 76.64544282657614\n",
      "Test MSE 545.8543986777054\n"
     ]
    }
   ],
   "source": [
    "from sklearn.metrics import mean_squared_error\n",
    "print(\"Train MSE\", mean_squared_error(train_y, train_y_pred))\n",
    "print(\"Test MSE\", mean_squared_error(test_y, test_y_pred))"
   ]
  },
  {
   "cell_type": "code",
   "execution_count": null,
   "metadata": {},
   "outputs": [],
   "source": []
  },
  {
   "cell_type": "code",
   "execution_count": null,
   "metadata": {},
   "outputs": [],
   "source": []
  },
  {
   "cell_type": "code",
   "execution_count": null,
   "metadata": {},
   "outputs": [],
   "source": []
  },
  {
   "cell_type": "code",
   "execution_count": null,
   "metadata": {},
   "outputs": [],
   "source": []
  }
 ],
 "metadata": {
  "kernelspec": {
   "display_name": "Python 3",
   "language": "python",
   "name": "python3"
  },
  "language_info": {
   "codemirror_mode": {
    "name": "ipython",
    "version": 3
   },
   "file_extension": ".py",
   "mimetype": "text/x-python",
   "name": "python",
   "nbconvert_exporter": "python",
   "pygments_lexer": "ipython3",
   "version": "3.7.2"
  }
 },
 "nbformat": 4,
 "nbformat_minor": 2
}
