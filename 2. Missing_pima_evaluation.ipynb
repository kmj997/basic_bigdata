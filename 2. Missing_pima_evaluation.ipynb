{
 "cells": [
  {
   "cell_type": "code",
   "execution_count": 1,
   "metadata": {},
   "outputs": [],
   "source": [
    "#. Numpy, Pandas 라이브러리 import\n",
    "import numpy as np\n",
    "import pandas as pd"
   ]
  },
  {
   "cell_type": "code",
   "execution_count": 2,
   "metadata": {},
   "outputs": [
    {
     "name": "stdout",
     "output_type": "stream",
     "text": [
      "     0      1     2     3      4     5      6   7  8\n",
      "0    6  148.0  72.0  35.0    NaN  33.6  0.627  50  1\n",
      "1    1   85.0  66.0  29.0    NaN  26.6  0.351  31  0\n",
      "2    8  183.0  64.0   NaN    NaN  23.3  0.672  32  1\n",
      "3    1   89.0  66.0  23.0   94.0  28.1  0.167  21  0\n",
      "4    0  137.0  40.0  35.0  168.0  43.1  2.288  33  1\n",
      "5    5  116.0  74.0   NaN    NaN  25.6  0.201  30  0\n",
      "6    3   78.0  50.0  32.0   88.0  31.0  0.248  26  1\n",
      "7   10  115.0   NaN   NaN    NaN  35.3  0.134  29  0\n",
      "8    2  197.0  70.0  45.0  543.0  30.5  0.158  53  1\n",
      "9    8  125.0  96.0   NaN    NaN   NaN  0.232  54  1\n",
      "10   4  110.0  92.0   NaN    NaN  37.6  0.191  30  0\n",
      "11  10  168.0  74.0   NaN    NaN  38.0  0.537  34  1\n",
      "12  10  139.0  80.0   NaN    NaN  27.1  1.441  57  0\n",
      "13   1  189.0  60.0  23.0  846.0  30.1  0.398  59  1\n",
      "14   5  166.0  72.0  19.0  175.0  25.8  0.587  51  1\n",
      "15   7  100.0   NaN   NaN    NaN  30.0  0.484  32  1\n",
      "16   0  118.0  84.0  47.0  230.0  45.8  0.551  31  1\n",
      "17   7  107.0  74.0   NaN    NaN  29.6  0.254  31  1\n",
      "18   1  103.0  30.0  38.0   83.0  43.3  0.183  33  0\n",
      "19   1  115.0  70.0  30.0   96.0  34.6  0.529  32  1\n"
     ]
    }
   ],
   "source": [
    "dataset = pd.read_csv('pima-indians-diabetes_edited.csv')\n",
    "print(dataset.head(20))"
   ]
  },
  {
   "cell_type": "code",
   "execution_count": 3,
   "metadata": {},
   "outputs": [
    {
     "name": "stdout",
     "output_type": "stream",
     "text": [
      "[[  0   0]\n",
      " [  0   1]\n",
      " [  0   2]\n",
      " ...\n",
      " [767   6]\n",
      " [767   7]\n",
      " [767   8]]\n"
     ]
    }
   ],
   "source": [
    "# 단계 1. 학습 데이터/테스트 데이터 분리\n",
    "# 결측이 아닌 위치 추출\n",
    "notna_bool = dataset.notna()\n",
    "notna_bool_arr = notna_bool.to_numpy()\n",
    "\n",
    "non_missing_idx = np.argwhere(dataset.notna().to_numpy())\n",
    "print(non_missing_idx)"
   ]
  },
  {
   "cell_type": "code",
   "execution_count": 4,
   "metadata": {},
   "outputs": [
    {
     "name": "stdout",
     "output_type": "stream",
     "text": [
      "(6262, 2)\n"
     ]
    }
   ],
   "source": [
    "print(non_missing_idx.shape)"
   ]
  },
  {
   "cell_type": "code",
   "execution_count": 5,
   "metadata": {},
   "outputs": [],
   "source": [
    "# 결측치 아닌 위치 array를 분할\n",
    "from sklearn.model_selection import train_test_split\n",
    "idx = np.arange(non_missing_idx.shape[0])\n",
    "# option 1. absolute size of test set\n",
    "num_test = 1000\n",
    "train_idx, test_idx = train_test_split(idx, test_size=num_test)\n",
    "# option 2. ratio of test set\n",
    "ratio_test = 0.2\n",
    "train_idx, test_idx = train_test_split(idx, test_size=ratio_test)"
   ]
  },
  {
   "cell_type": "code",
   "execution_count": 6,
   "metadata": {},
   "outputs": [
    {
     "data": {
      "text/plain": [
       "array([[  6.   , 148.   ,  72.   , ...,   0.627,  50.   ,   1.   ],\n",
       "       [  1.   ,  85.   ,  66.   , ...,   0.351,  31.   ,   0.   ],\n",
       "       [  8.   , 183.   ,  64.   , ...,   0.672,  32.   ,   1.   ],\n",
       "       ...,\n",
       "       [  5.   , 121.   ,  72.   , ...,   0.245,  30.   ,   0.   ],\n",
       "       [  1.   , 126.   ,  60.   , ...,   0.349,  47.   ,   1.   ],\n",
       "       [  1.   ,  93.   ,  70.   , ...,   0.315,  23.   ,   0.   ]])"
      ]
     },
     "execution_count": 6,
     "metadata": {},
     "output_type": "execute_result"
    }
   ],
   "source": [
    "# dataset 복사 후 test_set 제거\n",
    "dataset_incomplete = np.array(dataset.copy())\n",
    "dataset_incomplete"
   ]
  },
  {
   "cell_type": "code",
   "execution_count": 7,
   "metadata": {},
   "outputs": [
    {
     "name": "stdout",
     "output_type": "stream",
     "text": [
      "Original\n",
      "     0      1     2     3      4     5      6   7  8\n",
      "0    6  148.0  72.0  35.0    NaN  33.6  0.627  50  1\n",
      "1    1   85.0  66.0  29.0    NaN  26.6  0.351  31  0\n",
      "2    8  183.0  64.0   NaN    NaN  23.3  0.672  32  1\n",
      "3    1   89.0  66.0  23.0   94.0  28.1  0.167  21  0\n",
      "4    0  137.0  40.0  35.0  168.0  43.1  2.288  33  1\n",
      "5    5  116.0  74.0   NaN    NaN  25.6  0.201  30  0\n",
      "6    3   78.0  50.0  32.0   88.0  31.0  0.248  26  1\n",
      "7   10  115.0   NaN   NaN    NaN  35.3  0.134  29  0\n",
      "8    2  197.0  70.0  45.0  543.0  30.5  0.158  53  1\n",
      "9    8  125.0  96.0   NaN    NaN   NaN  0.232  54  1\n",
      "10   4  110.0  92.0   NaN    NaN  37.6  0.191  30  0\n",
      "11  10  168.0  74.0   NaN    NaN  38.0  0.537  34  1\n",
      "12  10  139.0  80.0   NaN    NaN  27.1  1.441  57  0\n",
      "13   1  189.0  60.0  23.0  846.0  30.1  0.398  59  1\n",
      "14   5  166.0  72.0  19.0  175.0  25.8  0.587  51  1\n",
      "15   7  100.0   NaN   NaN    NaN  30.0  0.484  32  1\n",
      "16   0  118.0  84.0  47.0  230.0  45.8  0.551  31  1\n",
      "17   7  107.0  74.0   NaN    NaN  29.6  0.254  31  1\n",
      "18   1  103.0  30.0  38.0   83.0  43.3  0.183  33  0\n",
      "19   1  115.0  70.0  30.0   96.0  34.6  0.529  32  1\n",
      "\n",
      "Masked\n",
      "       0      1     2     3      4     5      6     7    8\n",
      "0    6.0  148.0  72.0  35.0    NaN  33.6  0.627  50.0  1.0\n",
      "1    NaN   85.0   NaN  29.0    NaN  26.6  0.351  31.0  0.0\n",
      "2    NaN    NaN  64.0   NaN    NaN  23.3  0.672   NaN  1.0\n",
      "3    1.0   89.0  66.0   NaN   94.0   NaN  0.167   NaN  0.0\n",
      "4    0.0  137.0  40.0  35.0  168.0   NaN    NaN  33.0  1.0\n",
      "5    5.0  116.0  74.0   NaN    NaN  25.6  0.201  30.0  0.0\n",
      "6    NaN   78.0  50.0   NaN   88.0   NaN  0.248   NaN  1.0\n",
      "7   10.0  115.0   NaN   NaN    NaN  35.3  0.134   NaN  0.0\n",
      "8    2.0  197.0  70.0   NaN  543.0   NaN  0.158   NaN  1.0\n",
      "9    8.0  125.0  96.0   NaN    NaN   NaN    NaN  54.0  1.0\n",
      "10   4.0  110.0  92.0   NaN    NaN   NaN  0.191  30.0  0.0\n",
      "11  10.0  168.0  74.0   NaN    NaN   NaN  0.537  34.0  1.0\n",
      "12  10.0  139.0  80.0   NaN    NaN  27.1  1.441  57.0  0.0\n",
      "13   1.0  189.0  60.0  23.0  846.0   NaN  0.398  59.0  NaN\n",
      "14   5.0  166.0  72.0  19.0  175.0  25.8  0.587  51.0  1.0\n",
      "15   NaN  100.0   NaN   NaN    NaN  30.0  0.484  32.0  1.0\n",
      "16   0.0  118.0  84.0  47.0    NaN  45.8  0.551   NaN  1.0\n",
      "17   NaN  107.0  74.0   NaN    NaN  29.6  0.254  31.0  NaN\n",
      "18   1.0  103.0   NaN   NaN   83.0   NaN  0.183   NaN  0.0\n",
      "19   1.0  115.0  70.0  30.0   96.0   NaN  0.529  32.0  1.0\n"
     ]
    }
   ],
   "source": [
    "dataset_incomplete[non_missing_idx[test_idx, 0], non_missing_idx[test_idx, 1]] = np.nan\n",
    "\n",
    "print('Original')\n",
    "print(dataset.head(20))\n",
    "\n",
    "print('')\n",
    "\n",
    "print('Masked')\n",
    "print(pd.DataFrame(dataset_incomplete).head(20))"
   ]
  },
  {
   "cell_type": "code",
   "execution_count": 8,
   "metadata": {},
   "outputs": [],
   "source": [
    "# 단계 2. 결측값 대입\n",
    "from sklearn.impute import SimpleImputer\n",
    "from sklearn.metrics import mean_squared_error\n",
    "imputer_median = SimpleImputer(missing_values=np.nan, strategy ='median')\n",
    "imputer_median.fit(dataset_incomplete)\n",
    "dataset_filled_median = imputer_median.transform(dataset_incomplete)"
   ]
  },
  {
   "cell_type": "code",
   "execution_count": 9,
   "metadata": {},
   "outputs": [
    {
     "data": {
      "text/plain": [
       "array([[  6.    , 148.    ,  72.    , ...,   0.627 ,  50.    ,   1.    ],\n",
       "       [  3.    ,  85.    ,  72.    , ...,   0.351 ,  31.    ,   0.    ],\n",
       "       [  3.    , 116.    ,  64.    , ...,   0.672 ,  29.    ,   1.    ],\n",
       "       ...,\n",
       "       [  3.    , 121.    ,  72.    , ...,   0.3645,  29.    ,   0.    ],\n",
       "       [  1.    , 126.    ,  60.    , ...,   0.349 ,  29.    ,   1.    ],\n",
       "       [  3.    ,  93.    ,  70.    , ...,   0.315 ,  23.    ,   0.    ]])"
      ]
     },
     "execution_count": 9,
     "metadata": {},
     "output_type": "execute_result"
    }
   ],
   "source": [
    "dataset_filled_median"
   ]
  },
  {
   "cell_type": "code",
   "execution_count": 10,
   "metadata": {},
   "outputs": [
    {
     "name": "stdout",
     "output_type": "stream",
     "text": [
      "MSE-Median : 1079.4539767968874\n"
     ]
    }
   ],
   "source": [
    "missing_true = np.array(dataset)[non_missing_idx[test_idx, 0], non_missing_idx[test_idx, 1]]\n",
    "missing_pred_median = dataset_filled_median[non_missing_idx[test_idx, 0], non_missing_idx[test_idx, 1]]\n",
    "mse_median = mean_squared_error(missing_true, missing_pred_median)\n",
    "print(f'MSE-Median : {mse_median}')"
   ]
  },
  {
   "cell_type": "code",
   "execution_count": 11,
   "metadata": {},
   "outputs": [
    {
     "name": "stderr",
     "output_type": "stream",
     "text": [
      "c:\\users\\taekho\\appdata\\local\\programs\\python\\python37\\lib\\site-packages\\sklearn\\externals\\six.py:31: FutureWarning: The module is deprecated in version 0.21 and will be removed in version 0.23 since we've dropped support for Python 2.7. Please rely on the official version of six (https://pypi.org/project/six/).\n",
      "  \"(https://pypi.org/project/six/).\", FutureWarning)\n",
      "Using TensorFlow backend.\n"
     ]
    }
   ],
   "source": [
    "from fancyimpute import KNN, BiScaler, SoftImpute"
   ]
  },
  {
   "cell_type": "code",
   "execution_count": 13,
   "metadata": {},
   "outputs": [
    {
     "name": "stdout",
     "output_type": "stream",
     "text": [
      "Imputing row 1/768 with 1 missing, elapsed time: 0.119\n",
      "Imputing row 101/768 with 3 missing, elapsed time: 0.124\n",
      "Imputing row 201/768 with 1 missing, elapsed time: 0.128\n",
      "Imputing row 301/768 with 4 missing, elapsed time: 0.131\n",
      "Imputing row 401/768 with 4 missing, elapsed time: 0.135\n",
      "Imputing row 501/768 with 1 missing, elapsed time: 0.139\n",
      "Imputing row 601/768 with 2 missing, elapsed time: 0.143\n",
      "Imputing row 701/768 with 0 missing, elapsed time: 0.148\n"
     ]
    }
   ],
   "source": [
    "imputer_knn = \n",
    "dataset_filled_knn = "
   ]
  },
  {
   "cell_type": "code",
   "execution_count": 14,
   "metadata": {},
   "outputs": [
    {
     "name": "stdout",
     "output_type": "stream",
     "text": [
      "MSE-KNN : 973.978009\n"
     ]
    }
   ],
   "source": [
    "missing_pred_knn = \n",
    "mse_knn = \n",
    "print(\"MSE-KNN : %f\" % mse_knn)"
   ]
  },
  {
   "cell_type": "code",
   "execution_count": 19,
   "metadata": {},
   "outputs": [
    {
     "name": "stdout",
     "output_type": "stream",
     "text": [
      "[BiScaler] Initial log residual value = 14.414355\n",
      "[BiScaler] Iter 1: log residual = 4.134976, log improvement ratio=10.279379\n",
      "[BiScaler] Iter 2: log residual = 3.529690, log improvement ratio=0.605286\n",
      "[BiScaler] Iter 3: log residual = 3.001376, log improvement ratio=0.528314\n",
      "[BiScaler] Iter 4: log residual = 2.524359, log improvement ratio=0.477018\n",
      "[BiScaler] Iter 5: log residual = 2.008003, log improvement ratio=0.516356\n",
      "[BiScaler] Iter 6: log residual = 1.428590, log improvement ratio=0.579413\n",
      "[BiScaler] Iter 7: log residual = 0.790975, log improvement ratio=0.637615\n",
      "[BiScaler] Iter 8: log residual = 0.108088, log improvement ratio=0.682887\n",
      "[BiScaler] Iter 9: log residual = -0.606792, log improvement ratio=0.714880\n",
      "[BiScaler] Iter 10: log residual = -1.342784, log improvement ratio=0.735992\n",
      "[BiScaler] Iter 11: log residual = -2.092024, log improvement ratio=0.749240\n",
      "[BiScaler] Iter 12: log residual = -2.849278, log improvement ratio=0.757254\n",
      "[BiScaler] Iter 13: log residual = -3.611249, log improvement ratio=0.761971\n",
      "[BiScaler] Iter 14: log residual = -4.375934, log improvement ratio=0.764684\n",
      "[BiScaler] Iter 15: log residual = -5.142142, log improvement ratio=0.766208\n",
      "[BiScaler] Iter 16: log residual = -5.909176, log improvement ratio=0.767034\n",
      "[BiScaler] Iter 17: log residual = -6.676634, log improvement ratio=0.767458\n",
      "[BiScaler] Iter 18: log residual = -7.444287, log improvement ratio=0.767653\n",
      "[BiScaler] Iter 19: log residual = -8.212007, log improvement ratio=0.767721\n",
      "[BiScaler] Iter 20: log residual = -8.979729, log improvement ratio=0.767721\n",
      "[BiScaler] Iter 21: log residual = -9.747418, log improvement ratio=0.767689\n",
      "[BiScaler] Iter 22: log residual = -10.515061, log improvement ratio=0.767644\n",
      "[BiScaler] Iter 23: log residual = -11.282657, log improvement ratio=0.767596\n",
      "[BiScaler] Iter 24: log residual = -12.050208, log improvement ratio=0.767551\n",
      "[BiScaler] Iter 25: log residual = -12.817720, log improvement ratio=0.767511\n",
      "[BiScaler] Iter 26: log residual = -13.585197, log improvement ratio=0.767478\n",
      "[BiScaler] Iter 27: log residual = -14.352648, log improvement ratio=0.767450\n",
      "[BiScaler] Iter 28: log residual = -15.120076, log improvement ratio=0.767428\n",
      "[BiScaler] Iter 29: log residual = -15.887486, log improvement ratio=0.767410\n",
      "[BiScaler] Iter 30: log residual = -16.654883, log improvement ratio=0.767397\n",
      "[BiScaler] Iter 31: log residual = -17.422269, log improvement ratio=0.767386\n",
      "[BiScaler] Iter 32: log residual = -18.189646, log improvement ratio=0.767377\n",
      "[BiScaler] Iter 33: log residual = -18.957017, log improvement ratio=0.767371\n",
      "[BiScaler] Iter 34: log residual = -19.724384, log improvement ratio=0.767366\n",
      "[BiScaler] Iter 35: log residual = -20.491746, log improvement ratio=0.767362\n",
      "[BiScaler] Iter 36: log residual = -21.259106, log improvement ratio=0.767360\n",
      "[BiScaler] Iter 37: log residual = -22.026463, log improvement ratio=0.767358\n",
      "[BiScaler] Iter 38: log residual = -22.793819, log improvement ratio=0.767356\n",
      "[BiScaler] Iter 39: log residual = -23.561174, log improvement ratio=0.767355\n",
      "[BiScaler] Iter 40: log residual = -24.328528, log improvement ratio=0.767354\n",
      "[BiScaler] Iter 41: log residual = -25.095881, log improvement ratio=0.767353\n",
      "[BiScaler] Iter 42: log residual = -25.863234, log improvement ratio=0.767353\n",
      "[BiScaler] Iter 43: log residual = -26.630586, log improvement ratio=0.767352\n",
      "[BiScaler] Iter 44: log residual = -27.397938, log improvement ratio=0.767352\n",
      "[BiScaler] Iter 45: log residual = -28.165290, log improvement ratio=0.767352\n",
      "[BiScaler] Iter 46: log residual = -28.932641, log improvement ratio=0.767352\n",
      "[BiScaler] Iter 47: log residual = -29.699993, log improvement ratio=0.767352\n",
      "[BiScaler] Iter 48: log residual = -30.467344, log improvement ratio=0.767351\n",
      "[BiScaler] Iter 49: log residual = -31.234696, log improvement ratio=0.767351\n",
      "[BiScaler] Iter 50: log residual = -32.002047, log improvement ratio=0.767351\n",
      "[BiScaler] Iter 51: log residual = -32.769398, log improvement ratio=0.767351\n",
      "[BiScaler] Iter 52: log residual = -33.536750, log improvement ratio=0.767351\n",
      "[BiScaler] Iter 53: log residual = -34.304101, log improvement ratio=0.767351\n",
      "[BiScaler] Iter 54: log residual = -35.071451, log improvement ratio=0.767350\n",
      "[BiScaler] Iter 55: log residual = -35.838803, log improvement ratio=0.767352\n",
      "[BiScaler] Iter 56: log residual = -36.606155, log improvement ratio=0.767352\n",
      "[BiScaler] Iter 57: log residual = -37.373506, log improvement ratio=0.767351\n",
      "[BiScaler] Iter 58: log residual = -38.140856, log improvement ratio=0.767351\n",
      "[BiScaler] Iter 59: log residual = -38.908210, log improvement ratio=0.767353\n",
      "[BiScaler] Iter 60: log residual = -39.675561, log improvement ratio=0.767352\n",
      "[BiScaler] Iter 61: log residual = -40.442911, log improvement ratio=0.767350\n",
      "[BiScaler] Iter 62: log residual = -41.210250, log improvement ratio=0.767338\n",
      "[BiScaler] Iter 63: log residual = -41.977621, log improvement ratio=0.767371\n",
      "[BiScaler] Iter 64: log residual = -42.744965, log improvement ratio=0.767344\n",
      "[BiScaler] Iter 65: log residual = -43.512351, log improvement ratio=0.767387\n",
      "[BiScaler] Iter 66: log residual = -44.279639, log improvement ratio=0.767287\n",
      "[BiScaler] Iter 67: log residual = -45.047010, log improvement ratio=0.767371\n",
      "[BiScaler] Iter 68: log residual = -45.814365, log improvement ratio=0.767355\n",
      "[BiScaler] Iter 69: log residual = -46.581453, log improvement ratio=0.767088\n",
      "[BiScaler] Iter 70: log residual = -47.349009, log improvement ratio=0.767557\n",
      "[BiScaler] Iter 71: log residual = -48.116460, log improvement ratio=0.767450\n",
      "[BiScaler] Iter 72: log residual = -48.884676, log improvement ratio=0.768216\n",
      "[BiScaler] Iter 73: log residual = -49.650875, log improvement ratio=0.766199\n",
      "[BiScaler] Iter 74: log residual = -50.417988, log improvement ratio=0.767113\n",
      "[BiScaler] Iter 75: log residual = -51.186793, log improvement ratio=0.768805\n",
      "[BiScaler] Iter 76: log residual = -51.952283, log improvement ratio=0.765491\n",
      "[BiScaler] Iter 77: log residual = -52.722431, log improvement ratio=0.770147\n",
      "[BiScaler] Iter 78: log residual = -53.490005, log improvement ratio=0.767574\n",
      "[BiScaler] Iter 79: log residual = -54.255393, log improvement ratio=0.765387\n",
      "[BiScaler] Iter 80: log residual = -55.017093, log improvement ratio=0.761700\n",
      "[BiScaler] Iter 81: log residual = -55.779418, log improvement ratio=0.762325\n",
      "[BiScaler] Iter 82: log residual = -56.533501, log improvement ratio=0.754083\n",
      "[BiScaler] Iter 83: log residual = -57.307076, log improvement ratio=0.773575\n",
      "[BiScaler] Iter 84: log residual = -58.091067, log improvement ratio=0.783991\n",
      "[BiScaler] Iter 85: log residual = -58.888107, log improvement ratio=0.797040\n",
      "[BiScaler] Iter 86: log residual = -59.638178, log improvement ratio=0.750071\n",
      "[BiScaler] Iter 87: log residual = -60.309450, log improvement ratio=0.671273\n",
      "[BiScaler] Iter 88: log residual = -61.020915, log improvement ratio=0.711464\n",
      "[BiScaler] Iter 89: log residual = -61.832449, log improvement ratio=0.811535\n",
      "[BiScaler] Iter 90: log residual = -62.540181, log improvement ratio=0.707732\n",
      "[BiScaler] Iter 91: log residual = -62.834141, log improvement ratio=0.293960\n",
      "[BiScaler] Iter 92: log residual = -63.431210, log improvement ratio=0.597069\n",
      "[BiScaler] Iter 93: log residual = -63.276389, log improvement ratio=-0.154821\n",
      "Imputing row 1/768 with 1 missing, elapsed time: 0.112\n",
      "Imputing row 101/768 with 3 missing, elapsed time: 0.116\n",
      "Imputing row 201/768 with 1 missing, elapsed time: 0.120\n",
      "Imputing row 301/768 with 4 missing, elapsed time: 0.124\n",
      "Imputing row 401/768 with 4 missing, elapsed time: 0.128\n",
      "Imputing row 501/768 with 1 missing, elapsed time: 0.132\n",
      "Imputing row 601/768 with 2 missing, elapsed time: 0.136\n",
      "Imputing row 701/768 with 0 missing, elapsed time: 0.140\n"
     ]
    }
   ],
   "source": [
    "biscaler = BiScaler()\n",
    "biscaler.fit(dataset_incomplete)\n",
    "\n",
    "dataset_incomplete_normalized = biscaler.transform(dataset_incomplete)\n",
    "\n",
    "imputer_knn2 = \n",
    "\n",
    "dataset_filled_knn_norm = \n",
    "dataset_filled_knn2 = "
   ]
  },
  {
   "cell_type": "code",
   "execution_count": 20,
   "metadata": {},
   "outputs": [
    {
     "name": "stdout",
     "output_type": "stream",
     "text": [
      "MSE-KNN with Biscaler : 877.124098\n"
     ]
    }
   ],
   "source": [
    "missing_pred_knn2 = \n",
    "mse_knn2 = \n",
    "print(\"MSE-KNN with Biscaler : %f\" % mse_knn2)"
   ]
  },
  {
   "cell_type": "code",
   "execution_count": 21,
   "metadata": {
    "scrolled": true
   },
   "outputs": [
    {
     "name": "stdout",
     "output_type": "stream",
     "text": [
      "[SoftImpute] Max Singular Value of X_init = 4396.005017\n",
      "[SoftImpute] Iter 1: observed MAE=2.130207 rank=7\n",
      "[SoftImpute] Iter 2: observed MAE=2.145921 rank=6\n",
      "[SoftImpute] Iter 3: observed MAE=2.153385 rank=6\n",
      "[SoftImpute] Iter 4: observed MAE=2.161168 rank=6\n",
      "[SoftImpute] Iter 5: observed MAE=2.169647 rank=6\n",
      "[SoftImpute] Iter 6: observed MAE=2.177820 rank=6\n",
      "[SoftImpute] Iter 7: observed MAE=2.185330 rank=6\n",
      "[SoftImpute] Iter 8: observed MAE=2.191675 rank=6\n",
      "[SoftImpute] Iter 9: observed MAE=2.197058 rank=6\n",
      "[SoftImpute] Iter 10: observed MAE=2.200577 rank=6\n",
      "[SoftImpute] Iter 11: observed MAE=2.203513 rank=6\n",
      "[SoftImpute] Iter 12: observed MAE=2.205988 rank=6\n",
      "[SoftImpute] Iter 13: observed MAE=2.207653 rank=6\n",
      "[SoftImpute] Iter 14: observed MAE=2.208742 rank=6\n",
      "[SoftImpute] Iter 15: observed MAE=2.209473 rank=6\n",
      "[SoftImpute] Iter 16: observed MAE=2.210065 rank=6\n",
      "[SoftImpute] Iter 17: observed MAE=2.210577 rank=6\n",
      "[SoftImpute] Iter 18: observed MAE=2.211065 rank=6\n",
      "[SoftImpute] Iter 19: observed MAE=2.211292 rank=6\n",
      "[SoftImpute] Iter 20: observed MAE=2.211340 rank=6\n",
      "[SoftImpute] Iter 21: observed MAE=2.211205 rank=6\n",
      "[SoftImpute] Iter 22: observed MAE=2.211038 rank=6\n",
      "[SoftImpute] Iter 23: observed MAE=2.210732 rank=6\n",
      "[SoftImpute] Iter 24: observed MAE=2.210364 rank=6\n",
      "[SoftImpute] Iter 25: observed MAE=2.209933 rank=6\n",
      "[SoftImpute] Iter 26: observed MAE=2.209448 rank=6\n",
      "[SoftImpute] Iter 27: observed MAE=2.208946 rank=6\n",
      "[SoftImpute] Iter 28: observed MAE=2.208507 rank=6\n",
      "[SoftImpute] Iter 29: observed MAE=2.208064 rank=6\n",
      "[SoftImpute] Iter 30: observed MAE=2.207636 rank=6\n",
      "[SoftImpute] Iter 31: observed MAE=2.207315 rank=6\n",
      "[SoftImpute] Iter 32: observed MAE=2.207116 rank=6\n",
      "[SoftImpute] Iter 33: observed MAE=2.206984 rank=6\n",
      "[SoftImpute] Iter 34: observed MAE=2.206860 rank=6\n",
      "[SoftImpute] Iter 35: observed MAE=2.206777 rank=6\n",
      "[SoftImpute] Iter 36: observed MAE=2.206729 rank=6\n",
      "[SoftImpute] Iter 37: observed MAE=2.206685 rank=6\n",
      "[SoftImpute] Iter 38: observed MAE=2.206646 rank=6\n",
      "[SoftImpute] Iter 39: observed MAE=2.206604 rank=6\n",
      "[SoftImpute] Iter 40: observed MAE=2.206539 rank=6\n",
      "[SoftImpute] Iter 41: observed MAE=2.206489 rank=6\n",
      "[SoftImpute] Iter 42: observed MAE=2.206409 rank=6\n",
      "[SoftImpute] Iter 43: observed MAE=2.206309 rank=6\n",
      "[SoftImpute] Iter 44: observed MAE=2.206191 rank=6\n",
      "[SoftImpute] Iter 45: observed MAE=2.206075 rank=6\n",
      "[SoftImpute] Iter 46: observed MAE=2.205963 rank=6\n",
      "[SoftImpute] Iter 47: observed MAE=2.205851 rank=6\n",
      "[SoftImpute] Iter 48: observed MAE=2.205716 rank=6\n",
      "[SoftImpute] Iter 49: observed MAE=2.205567 rank=6\n",
      "[SoftImpute] Iter 50: observed MAE=2.205427 rank=6\n",
      "[SoftImpute] Iter 51: observed MAE=2.205287 rank=6\n",
      "[SoftImpute] Iter 52: observed MAE=2.205139 rank=6\n",
      "[SoftImpute] Iter 53: observed MAE=2.204980 rank=6\n",
      "[SoftImpute] Iter 54: observed MAE=2.204819 rank=6\n",
      "[SoftImpute] Iter 55: observed MAE=2.204667 rank=6\n",
      "[SoftImpute] Iter 56: observed MAE=2.204519 rank=6\n",
      "[SoftImpute] Iter 57: observed MAE=2.204368 rank=6\n",
      "[SoftImpute] Iter 58: observed MAE=2.204221 rank=6\n",
      "[SoftImpute] Iter 59: observed MAE=2.204091 rank=6\n",
      "[SoftImpute] Iter 60: observed MAE=2.203970 rank=6\n",
      "[SoftImpute] Iter 61: observed MAE=2.203868 rank=6\n",
      "[SoftImpute] Iter 62: observed MAE=2.203769 rank=6\n",
      "[SoftImpute] Iter 63: observed MAE=2.203665 rank=6\n",
      "[SoftImpute] Iter 64: observed MAE=2.203559 rank=6\n",
      "[SoftImpute] Iter 65: observed MAE=2.203454 rank=6\n",
      "[SoftImpute] Iter 66: observed MAE=2.203348 rank=6\n",
      "[SoftImpute] Iter 67: observed MAE=2.203248 rank=6\n",
      "[SoftImpute] Iter 68: observed MAE=2.203159 rank=6\n",
      "[SoftImpute] Iter 69: observed MAE=2.203095 rank=6\n",
      "[SoftImpute] Iter 70: observed MAE=2.203028 rank=6\n",
      "[SoftImpute] Iter 71: observed MAE=2.202966 rank=6\n",
      "[SoftImpute] Iter 72: observed MAE=2.202908 rank=6\n",
      "[SoftImpute] Iter 73: observed MAE=2.202849 rank=6\n",
      "[SoftImpute] Iter 74: observed MAE=2.202787 rank=6\n",
      "[SoftImpute] Iter 75: observed MAE=2.202724 rank=6\n",
      "[SoftImpute] Iter 76: observed MAE=2.202659 rank=6\n",
      "[SoftImpute] Iter 77: observed MAE=2.202594 rank=6\n",
      "[SoftImpute] Iter 78: observed MAE=2.202527 rank=6\n",
      "[SoftImpute] Iter 79: observed MAE=2.202462 rank=6\n",
      "[SoftImpute] Iter 80: observed MAE=2.202396 rank=6\n",
      "[SoftImpute] Iter 81: observed MAE=2.202329 rank=6\n",
      "[SoftImpute] Iter 82: observed MAE=2.202262 rank=6\n",
      "[SoftImpute] Iter 83: observed MAE=2.202195 rank=6\n",
      "[SoftImpute] Iter 84: observed MAE=2.202128 rank=6\n",
      "[SoftImpute] Iter 85: observed MAE=2.202067 rank=6\n",
      "[SoftImpute] Iter 86: observed MAE=2.202012 rank=6\n",
      "[SoftImpute] Iter 87: observed MAE=2.201958 rank=6\n",
      "[SoftImpute] Iter 88: observed MAE=2.201905 rank=6\n",
      "[SoftImpute] Iter 89: observed MAE=2.201852 rank=6\n",
      "[SoftImpute] Iter 90: observed MAE=2.201798 rank=6\n",
      "[SoftImpute] Iter 91: observed MAE=2.201747 rank=6\n",
      "[SoftImpute] Iter 92: observed MAE=2.201700 rank=6\n",
      "[SoftImpute] Iter 93: observed MAE=2.201654 rank=6\n",
      "[SoftImpute] Iter 94: observed MAE=2.201610 rank=6\n",
      "[SoftImpute] Iter 95: observed MAE=2.201568 rank=6\n",
      "[SoftImpute] Iter 96: observed MAE=2.201527 rank=6\n",
      "[SoftImpute] Iter 97: observed MAE=2.201486 rank=6\n",
      "[SoftImpute] Iter 98: observed MAE=2.201444 rank=6\n",
      "[SoftImpute] Iter 99: observed MAE=2.201404 rank=6\n",
      "[SoftImpute] Iter 100: observed MAE=2.201363 rank=6\n",
      "[SoftImpute] Stopped after iteration 100 for lambda=87.920100\n"
     ]
    }
   ],
   "source": [
    "imputer_soft = \n",
    "\n",
    "dataset_filled_soft = "
   ]
  },
  {
   "cell_type": "code",
   "execution_count": 22,
   "metadata": {},
   "outputs": [
    {
     "name": "stdout",
     "output_type": "stream",
     "text": [
      "MSE-Soft : 1581.233291\n"
     ]
    }
   ],
   "source": [
    "missing_pred_soft = \n",
    "mse_soft = \n",
    "print(\"MSE-Soft : %f\" % mse_soft)"
   ]
  },
  {
   "cell_type": "code",
   "execution_count": 23,
   "metadata": {},
   "outputs": [
    {
     "name": "stdout",
     "output_type": "stream",
     "text": [
      "[SoftImpute] Max Singular Value of X_init = 38.408750\n",
      "[SoftImpute] Iter 1: observed MAE=0.024666 rank=8\n",
      "[SoftImpute] Iter 2: observed MAE=0.024673 rank=8\n",
      "[SoftImpute] Iter 3: observed MAE=0.024705 rank=8\n",
      "[SoftImpute] Iter 4: observed MAE=0.024746 rank=8\n",
      "[SoftImpute] Iter 5: observed MAE=0.024786 rank=8\n",
      "[SoftImpute] Iter 6: observed MAE=0.024822 rank=8\n",
      "[SoftImpute] Iter 7: observed MAE=0.024854 rank=8\n",
      "[SoftImpute] Iter 8: observed MAE=0.024884 rank=8\n",
      "[SoftImpute] Iter 9: observed MAE=0.024910 rank=8\n",
      "[SoftImpute] Iter 10: observed MAE=0.024934 rank=8\n",
      "[SoftImpute] Iter 11: observed MAE=0.024956 rank=8\n",
      "[SoftImpute] Iter 12: observed MAE=0.024976 rank=8\n",
      "[SoftImpute] Iter 13: observed MAE=0.024995 rank=8\n",
      "[SoftImpute] Iter 14: observed MAE=0.025013 rank=8\n",
      "[SoftImpute] Iter 15: observed MAE=0.025030 rank=8\n",
      "[SoftImpute] Iter 16: observed MAE=0.025045 rank=8\n",
      "[SoftImpute] Iter 17: observed MAE=0.025060 rank=8\n",
      "[SoftImpute] Iter 18: observed MAE=0.025074 rank=8\n",
      "[SoftImpute] Iter 19: observed MAE=0.025087 rank=8\n",
      "[SoftImpute] Iter 20: observed MAE=0.025100 rank=8\n",
      "[SoftImpute] Iter 21: observed MAE=0.025112 rank=8\n",
      "[SoftImpute] Iter 22: observed MAE=0.025123 rank=8\n",
      "[SoftImpute] Iter 23: observed MAE=0.025134 rank=8\n",
      "[SoftImpute] Iter 24: observed MAE=0.025145 rank=8\n",
      "[SoftImpute] Iter 25: observed MAE=0.025155 rank=8\n",
      "[SoftImpute] Iter 26: observed MAE=0.025166 rank=8\n",
      "[SoftImpute] Iter 27: observed MAE=0.025176 rank=8\n",
      "[SoftImpute] Iter 28: observed MAE=0.025185 rank=8\n",
      "[SoftImpute] Iter 29: observed MAE=0.025195 rank=8\n",
      "[SoftImpute] Iter 30: observed MAE=0.025204 rank=8\n",
      "[SoftImpute] Iter 31: observed MAE=0.025213 rank=8\n",
      "[SoftImpute] Iter 32: observed MAE=0.025222 rank=8\n",
      "[SoftImpute] Iter 33: observed MAE=0.025231 rank=8\n",
      "[SoftImpute] Iter 34: observed MAE=0.025240 rank=8\n",
      "[SoftImpute] Iter 35: observed MAE=0.025249 rank=8\n",
      "[SoftImpute] Iter 36: observed MAE=0.025257 rank=8\n",
      "[SoftImpute] Iter 37: observed MAE=0.025266 rank=8\n",
      "[SoftImpute] Iter 38: observed MAE=0.025274 rank=8\n",
      "[SoftImpute] Iter 39: observed MAE=0.025282 rank=8\n",
      "[SoftImpute] Iter 40: observed MAE=0.025290 rank=8\n",
      "[SoftImpute] Iter 41: observed MAE=0.025298 rank=8\n",
      "[SoftImpute] Iter 42: observed MAE=0.025306 rank=8\n",
      "[SoftImpute] Iter 43: observed MAE=0.025313 rank=8\n",
      "[SoftImpute] Iter 44: observed MAE=0.025321 rank=8\n",
      "[SoftImpute] Iter 45: observed MAE=0.025328 rank=8\n",
      "[SoftImpute] Iter 46: observed MAE=0.025335 rank=8\n",
      "[SoftImpute] Iter 47: observed MAE=0.025343 rank=8\n",
      "[SoftImpute] Iter 48: observed MAE=0.025350 rank=8\n",
      "[SoftImpute] Iter 49: observed MAE=0.025357 rank=8\n",
      "[SoftImpute] Iter 50: observed MAE=0.025363 rank=8\n",
      "[SoftImpute] Iter 51: observed MAE=0.025370 rank=8\n",
      "[SoftImpute] Iter 52: observed MAE=0.025377 rank=8\n",
      "[SoftImpute] Iter 53: observed MAE=0.025383 rank=8\n",
      "[SoftImpute] Iter 54: observed MAE=0.025389 rank=8\n",
      "[SoftImpute] Iter 55: observed MAE=0.025396 rank=8\n",
      "[SoftImpute] Iter 56: observed MAE=0.025402 rank=8\n",
      "[SoftImpute] Iter 57: observed MAE=0.025408 rank=8\n",
      "[SoftImpute] Iter 58: observed MAE=0.025414 rank=8\n",
      "[SoftImpute] Iter 59: observed MAE=0.025419 rank=8\n",
      "[SoftImpute] Iter 60: observed MAE=0.025425 rank=8\n",
      "[SoftImpute] Iter 61: observed MAE=0.025430 rank=8\n",
      "[SoftImpute] Iter 62: observed MAE=0.025436 rank=8\n",
      "[SoftImpute] Iter 63: observed MAE=0.025441 rank=8\n",
      "[SoftImpute] Iter 64: observed MAE=0.025446 rank=8\n",
      "[SoftImpute] Iter 65: observed MAE=0.025451 rank=8\n",
      "[SoftImpute] Iter 66: observed MAE=0.025456 rank=8\n",
      "[SoftImpute] Iter 67: observed MAE=0.025461 rank=8\n",
      "[SoftImpute] Iter 68: observed MAE=0.025466 rank=8\n",
      "[SoftImpute] Iter 69: observed MAE=0.025470 rank=8\n",
      "[SoftImpute] Iter 70: observed MAE=0.025475 rank=8\n",
      "[SoftImpute] Iter 71: observed MAE=0.025479 rank=8\n",
      "[SoftImpute] Iter 72: observed MAE=0.025483 rank=8\n",
      "[SoftImpute] Iter 73: observed MAE=0.025488 rank=8\n",
      "[SoftImpute] Iter 74: observed MAE=0.025492 rank=8\n",
      "[SoftImpute] Iter 75: observed MAE=0.025496 rank=8\n",
      "[SoftImpute] Iter 76: observed MAE=0.025500 rank=8\n",
      "[SoftImpute] Iter 77: observed MAE=0.025503 rank=8\n",
      "[SoftImpute] Iter 78: observed MAE=0.025507 rank=8\n",
      "[SoftImpute] Iter 79: observed MAE=0.025511 rank=8\n",
      "[SoftImpute] Iter 80: observed MAE=0.025514 rank=8\n",
      "[SoftImpute] Iter 81: observed MAE=0.025518 rank=8\n",
      "[SoftImpute] Iter 82: observed MAE=0.025521 rank=8\n",
      "[SoftImpute] Iter 83: observed MAE=0.025525 rank=8\n",
      "[SoftImpute] Iter 84: observed MAE=0.025528 rank=8\n",
      "[SoftImpute] Iter 85: observed MAE=0.025531 rank=8\n",
      "[SoftImpute] Iter 86: observed MAE=0.025535 rank=8\n",
      "[SoftImpute] Iter 87: observed MAE=0.025538 rank=8\n",
      "[SoftImpute] Iter 88: observed MAE=0.025541 rank=8\n",
      "[SoftImpute] Iter 89: observed MAE=0.025544 rank=8\n",
      "[SoftImpute] Iter 90: observed MAE=0.025546 rank=8\n",
      "[SoftImpute] Iter 91: observed MAE=0.025549 rank=8\n",
      "[SoftImpute] Iter 92: observed MAE=0.025552 rank=8\n",
      "[SoftImpute] Iter 93: observed MAE=0.025554 rank=8\n",
      "[SoftImpute] Iter 94: observed MAE=0.025557 rank=8\n",
      "[SoftImpute] Iter 95: observed MAE=0.025559 rank=8\n",
      "[SoftImpute] Iter 96: observed MAE=0.025562 rank=8\n",
      "[SoftImpute] Iter 97: observed MAE=0.025564 rank=8\n",
      "[SoftImpute] Iter 98: observed MAE=0.025566 rank=8\n",
      "[SoftImpute] Iter 99: observed MAE=0.025568 rank=8\n",
      "[SoftImpute] Iter 100: observed MAE=0.025571 rank=8\n",
      "[SoftImpute] Stopped after iteration 100 for lambda=0.768175\n"
     ]
    }
   ],
   "source": [
    "imputer_soft2 = \n",
    "\n",
    "dataset_filled_soft_norm = \n",
    "dataset_filled_soft2 = biscaler.inverse_transform(dataset_filled_soft_norm)"
   ]
  },
  {
   "cell_type": "code",
   "execution_count": 24,
   "metadata": {},
   "outputs": [
    {
     "name": "stdout",
     "output_type": "stream",
     "text": [
      "MSE-Soft with Biscaler : 855.070915\n"
     ]
    }
   ],
   "source": [
    "missing_pred_soft2 = \n",
    "mse_soft2 = \n",
    "print(\"MSE-Soft with Biscaler : %f\" % mse_soft2)"
   ]
  }
 ],
 "metadata": {
  "kernelspec": {
   "display_name": "Python 3",
   "language": "python",
   "name": "python3"
  },
  "language_info": {
   "codemirror_mode": {
    "name": "ipython",
    "version": 3
   },
   "file_extension": ".py",
   "mimetype": "text/x-python",
   "name": "python",
   "nbconvert_exporter": "python",
   "pygments_lexer": "ipython3",
   "version": "3.7.2"
  }
 },
 "nbformat": 4,
 "nbformat_minor": 2
}
