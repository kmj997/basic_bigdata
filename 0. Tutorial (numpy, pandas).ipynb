{
 "cells": [
  {
   "cell_type": "code",
   "execution_count": 2,
   "metadata": {},
   "outputs": [],
   "source": [
    "import numpy as np\n",
    "\n",
    "import pandas as pd"
   ]
  },
  {
   "cell_type": "code",
   "execution_count": null,
   "metadata": {},
   "outputs": [],
   "source": [
    "\"\"\" Pandas \"\"\""
   ]
  },
  {
   "cell_type": "code",
   "execution_count": 2,
   "metadata": {},
   "outputs": [
    {
     "data": {
      "text/plain": [
       "[1, 3, 5, 7, 8, 9]"
      ]
     },
     "execution_count": 2,
     "metadata": {},
     "output_type": "execute_result"
    }
   ],
   "source": [
    "[1, 3, 5, 7, 8, 9]"
   ]
  },
  {
   "cell_type": "code",
   "execution_count": 3,
   "metadata": {},
   "outputs": [
    {
     "data": {
      "text/plain": [
       "0    1\n",
       "1    3\n",
       "2    5\n",
       "3    7\n",
       "4    8\n",
       "5    9\n",
       "dtype: int64"
      ]
     },
     "execution_count": 3,
     "metadata": {},
     "output_type": "execute_result"
    }
   ],
   "source": [
    "s = pd.Series([1, 3, 5, 7, 8, 9])\n",
    "\n",
    "s"
   ]
  },
  {
   "cell_type": "code",
   "execution_count": 4,
   "metadata": {},
   "outputs": [
    {
     "data": {
      "text/plain": [
       "array([[-0.01110104,  0.15558092,  0.60425784, -0.53760742],\n",
       "       [-0.70112467, -2.60966983, -1.06011007,  0.75015461],\n",
       "       [-0.09276336, -0.28419374,  0.23800565, -1.09659463],\n",
       "       [-0.70944792, -0.2954511 , -0.39847293, -0.30754529],\n",
       "       [-1.71099142,  0.97460539, -0.11665121,  0.88074214],\n",
       "       [-0.84409147,  0.69649141,  1.7943037 ,  1.50260045]])"
      ]
     },
     "execution_count": 4,
     "metadata": {},
     "output_type": "execute_result"
    }
   ],
   "source": [
    "# Random data generation from \"standard normal distribution\"\n",
    "np.random.randn(6, 4)"
   ]
  },
  {
   "cell_type": "code",
   "execution_count": 5,
   "metadata": {},
   "outputs": [
    {
     "data": {
      "text/html": [
       "<div>\n",
       "<style scoped>\n",
       "    .dataframe tbody tr th:only-of-type {\n",
       "        vertical-align: middle;\n",
       "    }\n",
       "\n",
       "    .dataframe tbody tr th {\n",
       "        vertical-align: top;\n",
       "    }\n",
       "\n",
       "    .dataframe thead th {\n",
       "        text-align: right;\n",
       "    }\n",
       "</style>\n",
       "<table border=\"1\" class=\"dataframe\">\n",
       "  <thead>\n",
       "    <tr style=\"text-align: right;\">\n",
       "      <th></th>\n",
       "      <th>A</th>\n",
       "      <th>B</th>\n",
       "      <th>C</th>\n",
       "      <th>D</th>\n",
       "    </tr>\n",
       "  </thead>\n",
       "  <tbody>\n",
       "    <tr>\n",
       "      <th>0</th>\n",
       "      <td>0.261644</td>\n",
       "      <td>-1.068515</td>\n",
       "      <td>0.592608</td>\n",
       "      <td>0.388943</td>\n",
       "    </tr>\n",
       "    <tr>\n",
       "      <th>1</th>\n",
       "      <td>0.004562</td>\n",
       "      <td>-0.067607</td>\n",
       "      <td>1.276591</td>\n",
       "      <td>-1.631235</td>\n",
       "    </tr>\n",
       "    <tr>\n",
       "      <th>2</th>\n",
       "      <td>-1.173389</td>\n",
       "      <td>0.766999</td>\n",
       "      <td>1.401126</td>\n",
       "      <td>-0.709889</td>\n",
       "    </tr>\n",
       "    <tr>\n",
       "      <th>3</th>\n",
       "      <td>1.749407</td>\n",
       "      <td>1.172196</td>\n",
       "      <td>0.420880</td>\n",
       "      <td>-0.720130</td>\n",
       "    </tr>\n",
       "    <tr>\n",
       "      <th>4</th>\n",
       "      <td>-0.950177</td>\n",
       "      <td>0.356857</td>\n",
       "      <td>-1.038518</td>\n",
       "      <td>-1.178869</td>\n",
       "    </tr>\n",
       "    <tr>\n",
       "      <th>5</th>\n",
       "      <td>0.585548</td>\n",
       "      <td>-0.095760</td>\n",
       "      <td>0.237023</td>\n",
       "      <td>2.424021</td>\n",
       "    </tr>\n",
       "  </tbody>\n",
       "</table>\n",
       "</div>"
      ],
      "text/plain": [
       "          A         B         C         D\n",
       "0  0.261644 -1.068515  0.592608  0.388943\n",
       "1  0.004562 -0.067607  1.276591 -1.631235\n",
       "2 -1.173389  0.766999  1.401126 -0.709889\n",
       "3  1.749407  1.172196  0.420880 -0.720130\n",
       "4 -0.950177  0.356857 -1.038518 -1.178869\n",
       "5  0.585548 -0.095760  0.237023  2.424021"
      ]
     },
     "execution_count": 5,
     "metadata": {},
     "output_type": "execute_result"
    }
   ],
   "source": [
    "# Create dataframe from numpy matrix\n",
    "df = pd.DataFrame(np.random.randn(6, 4), columns=['A', 'B', 'C', 'D'])\n",
    "\n",
    "df"
   ]
  },
  {
   "cell_type": "code",
   "execution_count": 22,
   "metadata": {},
   "outputs": [
    {
     "data": {
      "text/html": [
       "<div>\n",
       "<style scoped>\n",
       "    .dataframe tbody tr th:only-of-type {\n",
       "        vertical-align: middle;\n",
       "    }\n",
       "\n",
       "    .dataframe tbody tr th {\n",
       "        vertical-align: top;\n",
       "    }\n",
       "\n",
       "    .dataframe thead th {\n",
       "        text-align: right;\n",
       "    }\n",
       "</style>\n",
       "<table border=\"1\" class=\"dataframe\">\n",
       "  <thead>\n",
       "    <tr style=\"text-align: right;\">\n",
       "      <th></th>\n",
       "      <th>Product</th>\n",
       "      <th>Grade</th>\n",
       "      <th>Price ($)</th>\n",
       "    </tr>\n",
       "  </thead>\n",
       "  <tbody>\n",
       "    <tr>\n",
       "      <th>0</th>\n",
       "      <td>A</td>\n",
       "      <td>1</td>\n",
       "      <td>4.0</td>\n",
       "    </tr>\n",
       "    <tr>\n",
       "      <th>1</th>\n",
       "      <td>B</td>\n",
       "      <td>2</td>\n",
       "      <td>2.5</td>\n",
       "    </tr>\n",
       "    <tr>\n",
       "      <th>2</th>\n",
       "      <td>C</td>\n",
       "      <td>1</td>\n",
       "      <td>3.5</td>\n",
       "    </tr>\n",
       "    <tr>\n",
       "      <th>3</th>\n",
       "      <td>A</td>\n",
       "      <td>1</td>\n",
       "      <td>3.0</td>\n",
       "    </tr>\n",
       "    <tr>\n",
       "      <th>4</th>\n",
       "      <td>D</td>\n",
       "      <td>3</td>\n",
       "      <td>0.5</td>\n",
       "    </tr>\n",
       "  </tbody>\n",
       "</table>\n",
       "</div>"
      ],
      "text/plain": [
       "  Product  Grade  Price ($)\n",
       "0       A      1        4.0\n",
       "1       B      2        2.5\n",
       "2       C      1        3.5\n",
       "3       A      1        3.0\n",
       "4       D      3        0.5"
      ]
     },
     "execution_count": 22,
     "metadata": {},
     "output_type": "execute_result"
    }
   ],
   "source": [
    "# Create dataframe from dictionary\n",
    "data_dictionary = {'Product': ['A', 'B', 'C', 'A', 'D'],\n",
    "                   'Grade': [1, 2, 1, 1, 3],\n",
    "                   'Price ($)': [4, 2.5, 3.5, 3, 0.5]}\n",
    "\n",
    "df_dictionary = pd.DataFrame(data_dictionary)\n",
    "\n",
    "df_dictionary"
   ]
  },
  {
   "cell_type": "code",
   "execution_count": 16,
   "metadata": {},
   "outputs": [
    {
     "name": "stdout",
     "output_type": "stream",
     "text": [
      "df.head()\n",
      "          A         B         C         D\n",
      "0  0.261644 -1.068515  0.592608  0.388943\n",
      "1  0.004562 -0.067607  1.276591 -1.631235\n",
      "2 -1.173389  0.766999  1.401126 -0.709889\n",
      "3  1.749407  1.172196  0.420880 -0.720130\n",
      "4 -0.950177  0.356857 -1.038518 -1.178869\n",
      "\n",
      "df.head(3)\n",
      "          A         B         C         D\n",
      "0  0.261644 -1.068515  0.592608  0.388943\n",
      "1  0.004562 -0.067607  1.276591 -1.631235\n",
      "2 -1.173389  0.766999  1.401126 -0.709889\n"
     ]
    }
   ],
   "source": [
    "# Viewing data\n",
    "print('df.head()')\n",
    "print(df.head())\n",
    "\n",
    "print('')\n",
    "\n",
    "print('df.head(3)')\n",
    "print(df.head(3))"
   ]
  },
  {
   "cell_type": "code",
   "execution_count": 15,
   "metadata": {
    "scrolled": false
   },
   "outputs": [
    {
     "name": "stdout",
     "output_type": "stream",
     "text": [
      "df.tail()\n",
      "          A         B         C         D\n",
      "1  0.004562 -0.067607  1.276591 -1.631235\n",
      "2 -1.173389  0.766999  1.401126 -0.709889\n",
      "3  1.749407  1.172196  0.420880 -0.720130\n",
      "4 -0.950177  0.356857 -1.038518 -1.178869\n",
      "5  0.585548 -0.095760  0.237023  2.424021\n",
      "\n",
      "df.tail(3)\n",
      "          A         B         C         D\n",
      "3  1.749407  1.172196  0.420880 -0.720130\n",
      "4 -0.950177  0.356857 -1.038518 -1.178869\n",
      "5  0.585548 -0.095760  0.237023  2.424021\n"
     ]
    }
   ],
   "source": [
    "print('df.tail()')\n",
    "print(df.tail())\n",
    "\n",
    "print('')\n",
    "\n",
    "print('df.tail(3)')\n",
    "print(df.tail(3))"
   ]
  },
  {
   "cell_type": "code",
   "execution_count": 21,
   "metadata": {},
   "outputs": [
    {
     "data": {
      "text/plain": [
       "Index(['A', 'B', 'C', 'D'], dtype='object')"
      ]
     },
     "execution_count": 21,
     "metadata": {},
     "output_type": "execute_result"
    }
   ],
   "source": [
    "# access to columns names\n",
    "df.columns"
   ]
  },
  {
   "cell_type": "code",
   "execution_count": 20,
   "metadata": {},
   "outputs": [
    {
     "name": "stdout",
     "output_type": "stream",
     "text": [
      "df.to_numpy()\n"
     ]
    },
    {
     "ename": "NameError",
     "evalue": "name 'df' is not defined",
     "output_type": "error",
     "traceback": [
      "\u001b[1;31m---------------------------------------------------------------------------\u001b[0m",
      "\u001b[1;31mNameError\u001b[0m                                 Traceback (most recent call last)",
      "\u001b[1;32m<ipython-input-20-52b74e671cb1>\u001b[0m in \u001b[0;36m<module>\u001b[1;34m\u001b[0m\n\u001b[0;32m      1\u001b[0m \u001b[1;31m# dataframe to numpy array\u001b[0m\u001b[1;33m\u001b[0m\u001b[1;33m\u001b[0m\u001b[1;33m\u001b[0m\u001b[0m\n\u001b[0;32m      2\u001b[0m \u001b[0mprint\u001b[0m\u001b[1;33m(\u001b[0m\u001b[1;34m'df.to_numpy()'\u001b[0m\u001b[1;33m)\u001b[0m\u001b[1;33m\u001b[0m\u001b[1;33m\u001b[0m\u001b[0m\n\u001b[1;32m----> 3\u001b[1;33m \u001b[0mprint\u001b[0m\u001b[1;33m(\u001b[0m\u001b[0mdf\u001b[0m\u001b[1;33m.\u001b[0m\u001b[0mto_numpy\u001b[0m\u001b[1;33m(\u001b[0m\u001b[1;33m)\u001b[0m\u001b[1;33m)\u001b[0m\u001b[1;33m\u001b[0m\u001b[1;33m\u001b[0m\u001b[0m\n\u001b[0m",
      "\u001b[1;31mNameError\u001b[0m: name 'df' is not defined"
     ]
    }
   ],
   "source": [
    "# dataframe to numpy array\n",
    "print('df.to_numpy()')\n",
    "print(df.to_numpy())"
   ]
  },
  {
   "cell_type": "code",
   "execution_count": 30,
   "metadata": {},
   "outputs": [
    {
     "data": {
      "text/html": [
       "<div>\n",
       "<style scoped>\n",
       "    .dataframe tbody tr th:only-of-type {\n",
       "        vertical-align: middle;\n",
       "    }\n",
       "\n",
       "    .dataframe tbody tr th {\n",
       "        vertical-align: top;\n",
       "    }\n",
       "\n",
       "    .dataframe thead th {\n",
       "        text-align: right;\n",
       "    }\n",
       "</style>\n",
       "<table border=\"1\" class=\"dataframe\">\n",
       "  <thead>\n",
       "    <tr style=\"text-align: right;\">\n",
       "      <th></th>\n",
       "      <th>A</th>\n",
       "      <th>B</th>\n",
       "      <th>C</th>\n",
       "      <th>D</th>\n",
       "    </tr>\n",
       "  </thead>\n",
       "  <tbody>\n",
       "    <tr>\n",
       "      <th>3</th>\n",
       "      <td>1.749407</td>\n",
       "      <td>1.172196</td>\n",
       "      <td>0.420880</td>\n",
       "      <td>-0.720130</td>\n",
       "    </tr>\n",
       "    <tr>\n",
       "      <th>2</th>\n",
       "      <td>-1.173389</td>\n",
       "      <td>0.766999</td>\n",
       "      <td>1.401126</td>\n",
       "      <td>-0.709889</td>\n",
       "    </tr>\n",
       "    <tr>\n",
       "      <th>4</th>\n",
       "      <td>-0.950177</td>\n",
       "      <td>0.356857</td>\n",
       "      <td>-1.038518</td>\n",
       "      <td>-1.178869</td>\n",
       "    </tr>\n",
       "    <tr>\n",
       "      <th>1</th>\n",
       "      <td>0.004562</td>\n",
       "      <td>-0.067607</td>\n",
       "      <td>1.276591</td>\n",
       "      <td>-1.631235</td>\n",
       "    </tr>\n",
       "    <tr>\n",
       "      <th>5</th>\n",
       "      <td>0.585548</td>\n",
       "      <td>-0.095760</td>\n",
       "      <td>0.237023</td>\n",
       "      <td>2.424021</td>\n",
       "    </tr>\n",
       "    <tr>\n",
       "      <th>0</th>\n",
       "      <td>0.261644</td>\n",
       "      <td>-1.068515</td>\n",
       "      <td>0.592608</td>\n",
       "      <td>0.388943</td>\n",
       "    </tr>\n",
       "  </tbody>\n",
       "</table>\n",
       "</div>"
      ],
      "text/plain": [
       "          A         B         C         D\n",
       "3  1.749407  1.172196  0.420880 -0.720130\n",
       "2 -1.173389  0.766999  1.401126 -0.709889\n",
       "4 -0.950177  0.356857 -1.038518 -1.178869\n",
       "1  0.004562 -0.067607  1.276591 -1.631235\n",
       "5  0.585548 -0.095760  0.237023  2.424021\n",
       "0  0.261644 -1.068515  0.592608  0.388943"
      ]
     },
     "execution_count": 30,
     "metadata": {},
     "output_type": "execute_result"
    }
   ],
   "source": [
    "# sorting by values\n",
    "df.sort_values(by='B', ascending=False)"
   ]
  },
  {
   "cell_type": "code",
   "execution_count": null,
   "metadata": {},
   "outputs": [],
   "source": [
    "# related to nan\n",
    "df.isna()\n",
    "df.notna()\n",
    "df.dropna()\n",
    "df.fillna()"
   ]
  },
  {
   "cell_type": "code",
   "execution_count": 24,
   "metadata": {},
   "outputs": [
    {
     "data": {
      "text/html": [
       "<div>\n",
       "<style scoped>\n",
       "    .dataframe tbody tr th:only-of-type {\n",
       "        vertical-align: middle;\n",
       "    }\n",
       "\n",
       "    .dataframe tbody tr th {\n",
       "        vertical-align: top;\n",
       "    }\n",
       "\n",
       "    .dataframe thead th {\n",
       "        text-align: right;\n",
       "    }\n",
       "</style>\n",
       "<table border=\"1\" class=\"dataframe\">\n",
       "  <thead>\n",
       "    <tr style=\"text-align: right;\">\n",
       "      <th></th>\n",
       "      <th>0</th>\n",
       "      <th>1</th>\n",
       "      <th>2</th>\n",
       "      <th>3</th>\n",
       "      <th>4</th>\n",
       "    </tr>\n",
       "  </thead>\n",
       "  <tbody>\n",
       "    <tr>\n",
       "      <th>0</th>\n",
       "      <td>4.0</td>\n",
       "      <td>4.0</td>\n",
       "      <td>1.0</td>\n",
       "      <td>4.0</td>\n",
       "      <td>3.0</td>\n",
       "    </tr>\n",
       "    <tr>\n",
       "      <th>1</th>\n",
       "      <td>1.0</td>\n",
       "      <td>NaN</td>\n",
       "      <td>4.0</td>\n",
       "      <td>2.0</td>\n",
       "      <td>2.0</td>\n",
       "    </tr>\n",
       "    <tr>\n",
       "      <th>2</th>\n",
       "      <td>3.0</td>\n",
       "      <td>NaN</td>\n",
       "      <td>NaN</td>\n",
       "      <td>NaN</td>\n",
       "      <td>2.0</td>\n",
       "    </tr>\n",
       "    <tr>\n",
       "      <th>3</th>\n",
       "      <td>2.0</td>\n",
       "      <td>1.0</td>\n",
       "      <td>1.0</td>\n",
       "      <td>4.0</td>\n",
       "      <td>1.0</td>\n",
       "    </tr>\n",
       "    <tr>\n",
       "      <th>4</th>\n",
       "      <td>NaN</td>\n",
       "      <td>2.0</td>\n",
       "      <td>3.0</td>\n",
       "      <td>NaN</td>\n",
       "      <td>1.0</td>\n",
       "    </tr>\n",
       "    <tr>\n",
       "      <th>5</th>\n",
       "      <td>NaN</td>\n",
       "      <td>4.0</td>\n",
       "      <td>4.0</td>\n",
       "      <td>4.0</td>\n",
       "      <td>3.0</td>\n",
       "    </tr>\n",
       "    <tr>\n",
       "      <th>6</th>\n",
       "      <td>1.0</td>\n",
       "      <td>4.0</td>\n",
       "      <td>1.0</td>\n",
       "      <td>3.0</td>\n",
       "      <td>NaN</td>\n",
       "    </tr>\n",
       "    <tr>\n",
       "      <th>7</th>\n",
       "      <td>1.0</td>\n",
       "      <td>4.0</td>\n",
       "      <td>1.0</td>\n",
       "      <td>4.0</td>\n",
       "      <td>3.0</td>\n",
       "    </tr>\n",
       "    <tr>\n",
       "      <th>8</th>\n",
       "      <td>3.0</td>\n",
       "      <td>1.0</td>\n",
       "      <td>1.0</td>\n",
       "      <td>1.0</td>\n",
       "      <td>NaN</td>\n",
       "    </tr>\n",
       "    <tr>\n",
       "      <th>9</th>\n",
       "      <td>NaN</td>\n",
       "      <td>1.0</td>\n",
       "      <td>1.0</td>\n",
       "      <td>4.0</td>\n",
       "      <td>4.0</td>\n",
       "    </tr>\n",
       "    <tr>\n",
       "      <th>10</th>\n",
       "      <td>NaN</td>\n",
       "      <td>1.0</td>\n",
       "      <td>2.0</td>\n",
       "      <td>NaN</td>\n",
       "      <td>NaN</td>\n",
       "    </tr>\n",
       "    <tr>\n",
       "      <th>11</th>\n",
       "      <td>4.0</td>\n",
       "      <td>2.0</td>\n",
       "      <td>4.0</td>\n",
       "      <td>1.0</td>\n",
       "      <td>NaN</td>\n",
       "    </tr>\n",
       "    <tr>\n",
       "      <th>12</th>\n",
       "      <td>3.0</td>\n",
       "      <td>2.0</td>\n",
       "      <td>3.0</td>\n",
       "      <td>2.0</td>\n",
       "      <td>1.0</td>\n",
       "    </tr>\n",
       "    <tr>\n",
       "      <th>13</th>\n",
       "      <td>1.0</td>\n",
       "      <td>2.0</td>\n",
       "      <td>NaN</td>\n",
       "      <td>3.0</td>\n",
       "      <td>NaN</td>\n",
       "    </tr>\n",
       "    <tr>\n",
       "      <th>14</th>\n",
       "      <td>4.0</td>\n",
       "      <td>1.0</td>\n",
       "      <td>3.0</td>\n",
       "      <td>1.0</td>\n",
       "      <td>2.0</td>\n",
       "    </tr>\n",
       "    <tr>\n",
       "      <th>15</th>\n",
       "      <td>NaN</td>\n",
       "      <td>4.0</td>\n",
       "      <td>4.0</td>\n",
       "      <td>3.0</td>\n",
       "      <td>3.0</td>\n",
       "    </tr>\n",
       "    <tr>\n",
       "      <th>16</th>\n",
       "      <td>2.0</td>\n",
       "      <td>3.0</td>\n",
       "      <td>4.0</td>\n",
       "      <td>1.0</td>\n",
       "      <td>4.0</td>\n",
       "    </tr>\n",
       "    <tr>\n",
       "      <th>17</th>\n",
       "      <td>4.0</td>\n",
       "      <td>1.0</td>\n",
       "      <td>2.0</td>\n",
       "      <td>NaN</td>\n",
       "      <td>4.0</td>\n",
       "    </tr>\n",
       "    <tr>\n",
       "      <th>18</th>\n",
       "      <td>3.0</td>\n",
       "      <td>1.0</td>\n",
       "      <td>2.0</td>\n",
       "      <td>3.0</td>\n",
       "      <td>1.0</td>\n",
       "    </tr>\n",
       "    <tr>\n",
       "      <th>19</th>\n",
       "      <td>3.0</td>\n",
       "      <td>3.0</td>\n",
       "      <td>1.0</td>\n",
       "      <td>1.0</td>\n",
       "      <td>2.0</td>\n",
       "    </tr>\n",
       "  </tbody>\n",
       "</table>\n",
       "</div>"
      ],
      "text/plain": [
       "      0    1    2    3    4\n",
       "0   4.0  4.0  1.0  4.0  3.0\n",
       "1   1.0  NaN  4.0  2.0  2.0\n",
       "2   3.0  NaN  NaN  NaN  2.0\n",
       "3   2.0  1.0  1.0  4.0  1.0\n",
       "4   NaN  2.0  3.0  NaN  1.0\n",
       "5   NaN  4.0  4.0  4.0  3.0\n",
       "6   1.0  4.0  1.0  3.0  NaN\n",
       "7   1.0  4.0  1.0  4.0  3.0\n",
       "8   3.0  1.0  1.0  1.0  NaN\n",
       "9   NaN  1.0  1.0  4.0  4.0\n",
       "10  NaN  1.0  2.0  NaN  NaN\n",
       "11  4.0  2.0  4.0  1.0  NaN\n",
       "12  3.0  2.0  3.0  2.0  1.0\n",
       "13  1.0  2.0  NaN  3.0  NaN\n",
       "14  4.0  1.0  3.0  1.0  2.0\n",
       "15  NaN  4.0  4.0  3.0  3.0\n",
       "16  2.0  3.0  4.0  1.0  4.0\n",
       "17  4.0  1.0  2.0  NaN  4.0\n",
       "18  3.0  1.0  2.0  3.0  1.0\n",
       "19  3.0  3.0  1.0  1.0  2.0"
      ]
     },
     "execution_count": 24,
     "metadata": {},
     "output_type": "execute_result"
    }
   ],
   "source": [
    "df2 = pd.DataFrame(np.random.choice([1, 2, 3, 4, np.nan], size=[20, 5]))\n",
    "df2"
   ]
  },
  {
   "cell_type": "code",
   "execution_count": 27,
   "metadata": {},
   "outputs": [
    {
     "data": {
      "text/html": [
       "<div>\n",
       "<style scoped>\n",
       "    .dataframe tbody tr th:only-of-type {\n",
       "        vertical-align: middle;\n",
       "    }\n",
       "\n",
       "    .dataframe tbody tr th {\n",
       "        vertical-align: top;\n",
       "    }\n",
       "\n",
       "    .dataframe thead th {\n",
       "        text-align: right;\n",
       "    }\n",
       "</style>\n",
       "<table border=\"1\" class=\"dataframe\">\n",
       "  <thead>\n",
       "    <tr style=\"text-align: right;\">\n",
       "      <th></th>\n",
       "      <th>1</th>\n",
       "      <th>2</th>\n",
       "      <th>3</th>\n",
       "    </tr>\n",
       "  </thead>\n",
       "  <tbody>\n",
       "    <tr>\n",
       "      <th>0</th>\n",
       "      <td>4.0</td>\n",
       "      <td>1.0</td>\n",
       "      <td>4.0</td>\n",
       "    </tr>\n",
       "    <tr>\n",
       "      <th>1</th>\n",
       "      <td>NaN</td>\n",
       "      <td>4.0</td>\n",
       "      <td>2.0</td>\n",
       "    </tr>\n",
       "    <tr>\n",
       "      <th>2</th>\n",
       "      <td>NaN</td>\n",
       "      <td>NaN</td>\n",
       "      <td>NaN</td>\n",
       "    </tr>\n",
       "    <tr>\n",
       "      <th>3</th>\n",
       "      <td>1.0</td>\n",
       "      <td>1.0</td>\n",
       "      <td>4.0</td>\n",
       "    </tr>\n",
       "    <tr>\n",
       "      <th>4</th>\n",
       "      <td>2.0</td>\n",
       "      <td>3.0</td>\n",
       "      <td>NaN</td>\n",
       "    </tr>\n",
       "    <tr>\n",
       "      <th>5</th>\n",
       "      <td>4.0</td>\n",
       "      <td>4.0</td>\n",
       "      <td>4.0</td>\n",
       "    </tr>\n",
       "    <tr>\n",
       "      <th>6</th>\n",
       "      <td>4.0</td>\n",
       "      <td>1.0</td>\n",
       "      <td>3.0</td>\n",
       "    </tr>\n",
       "    <tr>\n",
       "      <th>7</th>\n",
       "      <td>4.0</td>\n",
       "      <td>1.0</td>\n",
       "      <td>4.0</td>\n",
       "    </tr>\n",
       "    <tr>\n",
       "      <th>8</th>\n",
       "      <td>1.0</td>\n",
       "      <td>1.0</td>\n",
       "      <td>1.0</td>\n",
       "    </tr>\n",
       "    <tr>\n",
       "      <th>9</th>\n",
       "      <td>1.0</td>\n",
       "      <td>1.0</td>\n",
       "      <td>4.0</td>\n",
       "    </tr>\n",
       "    <tr>\n",
       "      <th>10</th>\n",
       "      <td>1.0</td>\n",
       "      <td>2.0</td>\n",
       "      <td>NaN</td>\n",
       "    </tr>\n",
       "    <tr>\n",
       "      <th>11</th>\n",
       "      <td>2.0</td>\n",
       "      <td>4.0</td>\n",
       "      <td>1.0</td>\n",
       "    </tr>\n",
       "    <tr>\n",
       "      <th>12</th>\n",
       "      <td>2.0</td>\n",
       "      <td>3.0</td>\n",
       "      <td>2.0</td>\n",
       "    </tr>\n",
       "    <tr>\n",
       "      <th>13</th>\n",
       "      <td>2.0</td>\n",
       "      <td>NaN</td>\n",
       "      <td>3.0</td>\n",
       "    </tr>\n",
       "    <tr>\n",
       "      <th>14</th>\n",
       "      <td>1.0</td>\n",
       "      <td>3.0</td>\n",
       "      <td>1.0</td>\n",
       "    </tr>\n",
       "    <tr>\n",
       "      <th>15</th>\n",
       "      <td>4.0</td>\n",
       "      <td>4.0</td>\n",
       "      <td>3.0</td>\n",
       "    </tr>\n",
       "    <tr>\n",
       "      <th>16</th>\n",
       "      <td>3.0</td>\n",
       "      <td>4.0</td>\n",
       "      <td>1.0</td>\n",
       "    </tr>\n",
       "    <tr>\n",
       "      <th>17</th>\n",
       "      <td>1.0</td>\n",
       "      <td>2.0</td>\n",
       "      <td>NaN</td>\n",
       "    </tr>\n",
       "    <tr>\n",
       "      <th>18</th>\n",
       "      <td>1.0</td>\n",
       "      <td>2.0</td>\n",
       "      <td>3.0</td>\n",
       "    </tr>\n",
       "    <tr>\n",
       "      <th>19</th>\n",
       "      <td>3.0</td>\n",
       "      <td>1.0</td>\n",
       "      <td>1.0</td>\n",
       "    </tr>\n",
       "  </tbody>\n",
       "</table>\n",
       "</div>"
      ],
      "text/plain": [
       "      1    2    3\n",
       "0   4.0  1.0  4.0\n",
       "1   NaN  4.0  2.0\n",
       "2   NaN  NaN  NaN\n",
       "3   1.0  1.0  4.0\n",
       "4   2.0  3.0  NaN\n",
       "5   4.0  4.0  4.0\n",
       "6   4.0  1.0  3.0\n",
       "7   4.0  1.0  4.0\n",
       "8   1.0  1.0  1.0\n",
       "9   1.0  1.0  4.0\n",
       "10  1.0  2.0  NaN\n",
       "11  2.0  4.0  1.0\n",
       "12  2.0  3.0  2.0\n",
       "13  2.0  NaN  3.0\n",
       "14  1.0  3.0  1.0\n",
       "15  4.0  4.0  3.0\n",
       "16  3.0  4.0  1.0\n",
       "17  1.0  2.0  NaN\n",
       "18  1.0  2.0  3.0\n",
       "19  3.0  1.0  1.0"
      ]
     },
     "execution_count": 27,
     "metadata": {},
     "output_type": "execute_result"
    }
   ],
   "source": [
    "df2.drop(columns=[0, 4])"
   ]
  },
  {
   "cell_type": "code",
   "execution_count": null,
   "metadata": {},
   "outputs": [],
   "source": [
    "df2.drop(index=[2, 10])"
   ]
  },
  {
   "cell_type": "code",
   "execution_count": null,
   "metadata": {},
   "outputs": [],
   "source": [
    "df.drop_duplicates()"
   ]
  },
  {
   "cell_type": "code",
   "execution_count": null,
   "metadata": {},
   "outputs": [],
   "source": [
    "\"\"\" Numpy \"\"\""
   ]
  },
  {
   "cell_type": "code",
   "execution_count": 5,
   "metadata": {},
   "outputs": [
    {
     "data": {
      "text/plain": [
       "array([[ 0,  1,  2,  3,  4],\n",
       "       [ 5,  6,  7,  8,  9],\n",
       "       [10, 11, 12, 13, 14],\n",
       "       [15, 16, 17, 18, 19],\n",
       "       [20, 21, 22, 23, 24],\n",
       "       [25, 26, 27, 28, 29],\n",
       "       [30, 31, 32, 33, 34],\n",
       "       [35, 36, 37, 38, 39],\n",
       "       [40, 41, 42, 43, 44],\n",
       "       [45, 46, 47, 48, 49],\n",
       "       [50, 51, 52, 53, 54],\n",
       "       [55, 56, 57, 58, 59],\n",
       "       [60, 61, 62, 63, 64],\n",
       "       [65, 66, 67, 68, 69],\n",
       "       [70, 71, 72, 73, 74],\n",
       "       [75, 76, 77, 78, 79],\n",
       "       [80, 81, 82, 83, 84],\n",
       "       [85, 86, 87, 88, 89],\n",
       "       [90, 91, 92, 93, 94],\n",
       "       [95, 96, 97, 98, 99]])"
      ]
     },
     "execution_count": 5,
     "metadata": {},
     "output_type": "execute_result"
    }
   ],
   "source": [
    "arr = np.arange(100)\n",
    "arr_2d = arr.reshape(-1, 5)\n",
    "\n",
    "arr_2d"
   ]
  },
  {
   "cell_type": "code",
   "execution_count": 6,
   "metadata": {},
   "outputs": [
    {
     "ename": "ValueError",
     "evalue": "cannot reshape array of size 100 into shape (3)",
     "output_type": "error",
     "traceback": [
      "\u001b[1;31m---------------------------------------------------------------------------\u001b[0m",
      "\u001b[1;31mValueError\u001b[0m                                Traceback (most recent call last)",
      "\u001b[1;32m<ipython-input-6-80652f53928d>\u001b[0m in \u001b[0;36m<module>\u001b[1;34m\u001b[0m\n\u001b[1;32m----> 1\u001b[1;33m \u001b[0marr_2d\u001b[0m \u001b[1;33m=\u001b[0m \u001b[0marr\u001b[0m\u001b[1;33m.\u001b[0m\u001b[0mreshape\u001b[0m\u001b[1;33m(\u001b[0m\u001b[1;33m-\u001b[0m\u001b[1;36m1\u001b[0m\u001b[1;33m,\u001b[0m \u001b[1;36m3\u001b[0m\u001b[1;33m)\u001b[0m\u001b[1;33m\u001b[0m\u001b[1;33m\u001b[0m\u001b[0m\n\u001b[0m",
      "\u001b[1;31mValueError\u001b[0m: cannot reshape array of size 100 into shape (3)"
     ]
    }
   ],
   "source": [
    "arr_2d = arr.reshape(-1, 3)"
   ]
  },
  {
   "cell_type": "code",
   "execution_count": null,
   "metadata": {},
   "outputs": [],
   "source": [
    "# transform into 1-dimensional array\n",
    "arr_2d.ravel()\n",
    "arr_2d.flatten()"
   ]
  },
  {
   "cell_type": "code",
   "execution_count": null,
   "metadata": {},
   "outputs": [],
   "source": [
    "# transpose\n",
    "arr_2d.T"
   ]
  },
  {
   "cell_type": "code",
   "execution_count": 9,
   "metadata": {},
   "outputs": [
    {
     "data": {
      "text/plain": [
       "array([[3, 0, 1, 4, 4],\n",
       "       [0, 1, 3, 1, 0],\n",
       "       [2, 0, 3, 3, 4],\n",
       "       [4, 1, 2, 2, 4],\n",
       "       [2, 2, 3, 2, 4],\n",
       "       [3, 0, 4, 1, 4],\n",
       "       [3, 3, 0, 4, 1],\n",
       "       [1, 1, 4, 0, 0],\n",
       "       [3, 1, 3, 4, 1],\n",
       "       [1, 0, 3, 3, 1],\n",
       "       [1, 2, 1, 1, 4],\n",
       "       [2, 3, 4, 3, 1],\n",
       "       [2, 0, 1, 3, 2],\n",
       "       [0, 1, 1, 2, 4],\n",
       "       [3, 3, 1, 4, 3],\n",
       "       [4, 2, 4, 1, 0],\n",
       "       [0, 4, 4, 0, 3],\n",
       "       [1, 1, 0, 2, 0],\n",
       "       [4, 0, 2, 0, 4],\n",
       "       [2, 0, 2, 3, 4]])"
      ]
     },
     "execution_count": 9,
     "metadata": {},
     "output_type": "execute_result"
    }
   ],
   "source": [
    "# np.where, np.argwhere\n",
    "arr2 = np.random.choice(5, size=[20, 5])\n",
    "arr2"
   ]
  },
  {
   "cell_type": "code",
   "execution_count": 10,
   "metadata": {},
   "outputs": [
    {
     "data": {
      "text/plain": [
       "array([[False, False, False, False, False],\n",
       "       [False, False, False, False, False],\n",
       "       [ True, False, False, False, False],\n",
       "       [False, False,  True,  True, False],\n",
       "       [ True,  True, False,  True, False],\n",
       "       [False, False, False, False, False],\n",
       "       [False, False, False, False, False],\n",
       "       [False, False, False, False, False],\n",
       "       [False, False, False, False, False],\n",
       "       [False, False, False, False, False],\n",
       "       [False,  True, False, False, False],\n",
       "       [ True, False, False, False, False],\n",
       "       [ True, False, False, False,  True],\n",
       "       [False, False, False,  True, False],\n",
       "       [False, False, False, False, False],\n",
       "       [False,  True, False, False, False],\n",
       "       [False, False, False, False, False],\n",
       "       [False, False, False,  True, False],\n",
       "       [False, False,  True, False, False],\n",
       "       [ True, False,  True, False, False]])"
      ]
     },
     "execution_count": 10,
     "metadata": {},
     "output_type": "execute_result"
    }
   ],
   "source": [
    "arr2 == 2"
   ]
  },
  {
   "cell_type": "code",
   "execution_count": 11,
   "metadata": {},
   "outputs": [
    {
     "data": {
      "text/plain": [
       "(array([ 2,  3,  3,  4,  4,  4, 10, 11, 12, 12, 13, 15, 17, 18, 19, 19],\n",
       "       dtype=int64),\n",
       " array([0, 2, 3, 0, 1, 3, 1, 0, 0, 4, 3, 1, 3, 2, 0, 2], dtype=int64))"
      ]
     },
     "execution_count": 11,
     "metadata": {},
     "output_type": "execute_result"
    }
   ],
   "source": [
    "np.where(arr2 == 2)"
   ]
  },
  {
   "cell_type": "code",
   "execution_count": 14,
   "metadata": {},
   "outputs": [
    {
     "data": {
      "text/plain": [
       "tuple"
      ]
     },
     "execution_count": 14,
     "metadata": {},
     "output_type": "execute_result"
    }
   ],
   "source": [
    "type(np.where(arr2 == 2))"
   ]
  },
  {
   "cell_type": "code",
   "execution_count": 15,
   "metadata": {},
   "outputs": [
    {
     "data": {
      "text/plain": [
       "array([ 2,  3,  3,  4,  4,  4, 10, 11, 12, 12, 13, 15, 17, 18, 19, 19],\n",
       "      dtype=int64)"
      ]
     },
     "execution_count": 15,
     "metadata": {},
     "output_type": "execute_result"
    }
   ],
   "source": [
    "np.where(arr2 == 2)[0]"
   ]
  },
  {
   "cell_type": "code",
   "execution_count": 16,
   "metadata": {},
   "outputs": [
    {
     "data": {
      "text/plain": [
       "array([0, 2, 3, 0, 1, 3, 1, 0, 0, 4, 3, 1, 3, 2, 0, 2], dtype=int64)"
      ]
     },
     "execution_count": 16,
     "metadata": {},
     "output_type": "execute_result"
    }
   ],
   "source": [
    "np.where(arr2 == 2)[1]"
   ]
  },
  {
   "cell_type": "code",
   "execution_count": 31,
   "metadata": {},
   "outputs": [
    {
     "data": {
      "text/plain": [
       "array([[ 2,  0],\n",
       "       [ 3,  2],\n",
       "       [ 3,  3],\n",
       "       [ 4,  0],\n",
       "       [ 4,  1],\n",
       "       [ 4,  3],\n",
       "       [10,  1],\n",
       "       [11,  0],\n",
       "       [12,  0],\n",
       "       [12,  4],\n",
       "       [13,  3],\n",
       "       [15,  1],\n",
       "       [17,  3],\n",
       "       [18,  2],\n",
       "       [19,  0],\n",
       "       [19,  2]], dtype=int64)"
      ]
     },
     "execution_count": 31,
     "metadata": {},
     "output_type": "execute_result"
    }
   ],
   "source": [
    "np.argwhere(arr2 == 2)"
   ]
  },
  {
   "cell_type": "code",
   "execution_count": 33,
   "metadata": {},
   "outputs": [
    {
     "data": {
      "text/plain": [
       "array([[False, False,  True, False, False],\n",
       "       [False,  True, False,  True, False],\n",
       "       [ True, False, False, False, False],\n",
       "       [False,  True,  True,  True, False],\n",
       "       [ True,  True, False,  True, False],\n",
       "       [False, False, False,  True, False],\n",
       "       [False, False, False, False,  True],\n",
       "       [ True,  True, False, False, False],\n",
       "       [False,  True, False, False,  True],\n",
       "       [ True, False, False, False,  True],\n",
       "       [ True,  True,  True,  True, False],\n",
       "       [ True, False, False, False,  True],\n",
       "       [ True, False,  True, False,  True],\n",
       "       [False,  True,  True,  True, False],\n",
       "       [False, False,  True, False, False],\n",
       "       [False,  True, False,  True, False],\n",
       "       [False, False, False, False, False],\n",
       "       [ True,  True, False,  True, False],\n",
       "       [False, False,  True, False, False],\n",
       "       [ True, False,  True, False, False]])"
      ]
     },
     "execution_count": 33,
     "metadata": {},
     "output_type": "execute_result"
    }
   ],
   "source": [
    "np.isin(arr2, [1, 2])"
   ]
  },
  {
   "cell_type": "code",
   "execution_count": 32,
   "metadata": {},
   "outputs": [
    {
     "data": {
      "text/plain": [
       "array([False, False,  True, False, False, False,  True, False,  True,\n",
       "       False,  True, False, False, False, False, False,  True,  True,\n",
       "        True, False,  True,  True, False,  True, False, False, False,\n",
       "       False,  True, False, False, False, False, False,  True,  True,\n",
       "        True, False, False, False, False,  True, False, False,  True,\n",
       "        True, False, False, False,  True,  True,  True,  True,  True,\n",
       "       False,  True, False, False, False,  True,  True, False,  True,\n",
       "       False,  True, False,  True,  True,  True, False, False, False,\n",
       "        True, False, False, False,  True, False,  True, False, False,\n",
       "       False, False, False, False,  True,  True, False,  True, False,\n",
       "       False, False,  True, False, False,  True, False,  True, False,\n",
       "       False])"
      ]
     },
     "execution_count": 32,
     "metadata": {},
     "output_type": "execute_result"
    }
   ],
   "source": [
    "np.in1d(arr2, [1, 2])"
   ]
  },
  {
   "cell_type": "code",
   "execution_count": null,
   "metadata": {},
   "outputs": [],
   "source": [
    "# set operations\n",
    "np.setdiff1d\n",
    "np.setxor1d\n",
    "np.union1d\n",
    "np.intersect1d"
   ]
  },
  {
   "cell_type": "code",
   "execution_count": 36,
   "metadata": {},
   "outputs": [
    {
     "data": {
      "text/plain": [
       "array([[0, 1, 3, 4, 4],\n",
       "       [0, 0, 1, 1, 3],\n",
       "       [0, 2, 3, 3, 4],\n",
       "       [1, 2, 2, 4, 4],\n",
       "       [2, 2, 2, 3, 4],\n",
       "       [0, 1, 3, 4, 4],\n",
       "       [0, 1, 3, 3, 4],\n",
       "       [0, 0, 1, 1, 4],\n",
       "       [1, 1, 3, 3, 4],\n",
       "       [0, 1, 1, 3, 3],\n",
       "       [1, 1, 1, 2, 4],\n",
       "       [1, 2, 3, 3, 4],\n",
       "       [0, 1, 2, 2, 3],\n",
       "       [0, 1, 1, 2, 4],\n",
       "       [1, 3, 3, 3, 4],\n",
       "       [0, 1, 2, 4, 4],\n",
       "       [0, 0, 3, 4, 4],\n",
       "       [0, 0, 1, 1, 2],\n",
       "       [0, 0, 2, 4, 4],\n",
       "       [0, 2, 2, 3, 4]])"
      ]
     },
     "execution_count": 36,
     "metadata": {},
     "output_type": "execute_result"
    }
   ],
   "source": [
    "# sorting\n",
    "np.sort(arr2)"
   ]
  },
  {
   "cell_type": "code",
   "execution_count": null,
   "metadata": {},
   "outputs": [],
   "source": [
    "np.argsort(arr2)"
   ]
  },
  {
   "cell_type": "code",
   "execution_count": null,
   "metadata": {},
   "outputs": [],
   "source": [
    "np.argmax\n",
    "np.argmin"
   ]
  },
  {
   "cell_type": "code",
   "execution_count": null,
   "metadata": {},
   "outputs": [],
   "source": [
    "np.max\n",
    "np.min\n",
    "np.nanmax\n",
    "np.nanmin\n",
    "\n",
    "np.mean\n",
    "np.nanmean\n",
    "np.std\n",
    "np.nanstd\n",
    "np.var\n",
    "np.nanvar"
   ]
  },
  {
   "cell_type": "code",
   "execution_count": 38,
   "metadata": {},
   "outputs": [
    {
     "data": {
      "text/plain": [
       "array([0.96930323, 0.92011963, 0.31757244, 0.21977078, 0.62158153,\n",
       "       0.26752429, 0.33025926, 0.59791701, 0.61044921, 0.66768826,\n",
       "       0.71624226, 0.26357063, 0.80176772, 0.6799356 , 0.33610096,\n",
       "       0.31441685, 0.02626316, 0.04600306, 0.07218507, 0.4617409 ,\n",
       "       0.646876  , 0.89526762, 0.26747599, 0.97500452, 0.72228905,\n",
       "       0.02075053, 0.94807893, 0.52993395, 0.5054757 , 0.18467313,\n",
       "       0.61134579, 0.60353787, 0.93221196, 0.2690681 , 0.5544001 ,\n",
       "       0.02200685, 0.55489447, 0.56035428, 0.27019734, 0.48328573,\n",
       "       0.69811195, 0.76392477, 0.25524967, 0.94366196, 0.25507064,\n",
       "       0.9583366 , 0.16199523, 0.16583148, 0.04417132, 0.45927685,\n",
       "       0.38887102, 0.04893331, 0.05798639, 0.03666532, 0.73768248,\n",
       "       0.25267954, 0.09217124, 0.69090139, 0.08365703, 0.12458055,\n",
       "       0.09975049, 0.19154108, 0.71231331, 0.11408717, 0.82425333,\n",
       "       0.73386527, 0.16107186, 0.64786522, 0.36379511, 0.57873232,\n",
       "       0.6183269 , 0.22356044, 0.03201742, 0.79919289, 0.89365734,\n",
       "       0.34619835, 0.9735936 , 0.33215359, 0.79268519, 0.09089966,\n",
       "       0.67141085, 0.02315693, 0.87105684, 0.70104396, 0.28329879,\n",
       "       0.15496104, 0.17321849, 0.30376821, 0.77675885, 0.64805613,\n",
       "       0.97912446, 0.28145226, 0.56541777, 0.65858147, 0.99172492,\n",
       "       0.08231517, 0.34639459, 0.13657784, 0.43615722, 0.37317696])"
      ]
     },
     "execution_count": 38,
     "metadata": {},
     "output_type": "execute_result"
    }
   ],
   "source": [
    "np.random.rand\n",
    "np.random.randn\n",
    "np.random.randint\n",
    "np.random.choice"
   ]
  },
  {
   "cell_type": "code",
   "execution_count": 48,
   "metadata": {},
   "outputs": [
    {
     "data": {
      "text/plain": [
       "array([[1, 2, 3],\n",
       "       [2, 3, 4]])"
      ]
     },
     "execution_count": 48,
     "metadata": {},
     "output_type": "execute_result"
    }
   ],
   "source": [
    "a = [1, 2, 3]\n",
    "b = [2, 3, 4]"
   ]
  },
  {
   "cell_type": "code",
   "execution_count": null,
   "metadata": {},
   "outputs": [],
   "source": [
    "np.c_\n",
    "np.r_\n",
    "\n",
    "np.vstack\n",
    "np.hstack"
   ]
  },
  {
   "cell_type": "code",
   "execution_count": null,
   "metadata": {},
   "outputs": [],
   "source": [
    "np.split(arr, 10)\n",
    "np.array_split"
   ]
  },
  {
   "cell_type": "code",
   "execution_count": 46,
   "metadata": {},
   "outputs": [
    {
     "data": {
      "text/plain": [
       "array([[ True, False,  True,  True,  True],\n",
       "       [ True,  True, False,  True, False],\n",
       "       [ True,  True,  True,  True,  True],\n",
       "       [False,  True,  True,  True,  True],\n",
       "       [ True,  True,  True,  True, False],\n",
       "       [False,  True,  True,  True,  True],\n",
       "       [ True,  True,  True,  True,  True],\n",
       "       [ True, False,  True,  True,  True],\n",
       "       [ True,  True,  True,  True,  True],\n",
       "       [ True,  True,  True,  True,  True],\n",
       "       [ True,  True, False,  True,  True],\n",
       "       [ True,  True,  True,  True,  True],\n",
       "       [False,  True, False,  True,  True],\n",
       "       [ True,  True,  True,  True,  True],\n",
       "       [ True,  True,  True,  True,  True],\n",
       "       [ True,  True,  True,  True,  True],\n",
       "       [ True,  True,  True,  True, False],\n",
       "       [ True,  True,  True,  True, False],\n",
       "       [ True,  True, False,  True,  True],\n",
       "       [ True,  True,  True,  True,  True]])"
      ]
     },
     "execution_count": 46,
     "metadata": {},
     "output_type": "execute_result"
    }
   ],
   "source": [
    "arr_bool = np.random.choice([True, False], size=[20, 5], p=[0.9, 0.1])\n",
    "arr_bool"
   ]
  },
  {
   "cell_type": "code",
   "execution_count": null,
   "metadata": {},
   "outputs": [],
   "source": [
    "np.any\n",
    "np.all"
   ]
  },
  {
   "cell_type": "code",
   "execution_count": null,
   "metadata": {},
   "outputs": [],
   "source": [
    "np.unique"
   ]
  },
  {
   "cell_type": "code",
   "execution_count": null,
   "metadata": {},
   "outputs": [],
   "source": [
    "np.ones\n",
    "np.zeros"
   ]
  }
 ],
 "metadata": {
  "kernelspec": {
   "display_name": "Python 3",
   "language": "python",
   "name": "python3"
  },
  "language_info": {
   "codemirror_mode": {
    "name": "ipython",
    "version": 3
   },
   "file_extension": ".py",
   "mimetype": "text/x-python",
   "name": "python",
   "nbconvert_exporter": "python",
   "pygments_lexer": "ipython3",
   "version": "3.7.2"
  }
 },
 "nbformat": 4,
 "nbformat_minor": 2
}
