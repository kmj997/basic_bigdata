{
 "cells": [
  {
   "cell_type": "code",
   "execution_count": 5,
   "metadata": {},
   "outputs": [],
   "source": [
    "# 라이브러리 임포트\n",
    "import matplotlib.pyplot as plt\n",
    "import numpy as np\n",
    "import pandas as pd\n",
    "\n",
    "from sklearn.cluster import KMeans\n",
    "from sklearn.preprocessing import StandardScaler\n",
    "\n",
    "from sklearn.metrics import adjusted_rand_score, silhouette_score, calinski_harabaz_score"
   ]
  },
  {
   "cell_type": "code",
   "execution_count": 7,
   "metadata": {},
   "outputs": [
    {
     "data": {
      "text/html": [
       "<div>\n",
       "<style scoped>\n",
       "    .dataframe tbody tr th:only-of-type {\n",
       "        vertical-align: middle;\n",
       "    }\n",
       "\n",
       "    .dataframe tbody tr th {\n",
       "        vertical-align: top;\n",
       "    }\n",
       "\n",
       "    .dataframe thead th {\n",
       "        text-align: right;\n",
       "    }\n",
       "</style>\n",
       "<table border=\"1\" class=\"dataframe\">\n",
       "  <thead>\n",
       "    <tr style=\"text-align: right;\">\n",
       "      <th></th>\n",
       "      <th>Id</th>\n",
       "      <th>SepalLengthCm</th>\n",
       "      <th>SepalWidthCm</th>\n",
       "      <th>PetalLengthCm</th>\n",
       "      <th>PetalWidthCm</th>\n",
       "      <th>Species</th>\n",
       "    </tr>\n",
       "  </thead>\n",
       "  <tbody>\n",
       "    <tr>\n",
       "      <th>0</th>\n",
       "      <td>1</td>\n",
       "      <td>5.1</td>\n",
       "      <td>3.5</td>\n",
       "      <td>1.4</td>\n",
       "      <td>0.2</td>\n",
       "      <td>Iris-setosa</td>\n",
       "    </tr>\n",
       "    <tr>\n",
       "      <th>1</th>\n",
       "      <td>2</td>\n",
       "      <td>4.9</td>\n",
       "      <td>3.0</td>\n",
       "      <td>1.4</td>\n",
       "      <td>0.2</td>\n",
       "      <td>Iris-setosa</td>\n",
       "    </tr>\n",
       "    <tr>\n",
       "      <th>2</th>\n",
       "      <td>3</td>\n",
       "      <td>4.7</td>\n",
       "      <td>3.2</td>\n",
       "      <td>1.3</td>\n",
       "      <td>0.2</td>\n",
       "      <td>Iris-setosa</td>\n",
       "    </tr>\n",
       "    <tr>\n",
       "      <th>3</th>\n",
       "      <td>4</td>\n",
       "      <td>4.6</td>\n",
       "      <td>3.1</td>\n",
       "      <td>1.5</td>\n",
       "      <td>0.2</td>\n",
       "      <td>Iris-setosa</td>\n",
       "    </tr>\n",
       "    <tr>\n",
       "      <th>4</th>\n",
       "      <td>5</td>\n",
       "      <td>5.0</td>\n",
       "      <td>3.6</td>\n",
       "      <td>1.4</td>\n",
       "      <td>0.2</td>\n",
       "      <td>Iris-setosa</td>\n",
       "    </tr>\n",
       "  </tbody>\n",
       "</table>\n",
       "</div>"
      ],
      "text/plain": [
       "   Id  SepalLengthCm  SepalWidthCm  PetalLengthCm  PetalWidthCm      Species\n",
       "0   1            5.1           3.5            1.4           0.2  Iris-setosa\n",
       "1   2            4.9           3.0            1.4           0.2  Iris-setosa\n",
       "2   3            4.7           3.2            1.3           0.2  Iris-setosa\n",
       "3   4            4.6           3.1            1.5           0.2  Iris-setosa\n",
       "4   5            5.0           3.6            1.4           0.2  Iris-setosa"
      ]
     },
     "execution_count": 7,
     "metadata": {},
     "output_type": "execute_result"
    }
   ],
   "source": [
    "# Iris 데이터 데이터 파일(Iris.csv) 불러오기\n",
    "x_df = pd.read_csv('dataset/Iris.csv')\n",
    "x_df.head()"
   ]
  },
  {
   "cell_type": "code",
   "execution_count": 12,
   "metadata": {},
   "outputs": [],
   "source": [
    "# 데이터를 numpy array 형태로 추출\n",
    "x = x_df.iloc[:, 1:5].values"
   ]
  },
  {
   "cell_type": "code",
   "execution_count": 15,
   "metadata": {},
   "outputs": [
    {
     "name": "stdout",
     "output_type": "stream",
     "text": [
      "[0. 0. 0. 0. 0. 0. 0. 0. 0. 0. 0. 0. 0. 0. 0. 0. 0. 0. 0. 0. 0. 0. 0. 0.\n",
      " 0. 0. 0. 0. 0. 0. 0. 0. 0. 0. 0. 0. 0. 0. 0. 0. 0. 0. 0. 0. 0. 0. 0. 0.\n",
      " 0. 0. 1. 1. 1. 1. 1. 1. 1. 1. 1. 1. 1. 1. 1. 1. 1. 1. 1. 1. 1. 1. 1. 1.\n",
      " 1. 1. 1. 1. 1. 1. 1. 1. 1. 1. 1. 1. 1. 1. 1. 1. 1. 1. 1. 1. 1. 1. 1. 1.\n",
      " 1. 1. 1. 1. 2. 2. 2. 2. 2. 2. 2. 2. 2. 2. 2. 2. 2. 2. 2. 2. 2. 2. 2. 2.\n",
      " 2. 2. 2. 2. 2. 2. 2. 2. 2. 2. 2. 2. 2. 2. 2. 2. 2. 2. 2. 2. 2. 2. 2. 2.\n",
      " 2. 2. 2. 2. 2. 2.]\n"
     ]
    }
   ],
   "source": [
    "# 실제 label 도출\n",
    "unique_species = np.unique(x_df['Species'])\n",
    "\n",
    "labels_true = np.zeros(x.shape[0])\n",
    "for i, species in enumerate(unique_species):\n",
    "    labels_true[x_df['Species'] == species] = i\n",
    "\n",
    "print(labels_true)"
   ]
  },
  {
   "cell_type": "code",
   "execution_count": 13,
   "metadata": {},
   "outputs": [],
   "source": [
    "# 군집 개수 후보 리스트\n",
    "num_clusters_set = np.arange(2, 21)"
   ]
  },
  {
   "cell_type": "code",
   "execution_count": 17,
   "metadata": {},
   "outputs": [
    {
     "name": "stdout",
     "output_type": "stream",
     "text": [
      "num_clusters:  2 | adjusted RI:  0.5399218294207123\n",
      "num_clusters:  3 | adjusted RI:  0.7302382722834697\n",
      "num_clusters:  4 | adjusted RI:  0.6460787233460947\n",
      "num_clusters:  5 | adjusted RI:  0.6078964652364223\n",
      "num_clusters:  6 | adjusted RI:  0.45370649337406077\n",
      "num_clusters:  7 | adjusted RI:  0.41632746212476474\n",
      "num_clusters:  8 | adjusted RI:  0.4650880794385831\n",
      "num_clusters:  9 | adjusted RI:  0.3905498994929889\n",
      "num_clusters:  10 | adjusted RI:  0.32177845382904574\n",
      "num_clusters:  11 | adjusted RI:  0.3632039367569716\n",
      "num_clusters:  12 | adjusted RI:  0.3157509559617249\n",
      "num_clusters:  13 | adjusted RI:  0.29445136434006886\n",
      "num_clusters:  14 | adjusted RI:  0.29772898937509445\n",
      "num_clusters:  15 | adjusted RI:  0.2671974058767182\n",
      "num_clusters:  16 | adjusted RI:  0.23709500907425524\n",
      "num_clusters:  17 | adjusted RI:  0.26206167736191743\n",
      "num_clusters:  18 | adjusted RI:  0.24229566274980058\n",
      "num_clusters:  19 | adjusted RI:  0.23096213940556448\n",
      "num_clusters:  20 | adjusted RI:  0.2044535041337707\n"
     ]
    }
   ],
   "source": [
    "for num_clusters in num_clusters_set:\n",
    "    kmeans = KMeans(n_clusters=num_clusters, init='k-means++')\n",
    "    kmeans.fit(x)\n",
    "    \n",
    "    labels_pred = kmeans.labels_\n",
    "    \n",
    "    print('num_clusters: ', num_clusters, \n",
    "          '| adjusted RI: ', adjusted_rand_score(labels_true, labels_pred))"
   ]
  },
  {
   "cell_type": "code",
   "execution_count": 18,
   "metadata": {},
   "outputs": [
    {
     "name": "stdout",
     "output_type": "stream",
     "text": [
      "num_clusters:  2 | silhouette:  0.6808136202936816\n",
      "num_clusters:  3 | silhouette:  0.5525919445499757\n",
      "num_clusters:  4 | silhouette:  0.4978256901095472\n",
      "num_clusters:  5 | silhouette:  0.4885175508886279\n",
      "num_clusters:  6 | silhouette:  0.36650401502359653\n",
      "num_clusters:  7 | silhouette:  0.3508759606304935\n",
      "num_clusters:  8 | silhouette:  0.3651645360269737\n",
      "num_clusters:  9 | silhouette:  0.34038584534991545\n",
      "num_clusters:  10 | silhouette:  0.32054197294326947\n",
      "num_clusters:  11 | silhouette:  0.327658887271523\n",
      "num_clusters:  12 | silhouette:  0.27853979949299645\n",
      "num_clusters:  13 | silhouette:  0.30980238241696384\n",
      "num_clusters:  14 | silhouette:  0.2797588604311969\n",
      "num_clusters:  15 | silhouette:  0.294082124876406\n",
      "num_clusters:  16 | silhouette:  0.27980014987429946\n",
      "num_clusters:  17 | silhouette:  0.27623162175663324\n",
      "num_clusters:  18 | silhouette:  0.26373149947693497\n",
      "num_clusters:  19 | silhouette:  0.28058951419674877\n",
      "num_clusters:  20 | silhouette:  0.27683503356154987\n"
     ]
    }
   ],
   "source": [
    "for num_clusters in num_clusters_set:\n",
    "    kmeans = KMeans(n_clusters=num_clusters, init='k-means++')\n",
    "    kmeans.fit(x)\n",
    "    \n",
    "    labels_pred = kmeans.labels_\n",
    "    \n",
    "    print('num_clusters: ', num_clusters, \n",
    "          '| silhouette: ', silhouette_score(x, labels_pred, 'euclidean'))"
   ]
  },
  {
   "cell_type": "code",
   "execution_count": 20,
   "metadata": {},
   "outputs": [
    {
     "name": "stdout",
     "output_type": "stream",
     "text": [
      "num_clusters:  2 | CH-index:  513.3038433517568\n",
      "num_clusters:  3 | CH-index:  560.3999242466401\n",
      "num_clusters:  4 | CH-index:  529.3982941434156\n",
      "num_clusters:  5 | CH-index:  494.0943819140986\n",
      "num_clusters:  6 | CH-index:  474.6603308371146\n",
      "num_clusters:  7 | CH-index:  447.5611102512434\n",
      "num_clusters:  8 | CH-index:  433.035942442285\n",
      "num_clusters:  9 | CH-index:  409.1685946509984\n",
      "num_clusters:  10 | CH-index:  387.7898121018463\n",
      "num_clusters:  11 | CH-index:  370.99819355075203\n",
      "num_clusters:  12 | CH-index:  354.1500533791419\n",
      "num_clusters:  13 | CH-index:  356.07578902793995\n",
      "num_clusters:  14 | CH-index:  338.01199458369643\n",
      "num_clusters:  15 | CH-index:  332.0913431668949\n",
      "num_clusters:  16 | CH-index:  321.04471924236867\n",
      "num_clusters:  17 | CH-index:  320.3389150494265\n",
      "num_clusters:  18 | CH-index:  318.4217677018849\n",
      "num_clusters:  19 | CH-index:  319.9059435608507\n",
      "num_clusters:  20 | CH-index:  319.419021307929\n"
     ]
    }
   ],
   "source": [
    "for num_clusters in num_clusters_set:\n",
    "    kmeans = KMeans(n_clusters=num_clusters, init='k-means++')\n",
    "    kmeans.fit(x)\n",
    "    \n",
    "    labels_pred = kmeans.labels_\n",
    "    \n",
    "    print('num_clusters: ', num_clusters, \n",
    "          '| CH-index: ', calinski_harabaz_score(x, labels_pred))"
   ]
  },
  {
   "cell_type": "code",
   "execution_count": null,
   "metadata": {},
   "outputs": [],
   "source": [
    "\"\"\" 실습\n",
    "    syn_unbalanced.xlsx 파일을 불러와 \n",
    "    군집수 3~15까지에 대해 적합한 군집수 후보를 5개 찾고, \n",
    "    군집 분석 방법별로 5개의 분석 결과 plot을 그리기\n",
    "\"\"\""
   ]
  }
 ],
 "metadata": {
  "kernelspec": {
   "display_name": "Python 3",
   "language": "python",
   "name": "python3"
  },
  "language_info": {
   "codemirror_mode": {
    "name": "ipython",
    "version": 3
   },
   "file_extension": ".py",
   "mimetype": "text/x-python",
   "name": "python",
   "nbconvert_exporter": "python",
   "pygments_lexer": "ipython3",
   "version": "3.7.2"
  }
 },
 "nbformat": 4,
 "nbformat_minor": 2
}
